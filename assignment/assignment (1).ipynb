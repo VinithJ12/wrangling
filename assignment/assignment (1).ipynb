{
  "cells": [
    {
      "cell_type": "markdown",
      "id": "13ad028b-72b7-43ed-aa78-96fd4e518040",
      "metadata": {
        "id": "13ad028b-72b7-43ed-aa78-96fd4e518040"
      },
      "source": [
        "# Assignment: Data Wrangling\n",
        "### `! git clone https://github.com/ds4e/wrangling`\n",
        "### Do Q1 and Q2, and either Q3 or Q4, for a total of 3 questions."
      ]
    },
    {
      "cell_type": "markdown",
      "id": "da879ea7-8aac-48a3-b6c2-daea56d2e072",
      "metadata": {
        "id": "da879ea7-8aac-48a3-b6c2-daea56d2e072"
      },
      "source": [
        "**Q1.** This question provides some practice cleaning variables which have common problems.\n",
        "1. Numeric variable: For `./data/airbnb_hw.csv`, clean the `Price` variable as well as you can, and explain the choices you make. How many missing values do you end up with? (Hint: What happens to the formatting when a price goes over 999 dollars, say from 675 to 1,112?)\n",
        "2. Categorical variable: For the Minnesota police use of for data, `./data/mn_police_use_of_force.csv`, clean the `subject_injury` variable, handling the NA's; this gives a value `Yes` when a person was injured by police, and `No` when no injury occurred. What proportion of the values are missing? Is this a concern? Cross-tabulate your cleaned `subject_injury` variable with the `force_type` variable. Are there any patterns regarding when the data are missing?\n",
        "3. Dummy variable: For the pretrial data covered in the lecture, clean the `WhetherDefendantWasReleasedPretrial` variable as well as you can, and, in particular, replace missing values with `np.nan`.\n",
        "4. Missing values, not at random: For the pretrial data covered in the lecture, clean the `ImposedSentenceAllChargeInContactEvent` variable as well as you can, and explain the choices you make. (Hint: Look at the `SentenceTypeAllChargesAtConvictionInContactEvent` variable.)"
      ]
    },
    {
      "cell_type": "markdown",
      "source": [
        "QUESTION 1"
      ],
      "metadata": {
        "id": "8CyKtGJw9W_d"
      },
      "id": "8CyKtGJw9W_d"
    },
    {
      "cell_type": "code",
      "source": [
        "import pandas as pd\n",
        "import numpy as np\n",
        "import matplotlib.pyplot as plt\n",
        "import seaborn as sns"
      ],
      "metadata": {
        "id": "cql0QHeX6bYZ"
      },
      "id": "cql0QHeX6bYZ",
      "execution_count": 585,
      "outputs": []
    },
    {
      "cell_type": "markdown",
      "source": [],
      "metadata": {
        "id": "lyz2YTkj9YdD"
      },
      "id": "lyz2YTkj9YdD"
    },
    {
      "cell_type": "code",
      "source": [
        "! git clone https://github.com/ds4e/wrangling"
      ],
      "metadata": {
        "colab": {
          "base_uri": "https://localhost:8080/"
        },
        "id": "YRrkujFR7XJc",
        "outputId": "498fd41e-2b98-4ade-88a7-29996c3d69da"
      },
      "id": "YRrkujFR7XJc",
      "execution_count": 586,
      "outputs": [
        {
          "output_type": "stream",
          "name": "stdout",
          "text": [
            "fatal: destination path 'wrangling' already exists and is not an empty directory.\n"
          ]
        }
      ]
    },
    {
      "cell_type": "code",
      "source": [
        "df = pd.read_csv(\"./wrangling/assignment/data/airbnb_hw.csv\") # accessing the data"
      ],
      "metadata": {
        "id": "heLkR0hd58Z3"
      },
      "id": "heLkR0hd58Z3",
      "execution_count": 587,
      "outputs": []
    },
    {
      "cell_type": "code",
      "source": [
        "df.head() # viewing the data"
      ],
      "metadata": {
        "colab": {
          "base_uri": "https://localhost:8080/",
          "height": 379
        },
        "collapsed": true,
        "id": "AKKu2LMG7Qyk",
        "outputId": "a353a8e8-e609-48e1-b92a-0a7538e73d80"
      },
      "id": "AKKu2LMG7Qyk",
      "execution_count": 588,
      "outputs": [
        {
          "output_type": "execute_result",
          "data": {
            "text/plain": [
              "    Host Id Host Since                                Name Neighbourhood   \\\n",
              "0   5162530        NaN     1 Bedroom in Prime Williamsburg       Brooklyn   \n",
              "1  33134899        NaN     Sunny, Private room in Bushwick       Brooklyn   \n",
              "2  39608626        NaN                Sunny Room in Harlem      Manhattan   \n",
              "3       500  6/26/2008  Gorgeous 1 BR with Private Balcony      Manhattan   \n",
              "4       500  6/26/2008            Trendy Times Square Loft      Manhattan   \n",
              "\n",
              "  Property Type  Review Scores Rating (bin)        Room Type  Zipcode  Beds  \\\n",
              "0     Apartment                         NaN  Entire home/apt  11249.0   1.0   \n",
              "1     Apartment                         NaN     Private room  11206.0   1.0   \n",
              "2     Apartment                         NaN     Private room  10032.0   1.0   \n",
              "3     Apartment                         NaN  Entire home/apt  10024.0   3.0   \n",
              "4     Apartment                        95.0     Private room  10036.0   3.0   \n",
              "\n",
              "   Number of Records  Number Of Reviews Price  Review Scores Rating  \n",
              "0                  1                  0   145                   NaN  \n",
              "1                  1                  1    37                   NaN  \n",
              "2                  1                  1    28                   NaN  \n",
              "3                  1                  0   199                   NaN  \n",
              "4                  1                 39   549                  96.0  "
            ],
            "text/html": [
              "\n",
              "  <div id=\"df-da74547c-a328-4455-826f-950a5ee1a782\" class=\"colab-df-container\">\n",
              "    <div>\n",
              "<style scoped>\n",
              "    .dataframe tbody tr th:only-of-type {\n",
              "        vertical-align: middle;\n",
              "    }\n",
              "\n",
              "    .dataframe tbody tr th {\n",
              "        vertical-align: top;\n",
              "    }\n",
              "\n",
              "    .dataframe thead th {\n",
              "        text-align: right;\n",
              "    }\n",
              "</style>\n",
              "<table border=\"1\" class=\"dataframe\">\n",
              "  <thead>\n",
              "    <tr style=\"text-align: right;\">\n",
              "      <th></th>\n",
              "      <th>Host Id</th>\n",
              "      <th>Host Since</th>\n",
              "      <th>Name</th>\n",
              "      <th>Neighbourhood</th>\n",
              "      <th>Property Type</th>\n",
              "      <th>Review Scores Rating (bin)</th>\n",
              "      <th>Room Type</th>\n",
              "      <th>Zipcode</th>\n",
              "      <th>Beds</th>\n",
              "      <th>Number of Records</th>\n",
              "      <th>Number Of Reviews</th>\n",
              "      <th>Price</th>\n",
              "      <th>Review Scores Rating</th>\n",
              "    </tr>\n",
              "  </thead>\n",
              "  <tbody>\n",
              "    <tr>\n",
              "      <th>0</th>\n",
              "      <td>5162530</td>\n",
              "      <td>NaN</td>\n",
              "      <td>1 Bedroom in Prime Williamsburg</td>\n",
              "      <td>Brooklyn</td>\n",
              "      <td>Apartment</td>\n",
              "      <td>NaN</td>\n",
              "      <td>Entire home/apt</td>\n",
              "      <td>11249.0</td>\n",
              "      <td>1.0</td>\n",
              "      <td>1</td>\n",
              "      <td>0</td>\n",
              "      <td>145</td>\n",
              "      <td>NaN</td>\n",
              "    </tr>\n",
              "    <tr>\n",
              "      <th>1</th>\n",
              "      <td>33134899</td>\n",
              "      <td>NaN</td>\n",
              "      <td>Sunny, Private room in Bushwick</td>\n",
              "      <td>Brooklyn</td>\n",
              "      <td>Apartment</td>\n",
              "      <td>NaN</td>\n",
              "      <td>Private room</td>\n",
              "      <td>11206.0</td>\n",
              "      <td>1.0</td>\n",
              "      <td>1</td>\n",
              "      <td>1</td>\n",
              "      <td>37</td>\n",
              "      <td>NaN</td>\n",
              "    </tr>\n",
              "    <tr>\n",
              "      <th>2</th>\n",
              "      <td>39608626</td>\n",
              "      <td>NaN</td>\n",
              "      <td>Sunny Room in Harlem</td>\n",
              "      <td>Manhattan</td>\n",
              "      <td>Apartment</td>\n",
              "      <td>NaN</td>\n",
              "      <td>Private room</td>\n",
              "      <td>10032.0</td>\n",
              "      <td>1.0</td>\n",
              "      <td>1</td>\n",
              "      <td>1</td>\n",
              "      <td>28</td>\n",
              "      <td>NaN</td>\n",
              "    </tr>\n",
              "    <tr>\n",
              "      <th>3</th>\n",
              "      <td>500</td>\n",
              "      <td>6/26/2008</td>\n",
              "      <td>Gorgeous 1 BR with Private Balcony</td>\n",
              "      <td>Manhattan</td>\n",
              "      <td>Apartment</td>\n",
              "      <td>NaN</td>\n",
              "      <td>Entire home/apt</td>\n",
              "      <td>10024.0</td>\n",
              "      <td>3.0</td>\n",
              "      <td>1</td>\n",
              "      <td>0</td>\n",
              "      <td>199</td>\n",
              "      <td>NaN</td>\n",
              "    </tr>\n",
              "    <tr>\n",
              "      <th>4</th>\n",
              "      <td>500</td>\n",
              "      <td>6/26/2008</td>\n",
              "      <td>Trendy Times Square Loft</td>\n",
              "      <td>Manhattan</td>\n",
              "      <td>Apartment</td>\n",
              "      <td>95.0</td>\n",
              "      <td>Private room</td>\n",
              "      <td>10036.0</td>\n",
              "      <td>3.0</td>\n",
              "      <td>1</td>\n",
              "      <td>39</td>\n",
              "      <td>549</td>\n",
              "      <td>96.0</td>\n",
              "    </tr>\n",
              "  </tbody>\n",
              "</table>\n",
              "</div>\n",
              "    <div class=\"colab-df-buttons\">\n",
              "\n",
              "  <div class=\"colab-df-container\">\n",
              "    <button class=\"colab-df-convert\" onclick=\"convertToInteractive('df-da74547c-a328-4455-826f-950a5ee1a782')\"\n",
              "            title=\"Convert this dataframe to an interactive table.\"\n",
              "            style=\"display:none;\">\n",
              "\n",
              "  <svg xmlns=\"http://www.w3.org/2000/svg\" height=\"24px\" viewBox=\"0 -960 960 960\">\n",
              "    <path d=\"M120-120v-720h720v720H120Zm60-500h600v-160H180v160Zm220 220h160v-160H400v160Zm0 220h160v-160H400v160ZM180-400h160v-160H180v160Zm440 0h160v-160H620v160ZM180-180h160v-160H180v160Zm440 0h160v-160H620v160Z\"/>\n",
              "  </svg>\n",
              "    </button>\n",
              "\n",
              "  <style>\n",
              "    .colab-df-container {\n",
              "      display:flex;\n",
              "      gap: 12px;\n",
              "    }\n",
              "\n",
              "    .colab-df-convert {\n",
              "      background-color: #E8F0FE;\n",
              "      border: none;\n",
              "      border-radius: 50%;\n",
              "      cursor: pointer;\n",
              "      display: none;\n",
              "      fill: #1967D2;\n",
              "      height: 32px;\n",
              "      padding: 0 0 0 0;\n",
              "      width: 32px;\n",
              "    }\n",
              "\n",
              "    .colab-df-convert:hover {\n",
              "      background-color: #E2EBFA;\n",
              "      box-shadow: 0px 1px 2px rgba(60, 64, 67, 0.3), 0px 1px 3px 1px rgba(60, 64, 67, 0.15);\n",
              "      fill: #174EA6;\n",
              "    }\n",
              "\n",
              "    .colab-df-buttons div {\n",
              "      margin-bottom: 4px;\n",
              "    }\n",
              "\n",
              "    [theme=dark] .colab-df-convert {\n",
              "      background-color: #3B4455;\n",
              "      fill: #D2E3FC;\n",
              "    }\n",
              "\n",
              "    [theme=dark] .colab-df-convert:hover {\n",
              "      background-color: #434B5C;\n",
              "      box-shadow: 0px 1px 3px 1px rgba(0, 0, 0, 0.15);\n",
              "      filter: drop-shadow(0px 1px 2px rgba(0, 0, 0, 0.3));\n",
              "      fill: #FFFFFF;\n",
              "    }\n",
              "  </style>\n",
              "\n",
              "    <script>\n",
              "      const buttonEl =\n",
              "        document.querySelector('#df-da74547c-a328-4455-826f-950a5ee1a782 button.colab-df-convert');\n",
              "      buttonEl.style.display =\n",
              "        google.colab.kernel.accessAllowed ? 'block' : 'none';\n",
              "\n",
              "      async function convertToInteractive(key) {\n",
              "        const element = document.querySelector('#df-da74547c-a328-4455-826f-950a5ee1a782');\n",
              "        const dataTable =\n",
              "          await google.colab.kernel.invokeFunction('convertToInteractive',\n",
              "                                                    [key], {});\n",
              "        if (!dataTable) return;\n",
              "\n",
              "        const docLinkHtml = 'Like what you see? Visit the ' +\n",
              "          '<a target=\"_blank\" href=https://colab.research.google.com/notebooks/data_table.ipynb>data table notebook</a>'\n",
              "          + ' to learn more about interactive tables.';\n",
              "        element.innerHTML = '';\n",
              "        dataTable['output_type'] = 'display_data';\n",
              "        await google.colab.output.renderOutput(dataTable, element);\n",
              "        const docLink = document.createElement('div');\n",
              "        docLink.innerHTML = docLinkHtml;\n",
              "        element.appendChild(docLink);\n",
              "      }\n",
              "    </script>\n",
              "  </div>\n",
              "\n",
              "\n",
              "<div id=\"df-381d667b-e23b-445f-b5b3-90b72fe78eff\">\n",
              "  <button class=\"colab-df-quickchart\" onclick=\"quickchart('df-381d667b-e23b-445f-b5b3-90b72fe78eff')\"\n",
              "            title=\"Suggest charts\"\n",
              "            style=\"display:none;\">\n",
              "\n",
              "<svg xmlns=\"http://www.w3.org/2000/svg\" height=\"24px\"viewBox=\"0 0 24 24\"\n",
              "     width=\"24px\">\n",
              "    <g>\n",
              "        <path d=\"M19 3H5c-1.1 0-2 .9-2 2v14c0 1.1.9 2 2 2h14c1.1 0 2-.9 2-2V5c0-1.1-.9-2-2-2zM9 17H7v-7h2v7zm4 0h-2V7h2v10zm4 0h-2v-4h2v4z\"/>\n",
              "    </g>\n",
              "</svg>\n",
              "  </button>\n",
              "\n",
              "<style>\n",
              "  .colab-df-quickchart {\n",
              "      --bg-color: #E8F0FE;\n",
              "      --fill-color: #1967D2;\n",
              "      --hover-bg-color: #E2EBFA;\n",
              "      --hover-fill-color: #174EA6;\n",
              "      --disabled-fill-color: #AAA;\n",
              "      --disabled-bg-color: #DDD;\n",
              "  }\n",
              "\n",
              "  [theme=dark] .colab-df-quickchart {\n",
              "      --bg-color: #3B4455;\n",
              "      --fill-color: #D2E3FC;\n",
              "      --hover-bg-color: #434B5C;\n",
              "      --hover-fill-color: #FFFFFF;\n",
              "      --disabled-bg-color: #3B4455;\n",
              "      --disabled-fill-color: #666;\n",
              "  }\n",
              "\n",
              "  .colab-df-quickchart {\n",
              "    background-color: var(--bg-color);\n",
              "    border: none;\n",
              "    border-radius: 50%;\n",
              "    cursor: pointer;\n",
              "    display: none;\n",
              "    fill: var(--fill-color);\n",
              "    height: 32px;\n",
              "    padding: 0;\n",
              "    width: 32px;\n",
              "  }\n",
              "\n",
              "  .colab-df-quickchart:hover {\n",
              "    background-color: var(--hover-bg-color);\n",
              "    box-shadow: 0 1px 2px rgba(60, 64, 67, 0.3), 0 1px 3px 1px rgba(60, 64, 67, 0.15);\n",
              "    fill: var(--button-hover-fill-color);\n",
              "  }\n",
              "\n",
              "  .colab-df-quickchart-complete:disabled,\n",
              "  .colab-df-quickchart-complete:disabled:hover {\n",
              "    background-color: var(--disabled-bg-color);\n",
              "    fill: var(--disabled-fill-color);\n",
              "    box-shadow: none;\n",
              "  }\n",
              "\n",
              "  .colab-df-spinner {\n",
              "    border: 2px solid var(--fill-color);\n",
              "    border-color: transparent;\n",
              "    border-bottom-color: var(--fill-color);\n",
              "    animation:\n",
              "      spin 1s steps(1) infinite;\n",
              "  }\n",
              "\n",
              "  @keyframes spin {\n",
              "    0% {\n",
              "      border-color: transparent;\n",
              "      border-bottom-color: var(--fill-color);\n",
              "      border-left-color: var(--fill-color);\n",
              "    }\n",
              "    20% {\n",
              "      border-color: transparent;\n",
              "      border-left-color: var(--fill-color);\n",
              "      border-top-color: var(--fill-color);\n",
              "    }\n",
              "    30% {\n",
              "      border-color: transparent;\n",
              "      border-left-color: var(--fill-color);\n",
              "      border-top-color: var(--fill-color);\n",
              "      border-right-color: var(--fill-color);\n",
              "    }\n",
              "    40% {\n",
              "      border-color: transparent;\n",
              "      border-right-color: var(--fill-color);\n",
              "      border-top-color: var(--fill-color);\n",
              "    }\n",
              "    60% {\n",
              "      border-color: transparent;\n",
              "      border-right-color: var(--fill-color);\n",
              "    }\n",
              "    80% {\n",
              "      border-color: transparent;\n",
              "      border-right-color: var(--fill-color);\n",
              "      border-bottom-color: var(--fill-color);\n",
              "    }\n",
              "    90% {\n",
              "      border-color: transparent;\n",
              "      border-bottom-color: var(--fill-color);\n",
              "    }\n",
              "  }\n",
              "</style>\n",
              "\n",
              "  <script>\n",
              "    async function quickchart(key) {\n",
              "      const quickchartButtonEl =\n",
              "        document.querySelector('#' + key + ' button');\n",
              "      quickchartButtonEl.disabled = true;  // To prevent multiple clicks.\n",
              "      quickchartButtonEl.classList.add('colab-df-spinner');\n",
              "      try {\n",
              "        const charts = await google.colab.kernel.invokeFunction(\n",
              "            'suggestCharts', [key], {});\n",
              "      } catch (error) {\n",
              "        console.error('Error during call to suggestCharts:', error);\n",
              "      }\n",
              "      quickchartButtonEl.classList.remove('colab-df-spinner');\n",
              "      quickchartButtonEl.classList.add('colab-df-quickchart-complete');\n",
              "    }\n",
              "    (() => {\n",
              "      let quickchartButtonEl =\n",
              "        document.querySelector('#df-381d667b-e23b-445f-b5b3-90b72fe78eff button');\n",
              "      quickchartButtonEl.style.display =\n",
              "        google.colab.kernel.accessAllowed ? 'block' : 'none';\n",
              "    })();\n",
              "  </script>\n",
              "</div>\n",
              "\n",
              "    </div>\n",
              "  </div>\n"
            ],
            "application/vnd.google.colaboratory.intrinsic+json": {
              "type": "dataframe",
              "variable_name": "df",
              "summary": "{\n  \"name\": \"df\",\n  \"rows\": 30478,\n  \"fields\": [\n    {\n      \"column\": \"Host Id\",\n      \"properties\": {\n        \"dtype\": \"number\",\n        \"std\": 11902702,\n        \"min\": 500,\n        \"max\": 43033067,\n        \"num_unique_values\": 24421,\n        \"samples\": [\n          24093114,\n          16925490,\n          2886652\n        ],\n        \"semantic_type\": \"\",\n        \"description\": \"\"\n      }\n    },\n    {\n      \"column\": \"Host Since\",\n      \"properties\": {\n        \"dtype\": \"date\",\n        \"min\": \"2008-06-26 00:00:00\",\n        \"max\": \"2015-08-31 00:00:00\",\n        \"num_unique_values\": 2240,\n        \"samples\": [\n          \"5/20/2010\",\n          \"7/2/2009\",\n          \"4/18/2015\"\n        ],\n        \"semantic_type\": \"\",\n        \"description\": \"\"\n      }\n    },\n    {\n      \"column\": \"Name\",\n      \"properties\": {\n        \"dtype\": \"string\",\n        \"num_unique_values\": 29413,\n        \"samples\": [\n          \"Explore the beauty of Brooklyn\",\n          \"Sunny Room in Williamsburg Loft\",\n          \"cozy one bedroom in lower east side\"\n        ],\n        \"semantic_type\": \"\",\n        \"description\": \"\"\n      }\n    },\n    {\n      \"column\": \"Neighbourhood \",\n      \"properties\": {\n        \"dtype\": \"category\",\n        \"num_unique_values\": 5,\n        \"samples\": [\n          \"Manhattan\",\n          \"Staten Island\",\n          \"Queens\"\n        ],\n        \"semantic_type\": \"\",\n        \"description\": \"\"\n      }\n    },\n    {\n      \"column\": \"Property Type\",\n      \"properties\": {\n        \"dtype\": \"category\",\n        \"num_unique_values\": 19,\n        \"samples\": [\n          \"Apartment\",\n          \"Condominium\",\n          \"Bungalow\"\n        ],\n        \"semantic_type\": \"\",\n        \"description\": \"\"\n      }\n    },\n    {\n      \"column\": \"Review Scores Rating (bin)\",\n      \"properties\": {\n        \"dtype\": \"number\",\n        \"std\": 9.05951861814779,\n        \"min\": 20.0,\n        \"max\": 100.0,\n        \"num_unique_values\": 15,\n        \"samples\": [\n          40.0,\n          20.0,\n          95.0\n        ],\n        \"semantic_type\": \"\",\n        \"description\": \"\"\n      }\n    },\n    {\n      \"column\": \"Room Type\",\n      \"properties\": {\n        \"dtype\": \"category\",\n        \"num_unique_values\": 3,\n        \"samples\": [\n          \"Entire home/apt\",\n          \"Private room\",\n          \"Shared room\"\n        ],\n        \"semantic_type\": \"\",\n        \"description\": \"\"\n      }\n    },\n    {\n      \"column\": \"Zipcode\",\n      \"properties\": {\n        \"dtype\": \"number\",\n        \"std\": 921.2993969568683,\n        \"min\": 1003.0,\n        \"max\": 99135.0,\n        \"num_unique_values\": 188,\n        \"samples\": [\n          11414.0,\n          11239.0,\n          11365.0\n        ],\n        \"semantic_type\": \"\",\n        \"description\": \"\"\n      }\n    },\n    {\n      \"column\": \"Beds\",\n      \"properties\": {\n        \"dtype\": \"number\",\n        \"std\": 1.0153587174802678,\n        \"min\": 0.0,\n        \"max\": 16.0,\n        \"num_unique_values\": 14,\n        \"samples\": [\n          12.0,\n          16.0,\n          1.0\n        ],\n        \"semantic_type\": \"\",\n        \"description\": \"\"\n      }\n    },\n    {\n      \"column\": \"Number of Records\",\n      \"properties\": {\n        \"dtype\": \"number\",\n        \"std\": 0,\n        \"min\": 1,\n        \"max\": 1,\n        \"num_unique_values\": 1,\n        \"samples\": [\n          1\n        ],\n        \"semantic_type\": \"\",\n        \"description\": \"\"\n      }\n    },\n    {\n      \"column\": \"Number Of Reviews\",\n      \"properties\": {\n        \"dtype\": \"number\",\n        \"std\": 21,\n        \"min\": 0,\n        \"max\": 257,\n        \"num_unique_values\": 205,\n        \"samples\": [\n          171\n        ],\n        \"semantic_type\": \"\",\n        \"description\": \"\"\n      }\n    },\n    {\n      \"column\": \"Price\",\n      \"properties\": {\n        \"dtype\": \"category\",\n        \"num_unique_values\": 511,\n        \"samples\": [\n          \"299\"\n        ],\n        \"semantic_type\": \"\",\n        \"description\": \"\"\n      }\n    },\n    {\n      \"column\": \"Review Scores Rating\",\n      \"properties\": {\n        \"dtype\": \"number\",\n        \"std\": 8.850373136231884,\n        \"min\": 20.0,\n        \"max\": 100.0,\n        \"num_unique_values\": 51,\n        \"samples\": [\n          58.0\n        ],\n        \"semantic_type\": \"\",\n        \"description\": \"\"\n      }\n    }\n  ]\n}"
            }
          },
          "metadata": {},
          "execution_count": 588
        }
      ]
    },
    {
      "cell_type": "code",
      "source": [
        "df['Price'].isnull().sum() # checking for missing values ( no missing values)"
      ],
      "metadata": {
        "colab": {
          "base_uri": "https://localhost:8080/"
        },
        "id": "f6UJwm3y8gFU",
        "outputId": "1730ad09-e166-4d8b-970a-64af74338e22"
      },
      "id": "f6UJwm3y8gFU",
      "execution_count": 589,
      "outputs": [
        {
          "output_type": "execute_result",
          "data": {
            "text/plain": [
              "0"
            ]
          },
          "metadata": {},
          "execution_count": 589
        }
      ]
    },
    {
      "cell_type": "code",
      "source": [
        "df[\"Price\"].head()"
      ],
      "metadata": {
        "colab": {
          "base_uri": "https://localhost:8080/",
          "height": 241
        },
        "id": "WXuohwZv9V30",
        "outputId": "0b8a1bce-4a22-467c-d413-27ec2b5003b6"
      },
      "id": "WXuohwZv9V30",
      "execution_count": 590,
      "outputs": [
        {
          "output_type": "execute_result",
          "data": {
            "text/plain": [
              "0    145\n",
              "1     37\n",
              "2     28\n",
              "3    199\n",
              "4    549\n",
              "Name: Price, dtype: object"
            ],
            "text/html": [
              "<div>\n",
              "<style scoped>\n",
              "    .dataframe tbody tr th:only-of-type {\n",
              "        vertical-align: middle;\n",
              "    }\n",
              "\n",
              "    .dataframe tbody tr th {\n",
              "        vertical-align: top;\n",
              "    }\n",
              "\n",
              "    .dataframe thead th {\n",
              "        text-align: right;\n",
              "    }\n",
              "</style>\n",
              "<table border=\"1\" class=\"dataframe\">\n",
              "  <thead>\n",
              "    <tr style=\"text-align: right;\">\n",
              "      <th></th>\n",
              "      <th>Price</th>\n",
              "    </tr>\n",
              "  </thead>\n",
              "  <tbody>\n",
              "    <tr>\n",
              "      <th>0</th>\n",
              "      <td>145</td>\n",
              "    </tr>\n",
              "    <tr>\n",
              "      <th>1</th>\n",
              "      <td>37</td>\n",
              "    </tr>\n",
              "    <tr>\n",
              "      <th>2</th>\n",
              "      <td>28</td>\n",
              "    </tr>\n",
              "    <tr>\n",
              "      <th>3</th>\n",
              "      <td>199</td>\n",
              "    </tr>\n",
              "    <tr>\n",
              "      <th>4</th>\n",
              "      <td>549</td>\n",
              "    </tr>\n",
              "  </tbody>\n",
              "</table>\n",
              "</div><br><label><b>dtype:</b> object</label>"
            ]
          },
          "metadata": {},
          "execution_count": 590
        }
      ]
    },
    {
      "cell_type": "code",
      "source": [
        "df[\"Price\"].unique() # I noticed that number beyond 999 have a comman in them ( we should remove them to ensure consistency) ( We use this to see which different types of data we have (checking for inconsistencies))"
      ],
      "metadata": {
        "colab": {
          "base_uri": "https://localhost:8080/"
        },
        "id": "mDYKj0Sj91Qm",
        "outputId": "dbd0d097-0d00-494a-9727-7496c6066a0e"
      },
      "id": "mDYKj0Sj91Qm",
      "execution_count": 591,
      "outputs": [
        {
          "output_type": "execute_result",
          "data": {
            "text/plain": [
              "array(['145', '37', '28', '199', '549', '149', '250', '90', '270', '290',\n",
              "       '170', '59', '49', '68', '285', '75', '100', '150', '700', '125',\n",
              "       '175', '40', '89', '95', '99', '499', '120', '79', '110', '180',\n",
              "       '143', '230', '350', '135', '85', '60', '70', '55', '44', '200',\n",
              "       '165', '115', '74', '84', '129', '50', '185', '80', '190', '140',\n",
              "       '45', '65', '225', '600', '109', '1,990', '73', '240', '72', '105',\n",
              "       '155', '160', '42', '132', '117', '295', '280', '159', '107', '69',\n",
              "       '239', '220', '399', '130', '375', '585', '275', '139', '260',\n",
              "       '35', '133', '300', '289', '179', '98', '195', '29', '27', '39',\n",
              "       '249', '192', '142', '169', '1,000', '131', '138', '113', '122',\n",
              "       '329', '101', '475', '238', '272', '308', '126', '235', '315',\n",
              "       '248', '128', '56', '207', '450', '215', '210', '385', '445',\n",
              "       '136', '247', '118', '77', '76', '92', '198', '205', '299', '222',\n",
              "       '245', '104', '153', '349', '114', '320', '292', '226', '420',\n",
              "       '500', '325', '307', '78', '265', '108', '123', '189', '32', '58',\n",
              "       '86', '219', '800', '335', '63', '229', '425', '67', '87', '1,200',\n",
              "       '158', '650', '234', '310', '695', '400', '166', '119', '62',\n",
              "       '168', '340', '479', '43', '395', '144', '52', '47', '529', '187',\n",
              "       '209', '233', '82', '269', '163', '172', '305', '156', '550',\n",
              "       '435', '137', '124', '48', '279', '330', '5,000', '134', '378',\n",
              "       '97', '277', '64', '193', '147', '186', '264', '30', '3,000',\n",
              "       '112', '94', '379', '57', '415', '236', '410', '214', '88', '66',\n",
              "       '71', '171', '157', '545', '1,500', '83', '96', '1,800', '81',\n",
              "       '188', '380', '255', '505', '54', '33', '174', '93', '740', '640',\n",
              "       '1,300', '440', '599', '357', '1,239', '495', '127', '5,999',\n",
              "       '178', '348', '152', '242', '183', '253', '750', '259', '365',\n",
              "       '273', '197', '397', '103', '389', '355', '559', '38', '203',\n",
              "       '999', '141', '162', '333', '698', '46', '360', '895', '10', '41',\n",
              "       '206', '281', '449', '388', '212', '102', '201', '2,750', '4,750',\n",
              "       '432', '675', '167', '390', '298', '339', '194', '302', '211',\n",
              "       '595', '191', '53', '361', '480', '8,000', '4,500', '459', '997',\n",
              "       '345', '216', '218', '111', '735', '276', '91', '490', '850',\n",
              "       '398', '36', '775', '267', '625', '336', '2,500', '176', '725',\n",
              "       '3,750', '469', '106', '460', '287', '575', '227', '263', '25',\n",
              "       '228', '208', '177', '880', '148', '116', '685', '470', '217',\n",
              "       '164', '61', '645', '699', '405', '252', '319', '268', '419',\n",
              "       '343', '525', '311', '840', '154', '294', '950', '409', '184',\n",
              "       '257', '204', '241', '2,000', '412', '121', '288', '196', '900',\n",
              "       '647', '524', '1,750', '309', '510', '1,495', '1,700', '799',\n",
              "       '383', '372', '492', '327', '1,999', '656', '224', '173', '875',\n",
              "       '1,170', '795', '690', '146', '465', '1,100', '151', '274', '429',\n",
              "       '825', '282', '256', '1,111', '620', '271', '161', '51', '855',\n",
              "       '579', '1,174', '430', '20', '899', '649', '485', '181', '455',\n",
              "       '4,000', '243', '342', '590', '560', '374', '437', '232', '359',\n",
              "       '985', '31', '244', '254', '723', '237', '428', '370', '34',\n",
              "       '1,400', '580', '2,520', '221', '749', '1,600', '2,695', '306',\n",
              "       '202', '680', '570', '520', '223', '2,295', '213', '1,065', '346',\n",
              "       '24', '286', '296', '266', '26', '995', '1,368', '393', '182',\n",
              "       '635', '258', '780', '589', '347', '1,250', '1,350', '446',\n",
              "       '3,200', '1,050', '1,650', '1,550', '975', '323', '6,500', '2,499',\n",
              "       '1,850', '2,250', '715', '461', '540', '356', '439', '384', '569',\n",
              "       '1,900', '22', '785', '626', '830', '318', '444', '321', '401',\n",
              "       '1,499', '888', '369', '770', '386', '366', '344', '630', '313',\n",
              "       '597', '262', '509', '10,000', '278', '312', '789', '1,195', '422',\n",
              "       '21', '765', '3,500', '945', '326', '3,100', '2,486', '3,390',\n",
              "       '1,356', '2,599', '472', '454', '328', '396', '291'], dtype=object)"
            ]
          },
          "metadata": {},
          "execution_count": 591
        }
      ]
    },
    {
      "cell_type": "code",
      "source": [
        "df[\"Price\"] = df['Price'].str.replace(',', '').astype(int) # removing the commas, and changing data type because we don't want string as numbers"
      ],
      "metadata": {
        "id": "dH-VJpXV-P8R"
      },
      "id": "dH-VJpXV-P8R",
      "execution_count": 592,
      "outputs": []
    },
    {
      "cell_type": "code",
      "source": [
        "df = df.dropna(subset=[\"Price\"]) #removing missing values (just in case)"
      ],
      "metadata": {
        "id": "l1xgpi_4-rUB"
      },
      "id": "l1xgpi_4-rUB",
      "execution_count": 593,
      "outputs": []
    },
    {
      "cell_type": "code",
      "source": [
        "df[\"Price\"].unique() # checking if the commas are gone and the data type has changed"
      ],
      "metadata": {
        "colab": {
          "base_uri": "https://localhost:8080/"
        },
        "id": "SjEiWue5-bI-",
        "outputId": "0c77696a-bd3d-4fad-de8b-6d4c44dabff1"
      },
      "id": "SjEiWue5-bI-",
      "execution_count": 594,
      "outputs": [
        {
          "output_type": "execute_result",
          "data": {
            "text/plain": [
              "array([  145,    37,    28,   199,   549,   149,   250,    90,   270,\n",
              "         290,   170,    59,    49,    68,   285,    75,   100,   150,\n",
              "         700,   125,   175,    40,    89,    95,    99,   499,   120,\n",
              "          79,   110,   180,   143,   230,   350,   135,    85,    60,\n",
              "          70,    55,    44,   200,   165,   115,    74,    84,   129,\n",
              "          50,   185,    80,   190,   140,    45,    65,   225,   600,\n",
              "         109,  1990,    73,   240,    72,   105,   155,   160,    42,\n",
              "         132,   117,   295,   280,   159,   107,    69,   239,   220,\n",
              "         399,   130,   375,   585,   275,   139,   260,    35,   133,\n",
              "         300,   289,   179,    98,   195,    29,    27,    39,   249,\n",
              "         192,   142,   169,  1000,   131,   138,   113,   122,   329,\n",
              "         101,   475,   238,   272,   308,   126,   235,   315,   248,\n",
              "         128,    56,   207,   450,   215,   210,   385,   445,   136,\n",
              "         247,   118,    77,    76,    92,   198,   205,   299,   222,\n",
              "         245,   104,   153,   349,   114,   320,   292,   226,   420,\n",
              "         500,   325,   307,    78,   265,   108,   123,   189,    32,\n",
              "          58,    86,   219,   800,   335,    63,   229,   425,    67,\n",
              "          87,  1200,   158,   650,   234,   310,   695,   400,   166,\n",
              "         119,    62,   168,   340,   479,    43,   395,   144,    52,\n",
              "          47,   529,   187,   209,   233,    82,   269,   163,   172,\n",
              "         305,   156,   550,   435,   137,   124,    48,   279,   330,\n",
              "        5000,   134,   378,    97,   277,    64,   193,   147,   186,\n",
              "         264,    30,  3000,   112,    94,   379,    57,   415,   236,\n",
              "         410,   214,    88,    66,    71,   171,   157,   545,  1500,\n",
              "          83,    96,  1800,    81,   188,   380,   255,   505,    54,\n",
              "          33,   174,    93,   740,   640,  1300,   440,   599,   357,\n",
              "        1239,   495,   127,  5999,   178,   348,   152,   242,   183,\n",
              "         253,   750,   259,   365,   273,   197,   397,   103,   389,\n",
              "         355,   559,    38,   203,   999,   141,   162,   333,   698,\n",
              "          46,   360,   895,    10,    41,   206,   281,   449,   388,\n",
              "         212,   102,   201,  2750,  4750,   432,   675,   167,   390,\n",
              "         298,   339,   194,   302,   211,   595,   191,    53,   361,\n",
              "         480,  8000,  4500,   459,   997,   345,   216,   218,   111,\n",
              "         735,   276,    91,   490,   850,   398,    36,   775,   267,\n",
              "         625,   336,  2500,   176,   725,  3750,   469,   106,   460,\n",
              "         287,   575,   227,   263,    25,   228,   208,   177,   880,\n",
              "         148,   116,   685,   470,   217,   164,    61,   645,   699,\n",
              "         405,   252,   319,   268,   419,   343,   525,   311,   840,\n",
              "         154,   294,   950,   409,   184,   257,   204,   241,  2000,\n",
              "         412,   121,   288,   196,   900,   647,   524,  1750,   309,\n",
              "         510,  1495,  1700,   799,   383,   372,   492,   327,  1999,\n",
              "         656,   224,   173,   875,  1170,   795,   690,   146,   465,\n",
              "        1100,   151,   274,   429,   825,   282,   256,  1111,   620,\n",
              "         271,   161,    51,   855,   579,  1174,   430,    20,   899,\n",
              "         649,   485,   181,   455,  4000,   243,   342,   590,   560,\n",
              "         374,   437,   232,   359,   985,    31,   244,   254,   723,\n",
              "         237,   428,   370,    34,  1400,   580,  2520,   221,   749,\n",
              "        1600,  2695,   306,   202,   680,   570,   520,   223,  2295,\n",
              "         213,  1065,   346,    24,   286,   296,   266,    26,   995,\n",
              "        1368,   393,   182,   635,   258,   780,   589,   347,  1250,\n",
              "        1350,   446,  3200,  1050,  1650,  1550,   975,   323,  6500,\n",
              "        2499,  1850,  2250,   715,   461,   540,   356,   439,   384,\n",
              "         569,  1900,    22,   785,   626,   830,   318,   444,   321,\n",
              "         401,  1499,   888,   369,   770,   386,   366,   344,   630,\n",
              "         313,   597,   262,   509, 10000,   278,   312,   789,  1195,\n",
              "         422,    21,   765,  3500,   945,   326,  3100,  2486,  3390,\n",
              "        1356,  2599,   472,   454,   328,   396,   291])"
            ]
          },
          "metadata": {},
          "execution_count": 594
        }
      ]
    },
    {
      "cell_type": "markdown",
      "source": [
        "QUESTION 1 (PART 2)"
      ],
      "metadata": {
        "id": "0XlmtDA_CoeN"
      },
      "id": "0XlmtDA_CoeN"
    },
    {
      "cell_type": "code",
      "source": [
        "df1 = pd.read_csv(\"./wrangling/assignment/data/mn_police_use_of_force.csv\")"
      ],
      "metadata": {
        "id": "ZOKdQMRhCqjN"
      },
      "id": "ZOKdQMRhCqjN",
      "execution_count": 595,
      "outputs": []
    },
    {
      "cell_type": "code",
      "source": [
        "df1.head() # viewing the data"
      ],
      "metadata": {
        "colab": {
          "base_uri": "https://localhost:8080/",
          "height": 330
        },
        "id": "nEmhO5PbCz3L",
        "outputId": "186f3b37-adfc-487c-9327-12f388cdcf06"
      },
      "id": "nEmhO5PbCz3L",
      "execution_count": 596,
      "outputs": [
        {
          "output_type": "execute_result",
          "data": {
            "text/plain": [
              "     response_datetime               problem is_911_call primary_offense  \\\n",
              "0  2016/01/01 00:47:36  Assault in Progress          Yes          DASLT1   \n",
              "1  2016/01/01 02:19:34                Fight           No          DISCON   \n",
              "2  2016/01/01 02:19:34                Fight           No          DISCON   \n",
              "3  2016/01/01 02:28:48                Fight           No          PRIORI   \n",
              "4  2016/01/01 02:28:48                Fight           No          PRIORI   \n",
              "\n",
              "  subject_injury         force_type   force_type_action   race     sex   age  \\\n",
              "0            NaN       Bodily Force  Body Weight to Pin  Black    Male  20.0   \n",
              "1            NaN  Chemical Irritant       Personal Mace  Black  Female  27.0   \n",
              "2            NaN  Chemical Irritant       Personal Mace  White  Female  23.0   \n",
              "3            NaN  Chemical Irritant  Crowd Control Mace  Black    Male  20.0   \n",
              "4            NaN  Chemical Irritant  Crowd Control Mace  Black    Male  20.0   \n",
              "\n",
              "         type_resistance  precinct   neighborhood  \n",
              "0                 Tensed         1  Downtown East  \n",
              "1  Verbal Non-Compliance         1  Downtown West  \n",
              "2  Verbal Non-Compliance         1  Downtown West  \n",
              "3    Commission of Crime         1  Downtown West  \n",
              "4    Commission of Crime         1  Downtown West  "
            ],
            "text/html": [
              "\n",
              "  <div id=\"df-fadb39e6-649e-4cff-938e-b6f1c55a5909\" class=\"colab-df-container\">\n",
              "    <div>\n",
              "<style scoped>\n",
              "    .dataframe tbody tr th:only-of-type {\n",
              "        vertical-align: middle;\n",
              "    }\n",
              "\n",
              "    .dataframe tbody tr th {\n",
              "        vertical-align: top;\n",
              "    }\n",
              "\n",
              "    .dataframe thead th {\n",
              "        text-align: right;\n",
              "    }\n",
              "</style>\n",
              "<table border=\"1\" class=\"dataframe\">\n",
              "  <thead>\n",
              "    <tr style=\"text-align: right;\">\n",
              "      <th></th>\n",
              "      <th>response_datetime</th>\n",
              "      <th>problem</th>\n",
              "      <th>is_911_call</th>\n",
              "      <th>primary_offense</th>\n",
              "      <th>subject_injury</th>\n",
              "      <th>force_type</th>\n",
              "      <th>force_type_action</th>\n",
              "      <th>race</th>\n",
              "      <th>sex</th>\n",
              "      <th>age</th>\n",
              "      <th>type_resistance</th>\n",
              "      <th>precinct</th>\n",
              "      <th>neighborhood</th>\n",
              "    </tr>\n",
              "  </thead>\n",
              "  <tbody>\n",
              "    <tr>\n",
              "      <th>0</th>\n",
              "      <td>2016/01/01 00:47:36</td>\n",
              "      <td>Assault in Progress</td>\n",
              "      <td>Yes</td>\n",
              "      <td>DASLT1</td>\n",
              "      <td>NaN</td>\n",
              "      <td>Bodily Force</td>\n",
              "      <td>Body Weight to Pin</td>\n",
              "      <td>Black</td>\n",
              "      <td>Male</td>\n",
              "      <td>20.0</td>\n",
              "      <td>Tensed</td>\n",
              "      <td>1</td>\n",
              "      <td>Downtown East</td>\n",
              "    </tr>\n",
              "    <tr>\n",
              "      <th>1</th>\n",
              "      <td>2016/01/01 02:19:34</td>\n",
              "      <td>Fight</td>\n",
              "      <td>No</td>\n",
              "      <td>DISCON</td>\n",
              "      <td>NaN</td>\n",
              "      <td>Chemical Irritant</td>\n",
              "      <td>Personal Mace</td>\n",
              "      <td>Black</td>\n",
              "      <td>Female</td>\n",
              "      <td>27.0</td>\n",
              "      <td>Verbal Non-Compliance</td>\n",
              "      <td>1</td>\n",
              "      <td>Downtown West</td>\n",
              "    </tr>\n",
              "    <tr>\n",
              "      <th>2</th>\n",
              "      <td>2016/01/01 02:19:34</td>\n",
              "      <td>Fight</td>\n",
              "      <td>No</td>\n",
              "      <td>DISCON</td>\n",
              "      <td>NaN</td>\n",
              "      <td>Chemical Irritant</td>\n",
              "      <td>Personal Mace</td>\n",
              "      <td>White</td>\n",
              "      <td>Female</td>\n",
              "      <td>23.0</td>\n",
              "      <td>Verbal Non-Compliance</td>\n",
              "      <td>1</td>\n",
              "      <td>Downtown West</td>\n",
              "    </tr>\n",
              "    <tr>\n",
              "      <th>3</th>\n",
              "      <td>2016/01/01 02:28:48</td>\n",
              "      <td>Fight</td>\n",
              "      <td>No</td>\n",
              "      <td>PRIORI</td>\n",
              "      <td>NaN</td>\n",
              "      <td>Chemical Irritant</td>\n",
              "      <td>Crowd Control Mace</td>\n",
              "      <td>Black</td>\n",
              "      <td>Male</td>\n",
              "      <td>20.0</td>\n",
              "      <td>Commission of Crime</td>\n",
              "      <td>1</td>\n",
              "      <td>Downtown West</td>\n",
              "    </tr>\n",
              "    <tr>\n",
              "      <th>4</th>\n",
              "      <td>2016/01/01 02:28:48</td>\n",
              "      <td>Fight</td>\n",
              "      <td>No</td>\n",
              "      <td>PRIORI</td>\n",
              "      <td>NaN</td>\n",
              "      <td>Chemical Irritant</td>\n",
              "      <td>Crowd Control Mace</td>\n",
              "      <td>Black</td>\n",
              "      <td>Male</td>\n",
              "      <td>20.0</td>\n",
              "      <td>Commission of Crime</td>\n",
              "      <td>1</td>\n",
              "      <td>Downtown West</td>\n",
              "    </tr>\n",
              "  </tbody>\n",
              "</table>\n",
              "</div>\n",
              "    <div class=\"colab-df-buttons\">\n",
              "\n",
              "  <div class=\"colab-df-container\">\n",
              "    <button class=\"colab-df-convert\" onclick=\"convertToInteractive('df-fadb39e6-649e-4cff-938e-b6f1c55a5909')\"\n",
              "            title=\"Convert this dataframe to an interactive table.\"\n",
              "            style=\"display:none;\">\n",
              "\n",
              "  <svg xmlns=\"http://www.w3.org/2000/svg\" height=\"24px\" viewBox=\"0 -960 960 960\">\n",
              "    <path d=\"M120-120v-720h720v720H120Zm60-500h600v-160H180v160Zm220 220h160v-160H400v160Zm0 220h160v-160H400v160ZM180-400h160v-160H180v160Zm440 0h160v-160H620v160ZM180-180h160v-160H180v160Zm440 0h160v-160H620v160Z\"/>\n",
              "  </svg>\n",
              "    </button>\n",
              "\n",
              "  <style>\n",
              "    .colab-df-container {\n",
              "      display:flex;\n",
              "      gap: 12px;\n",
              "    }\n",
              "\n",
              "    .colab-df-convert {\n",
              "      background-color: #E8F0FE;\n",
              "      border: none;\n",
              "      border-radius: 50%;\n",
              "      cursor: pointer;\n",
              "      display: none;\n",
              "      fill: #1967D2;\n",
              "      height: 32px;\n",
              "      padding: 0 0 0 0;\n",
              "      width: 32px;\n",
              "    }\n",
              "\n",
              "    .colab-df-convert:hover {\n",
              "      background-color: #E2EBFA;\n",
              "      box-shadow: 0px 1px 2px rgba(60, 64, 67, 0.3), 0px 1px 3px 1px rgba(60, 64, 67, 0.15);\n",
              "      fill: #174EA6;\n",
              "    }\n",
              "\n",
              "    .colab-df-buttons div {\n",
              "      margin-bottom: 4px;\n",
              "    }\n",
              "\n",
              "    [theme=dark] .colab-df-convert {\n",
              "      background-color: #3B4455;\n",
              "      fill: #D2E3FC;\n",
              "    }\n",
              "\n",
              "    [theme=dark] .colab-df-convert:hover {\n",
              "      background-color: #434B5C;\n",
              "      box-shadow: 0px 1px 3px 1px rgba(0, 0, 0, 0.15);\n",
              "      filter: drop-shadow(0px 1px 2px rgba(0, 0, 0, 0.3));\n",
              "      fill: #FFFFFF;\n",
              "    }\n",
              "  </style>\n",
              "\n",
              "    <script>\n",
              "      const buttonEl =\n",
              "        document.querySelector('#df-fadb39e6-649e-4cff-938e-b6f1c55a5909 button.colab-df-convert');\n",
              "      buttonEl.style.display =\n",
              "        google.colab.kernel.accessAllowed ? 'block' : 'none';\n",
              "\n",
              "      async function convertToInteractive(key) {\n",
              "        const element = document.querySelector('#df-fadb39e6-649e-4cff-938e-b6f1c55a5909');\n",
              "        const dataTable =\n",
              "          await google.colab.kernel.invokeFunction('convertToInteractive',\n",
              "                                                    [key], {});\n",
              "        if (!dataTable) return;\n",
              "\n",
              "        const docLinkHtml = 'Like what you see? Visit the ' +\n",
              "          '<a target=\"_blank\" href=https://colab.research.google.com/notebooks/data_table.ipynb>data table notebook</a>'\n",
              "          + ' to learn more about interactive tables.';\n",
              "        element.innerHTML = '';\n",
              "        dataTable['output_type'] = 'display_data';\n",
              "        await google.colab.output.renderOutput(dataTable, element);\n",
              "        const docLink = document.createElement('div');\n",
              "        docLink.innerHTML = docLinkHtml;\n",
              "        element.appendChild(docLink);\n",
              "      }\n",
              "    </script>\n",
              "  </div>\n",
              "\n",
              "\n",
              "<div id=\"df-fa910370-cefa-4502-90c9-5d5176c92552\">\n",
              "  <button class=\"colab-df-quickchart\" onclick=\"quickchart('df-fa910370-cefa-4502-90c9-5d5176c92552')\"\n",
              "            title=\"Suggest charts\"\n",
              "            style=\"display:none;\">\n",
              "\n",
              "<svg xmlns=\"http://www.w3.org/2000/svg\" height=\"24px\"viewBox=\"0 0 24 24\"\n",
              "     width=\"24px\">\n",
              "    <g>\n",
              "        <path d=\"M19 3H5c-1.1 0-2 .9-2 2v14c0 1.1.9 2 2 2h14c1.1 0 2-.9 2-2V5c0-1.1-.9-2-2-2zM9 17H7v-7h2v7zm4 0h-2V7h2v10zm4 0h-2v-4h2v4z\"/>\n",
              "    </g>\n",
              "</svg>\n",
              "  </button>\n",
              "\n",
              "<style>\n",
              "  .colab-df-quickchart {\n",
              "      --bg-color: #E8F0FE;\n",
              "      --fill-color: #1967D2;\n",
              "      --hover-bg-color: #E2EBFA;\n",
              "      --hover-fill-color: #174EA6;\n",
              "      --disabled-fill-color: #AAA;\n",
              "      --disabled-bg-color: #DDD;\n",
              "  }\n",
              "\n",
              "  [theme=dark] .colab-df-quickchart {\n",
              "      --bg-color: #3B4455;\n",
              "      --fill-color: #D2E3FC;\n",
              "      --hover-bg-color: #434B5C;\n",
              "      --hover-fill-color: #FFFFFF;\n",
              "      --disabled-bg-color: #3B4455;\n",
              "      --disabled-fill-color: #666;\n",
              "  }\n",
              "\n",
              "  .colab-df-quickchart {\n",
              "    background-color: var(--bg-color);\n",
              "    border: none;\n",
              "    border-radius: 50%;\n",
              "    cursor: pointer;\n",
              "    display: none;\n",
              "    fill: var(--fill-color);\n",
              "    height: 32px;\n",
              "    padding: 0;\n",
              "    width: 32px;\n",
              "  }\n",
              "\n",
              "  .colab-df-quickchart:hover {\n",
              "    background-color: var(--hover-bg-color);\n",
              "    box-shadow: 0 1px 2px rgba(60, 64, 67, 0.3), 0 1px 3px 1px rgba(60, 64, 67, 0.15);\n",
              "    fill: var(--button-hover-fill-color);\n",
              "  }\n",
              "\n",
              "  .colab-df-quickchart-complete:disabled,\n",
              "  .colab-df-quickchart-complete:disabled:hover {\n",
              "    background-color: var(--disabled-bg-color);\n",
              "    fill: var(--disabled-fill-color);\n",
              "    box-shadow: none;\n",
              "  }\n",
              "\n",
              "  .colab-df-spinner {\n",
              "    border: 2px solid var(--fill-color);\n",
              "    border-color: transparent;\n",
              "    border-bottom-color: var(--fill-color);\n",
              "    animation:\n",
              "      spin 1s steps(1) infinite;\n",
              "  }\n",
              "\n",
              "  @keyframes spin {\n",
              "    0% {\n",
              "      border-color: transparent;\n",
              "      border-bottom-color: var(--fill-color);\n",
              "      border-left-color: var(--fill-color);\n",
              "    }\n",
              "    20% {\n",
              "      border-color: transparent;\n",
              "      border-left-color: var(--fill-color);\n",
              "      border-top-color: var(--fill-color);\n",
              "    }\n",
              "    30% {\n",
              "      border-color: transparent;\n",
              "      border-left-color: var(--fill-color);\n",
              "      border-top-color: var(--fill-color);\n",
              "      border-right-color: var(--fill-color);\n",
              "    }\n",
              "    40% {\n",
              "      border-color: transparent;\n",
              "      border-right-color: var(--fill-color);\n",
              "      border-top-color: var(--fill-color);\n",
              "    }\n",
              "    60% {\n",
              "      border-color: transparent;\n",
              "      border-right-color: var(--fill-color);\n",
              "    }\n",
              "    80% {\n",
              "      border-color: transparent;\n",
              "      border-right-color: var(--fill-color);\n",
              "      border-bottom-color: var(--fill-color);\n",
              "    }\n",
              "    90% {\n",
              "      border-color: transparent;\n",
              "      border-bottom-color: var(--fill-color);\n",
              "    }\n",
              "  }\n",
              "</style>\n",
              "\n",
              "  <script>\n",
              "    async function quickchart(key) {\n",
              "      const quickchartButtonEl =\n",
              "        document.querySelector('#' + key + ' button');\n",
              "      quickchartButtonEl.disabled = true;  // To prevent multiple clicks.\n",
              "      quickchartButtonEl.classList.add('colab-df-spinner');\n",
              "      try {\n",
              "        const charts = await google.colab.kernel.invokeFunction(\n",
              "            'suggestCharts', [key], {});\n",
              "      } catch (error) {\n",
              "        console.error('Error during call to suggestCharts:', error);\n",
              "      }\n",
              "      quickchartButtonEl.classList.remove('colab-df-spinner');\n",
              "      quickchartButtonEl.classList.add('colab-df-quickchart-complete');\n",
              "    }\n",
              "    (() => {\n",
              "      let quickchartButtonEl =\n",
              "        document.querySelector('#df-fa910370-cefa-4502-90c9-5d5176c92552 button');\n",
              "      quickchartButtonEl.style.display =\n",
              "        google.colab.kernel.accessAllowed ? 'block' : 'none';\n",
              "    })();\n",
              "  </script>\n",
              "</div>\n",
              "\n",
              "    </div>\n",
              "  </div>\n"
            ],
            "application/vnd.google.colaboratory.intrinsic+json": {
              "type": "dataframe",
              "variable_name": "df1",
              "summary": "{\n  \"name\": \"df1\",\n  \"rows\": 12925,\n  \"fields\": [\n    {\n      \"column\": \"response_datetime\",\n      \"properties\": {\n        \"dtype\": \"object\",\n        \"num_unique_values\": 5310,\n        \"samples\": [\n          \"2021/06/17 23:47:02\",\n          \"2017/01/23 21:10:32\",\n          \"2018/08/07 00:37:32\"\n        ],\n        \"semantic_type\": \"\",\n        \"description\": \"\"\n      }\n    },\n    {\n      \"column\": \"problem\",\n      \"properties\": {\n        \"dtype\": \"category\",\n        \"num_unique_values\": 126,\n        \"samples\": [\n          \"Audible Residential Alarm \",\n          \"Robbery of Biz In Progress \",\n          \"Overdose w/Alll \"\n        ],\n        \"semantic_type\": \"\",\n        \"description\": \"\"\n      }\n    },\n    {\n      \"column\": \"is_911_call\",\n      \"properties\": {\n        \"dtype\": \"category\",\n        \"num_unique_values\": 2,\n        \"samples\": [\n          \"No\",\n          \"Yes\"\n        ],\n        \"semantic_type\": \"\",\n        \"description\": \"\"\n      }\n    },\n    {\n      \"column\": \"primary_offense\",\n      \"properties\": {\n        \"dtype\": \"category\",\n        \"num_unique_values\": 253,\n        \"samples\": [\n          \"FORGCK  \",\n          \"OBSTRU\"\n        ],\n        \"semantic_type\": \"\",\n        \"description\": \"\"\n      }\n    },\n    {\n      \"column\": \"subject_injury\",\n      \"properties\": {\n        \"dtype\": \"category\",\n        \"num_unique_values\": 2,\n        \"samples\": [\n          \"Yes\",\n          \"No\"\n        ],\n        \"semantic_type\": \"\",\n        \"description\": \"\"\n      }\n    },\n    {\n      \"column\": \"force_type\",\n      \"properties\": {\n        \"dtype\": \"category\",\n        \"num_unique_values\": 11,\n        \"samples\": [\n          \"Police K9 Bite\",\n          \"Bodily Force\"\n        ],\n        \"semantic_type\": \"\",\n        \"description\": \"\"\n      }\n    },\n    {\n      \"column\": \"force_type_action\",\n      \"properties\": {\n        \"dtype\": \"category\",\n        \"num_unique_values\": 41,\n        \"samples\": [\n          \"Arcing\",\n          \"Compliance\"\n        ],\n        \"semantic_type\": \"\",\n        \"description\": \"\"\n      }\n    },\n    {\n      \"column\": \"race\",\n      \"properties\": {\n        \"dtype\": \"category\",\n        \"num_unique_values\": 6,\n        \"samples\": [\n          \"Black\",\n          \"White\"\n        ],\n        \"semantic_type\": \"\",\n        \"description\": \"\"\n      }\n    },\n    {\n      \"column\": \"sex\",\n      \"properties\": {\n        \"dtype\": \"category\",\n        \"num_unique_values\": 2,\n        \"samples\": [\n          \"Female\",\n          \"Male\"\n        ],\n        \"semantic_type\": \"\",\n        \"description\": \"\"\n      }\n    },\n    {\n      \"column\": \"age\",\n      \"properties\": {\n        \"dtype\": \"number\",\n        \"std\": 10.98778017115357,\n        \"min\": 0.0,\n        \"max\": 82.0,\n        \"num_unique_values\": 67,\n        \"samples\": [\n          49.0,\n          19.0\n        ],\n        \"semantic_type\": \"\",\n        \"description\": \"\"\n      }\n    },\n    {\n      \"column\": \"type_resistance\",\n      \"properties\": {\n        \"dtype\": \"category\",\n        \"num_unique_values\": 23,\n        \"samples\": [\n          \"Other                                                                          \",\n          \"verbal non-compliance\"\n        ],\n        \"semantic_type\": \"\",\n        \"description\": \"\"\n      }\n    },\n    {\n      \"column\": \"precinct\",\n      \"properties\": {\n        \"dtype\": \"number\",\n        \"std\": 1,\n        \"min\": 0,\n        \"max\": 5,\n        \"num_unique_values\": 6,\n        \"samples\": [\n          1,\n          5\n        ],\n        \"semantic_type\": \"\",\n        \"description\": \"\"\n      }\n    },\n    {\n      \"column\": \"neighborhood\",\n      \"properties\": {\n        \"dtype\": \"category\",\n        \"num_unique_values\": 86,\n        \"samples\": [\n          \"Field\",\n          \"Downtown East\"\n        ],\n        \"semantic_type\": \"\",\n        \"description\": \"\"\n      }\n    }\n  ]\n}"
            }
          },
          "metadata": {},
          "execution_count": 596
        }
      ]
    },
    {
      "cell_type": "code",
      "source": [
        "print(df1[\"subject_injury\"].unique()) # we can see if there's any inconsistencies ( nan and looks like No and Yes are both strings)"
      ],
      "metadata": {
        "colab": {
          "base_uri": "https://localhost:8080/"
        },
        "id": "hNf9w4-8DQbQ",
        "outputId": "8af2e48f-225a-4355-c1a4-e2a7f0c6bed1"
      },
      "id": "hNf9w4-8DQbQ",
      "execution_count": 597,
      "outputs": [
        {
          "output_type": "stream",
          "name": "stdout",
          "text": [
            "[nan 'No' 'Yes']\n"
          ]
        }
      ]
    },
    {
      "cell_type": "code",
      "source": [
        "missing_data=df1[\"subject_injury\"].isnull().sum() # checking for missing values ( no missing values)\n",
        "length= len(df1[\"subject_injury\"])# checking the length of this column\n",
        "print(missing_data/length) # proportion of missing"
      ],
      "metadata": {
        "colab": {
          "base_uri": "https://localhost:8080/"
        },
        "id": "6gAOO1ksFyMd",
        "outputId": "b2ba8747-0b65-47b3-d64c-839d3150dc9a"
      },
      "id": "6gAOO1ksFyMd",
      "execution_count": 598,
      "outputs": [
        {
          "output_type": "stream",
          "name": "stdout",
          "text": [
            "0.7619342359767892\n"
          ]
        }
      ]
    },
    {
      "cell_type": "markdown",
      "source": [
        "Having over 75% of the data in subject_injury column is very concering (only 25% of data from that column, it's not sufficient to corroborate with other data)"
      ],
      "metadata": {
        "id": "pkdAecw6Ixo8"
      },
      "id": "pkdAecw6Ixo8"
    },
    {
      "cell_type": "code",
      "source": [
        "df11 = df1[\"subject_injury\"].fillna(\"Missing\") # filling the missing values as \"Missing\" ( so it can be eaiser for cross checking)"
      ],
      "metadata": {
        "id": "S8ENjwzNOajK"
      },
      "id": "S8ENjwzNOajK",
      "execution_count": 599,
      "outputs": []
    },
    {
      "cell_type": "code",
      "source": [
        "crosstab = pd.crosstab(df11, df1[\"force_type\"], margins=True)\n",
        "print(crosstab) # cross checking the information with force_type (if there's alot of missing values being shown in a certain force type/with injury ( then this may indicate bias))"
      ],
      "metadata": {
        "colab": {
          "base_uri": "https://localhost:8080/"
        },
        "id": "MDGeupNDNM0M",
        "outputId": "0768ff58-cbc3-4343-9c72-fa2ef525dd16"
      },
      "id": "MDGeupNDNM0M",
      "execution_count": 600,
      "outputs": [
        {
          "output_type": "stream",
          "name": "stdout",
          "text": [
            "force_type      Baton  Bodily Force  Chemical Irritant  Firearm  \\\n",
            "subject_injury                                                    \n",
            "Missing             2          7051               1421        0   \n",
            "No                  0          1093                131        2   \n",
            "Yes                 2          1286                 41        0   \n",
            "All                 4          9430               1593        2   \n",
            "\n",
            "force_type      Gun Point Display  Improvised Weapon  Less Lethal  \\\n",
            "subject_injury                                                      \n",
            "Missing                        27                 74           87   \n",
            "No                             33                 34            0   \n",
            "Yes                            44                 40            0   \n",
            "All                           104                148           87   \n",
            "\n",
            "force_type      Less Lethal Projectile  Maximal Restraint Technique  \\\n",
            "subject_injury                                                        \n",
            "Missing                              0                          170   \n",
            "No                                   1                            0   \n",
            "Yes                                  2                            0   \n",
            "All                                  3                          170   \n",
            "\n",
            "force_type      Police K9 Bite  Taser    All  \n",
            "subject_injury                                \n",
            "Missing                     31    985   9848  \n",
            "No                           2    150   1446  \n",
            "Yes                         44    172   1631  \n",
            "All                         77   1307  12925  \n"
          ]
        }
      ]
    },
    {
      "cell_type": "markdown",
      "source": [
        "*It looks like Bodily Force (7051) had the most missing values- indicating possible bias in data collection, or Inconsistent injury reporting. There shouldn't be that much missing values for this. This could be concerning because it gives this notion of unusaul omission for this force type- potential bias/inconsistency. Some unique pattern I noticed is that Bodily Force and Chemical Irritant ( both being high missing value categories) have way more missing values than injury reported ( indicating bias/inconsistency). Also, for Tasers and Police K9 Bites ( there are very few missing data, which may indicate that there's less inconsistency/bias ( as being more serious injury).  "
      ],
      "metadata": {
        "id": "5rxtSsautC6G"
      },
      "id": "5rxtSsautC6G"
    },
    {
      "cell_type": "code",
      "source": [
        "df1 = df1.dropna(subset=[\"subject_injury\"])# removing missing values"
      ],
      "metadata": {
        "id": "E0nXTLoQKbwG"
      },
      "id": "E0nXTLoQKbwG",
      "execution_count": 601,
      "outputs": []
    },
    {
      "cell_type": "code",
      "source": [
        "df1[\"subject_injury\"]= df1[\"subject_injury\"].astype(str).str.strip().str.lower() # this deletes any spaces, makes all values lower case, and converts all data values into a string.\n",
        "df1[\"subject_injury\"] = df1[\"subject_injury\"].replace(\"yes\", \"Yes\") # replces yes with uppercase yes\n",
        "df1[\"subject_injury\"] = df1[\"subject_injury\"].replace(\"no\", \"No\") # replaces no with uppercase no"
      ],
      "metadata": {
        "id": "MNv8VKLrF2JF",
        "colab": {
          "base_uri": "https://localhost:8080/"
        },
        "outputId": "82a74d87-0bad-4534-a31d-b4231f736f85"
      },
      "id": "MNv8VKLrF2JF",
      "execution_count": 602,
      "outputs": [
        {
          "output_type": "stream",
          "name": "stderr",
          "text": [
            "<ipython-input-602-873f2b2e48c7>:1: SettingWithCopyWarning: \n",
            "A value is trying to be set on a copy of a slice from a DataFrame.\n",
            "Try using .loc[row_indexer,col_indexer] = value instead\n",
            "\n",
            "See the caveats in the documentation: https://pandas.pydata.org/pandas-docs/stable/user_guide/indexing.html#returning-a-view-versus-a-copy\n",
            "  df1[\"subject_injury\"]= df1[\"subject_injury\"].astype(str).str.strip().str.lower() # this deletes any spaces, makes all values lower case, and converts all data values into a string.\n",
            "<ipython-input-602-873f2b2e48c7>:2: SettingWithCopyWarning: \n",
            "A value is trying to be set on a copy of a slice from a DataFrame.\n",
            "Try using .loc[row_indexer,col_indexer] = value instead\n",
            "\n",
            "See the caveats in the documentation: https://pandas.pydata.org/pandas-docs/stable/user_guide/indexing.html#returning-a-view-versus-a-copy\n",
            "  df1[\"subject_injury\"] = df1[\"subject_injury\"].replace(\"yes\", \"Yes\") # replces yes with uppercase yes\n",
            "<ipython-input-602-873f2b2e48c7>:3: SettingWithCopyWarning: \n",
            "A value is trying to be set on a copy of a slice from a DataFrame.\n",
            "Try using .loc[row_indexer,col_indexer] = value instead\n",
            "\n",
            "See the caveats in the documentation: https://pandas.pydata.org/pandas-docs/stable/user_guide/indexing.html#returning-a-view-versus-a-copy\n",
            "  df1[\"subject_injury\"] = df1[\"subject_injury\"].replace(\"no\", \"No\") # replaces no with uppercase no\n"
          ]
        }
      ]
    },
    {
      "cell_type": "code",
      "source": [
        "df1.head()# viewing if data is cleaned"
      ],
      "metadata": {
        "colab": {
          "base_uri": "https://localhost:8080/",
          "height": 313
        },
        "id": "AW4It7XsKzyv",
        "outputId": "25d8a25e-4e78-43f4-e3b4-5cd3a36f8dbb"
      },
      "id": "AW4It7XsKzyv",
      "execution_count": 603,
      "outputs": [
        {
          "output_type": "execute_result",
          "data": {
            "text/plain": [
              "      response_datetime             problem is_911_call primary_offense  \\\n",
              "9   2016/01/01 02:38:23              Fight           No          DISCON   \n",
              "10  2016/01/01 02:38:23              Fight           No          DISCON   \n",
              "11  2016/01/01 02:39:47  Suspicious Person           No          DISCON   \n",
              "12  2016/01/01 02:39:47  Suspicious Person           No          DISCON   \n",
              "13  2016/01/01 02:39:47  Suspicious Person           No          DISCON   \n",
              "\n",
              "   subject_injury         force_type   force_type_action   race   sex   age  \\\n",
              "9              No  Chemical Irritant  Crowd Control Mace  Black  Male  18.0   \n",
              "10             No  Chemical Irritant  Chemical Munitions  Black  Male  18.0   \n",
              "11            Yes       Bodily Force  Body Weight to Pin  Black  Male  21.0   \n",
              "12            Yes       Bodily Force          Joint Lock  Black  Male  21.0   \n",
              "13            Yes       Bodily Force  Body Weight to Pin  Black  Male  21.0   \n",
              "\n",
              "        type_resistance  precinct     neighborhood  \n",
              "9   commission of crime         1    Downtown West  \n",
              "10  commission of crime         1    Downtown West  \n",
              "11               Tensed         5  Lowry Hill East  \n",
              "12               Tensed         5  Lowry Hill East  \n",
              "13               Tensed         5  Lowry Hill East  "
            ],
            "text/html": [
              "\n",
              "  <div id=\"df-cebf4c25-6e83-48b6-b06e-d7b548c13501\" class=\"colab-df-container\">\n",
              "    <div>\n",
              "<style scoped>\n",
              "    .dataframe tbody tr th:only-of-type {\n",
              "        vertical-align: middle;\n",
              "    }\n",
              "\n",
              "    .dataframe tbody tr th {\n",
              "        vertical-align: top;\n",
              "    }\n",
              "\n",
              "    .dataframe thead th {\n",
              "        text-align: right;\n",
              "    }\n",
              "</style>\n",
              "<table border=\"1\" class=\"dataframe\">\n",
              "  <thead>\n",
              "    <tr style=\"text-align: right;\">\n",
              "      <th></th>\n",
              "      <th>response_datetime</th>\n",
              "      <th>problem</th>\n",
              "      <th>is_911_call</th>\n",
              "      <th>primary_offense</th>\n",
              "      <th>subject_injury</th>\n",
              "      <th>force_type</th>\n",
              "      <th>force_type_action</th>\n",
              "      <th>race</th>\n",
              "      <th>sex</th>\n",
              "      <th>age</th>\n",
              "      <th>type_resistance</th>\n",
              "      <th>precinct</th>\n",
              "      <th>neighborhood</th>\n",
              "    </tr>\n",
              "  </thead>\n",
              "  <tbody>\n",
              "    <tr>\n",
              "      <th>9</th>\n",
              "      <td>2016/01/01 02:38:23</td>\n",
              "      <td>Fight</td>\n",
              "      <td>No</td>\n",
              "      <td>DISCON</td>\n",
              "      <td>No</td>\n",
              "      <td>Chemical Irritant</td>\n",
              "      <td>Crowd Control Mace</td>\n",
              "      <td>Black</td>\n",
              "      <td>Male</td>\n",
              "      <td>18.0</td>\n",
              "      <td>commission of crime</td>\n",
              "      <td>1</td>\n",
              "      <td>Downtown West</td>\n",
              "    </tr>\n",
              "    <tr>\n",
              "      <th>10</th>\n",
              "      <td>2016/01/01 02:38:23</td>\n",
              "      <td>Fight</td>\n",
              "      <td>No</td>\n",
              "      <td>DISCON</td>\n",
              "      <td>No</td>\n",
              "      <td>Chemical Irritant</td>\n",
              "      <td>Chemical Munitions</td>\n",
              "      <td>Black</td>\n",
              "      <td>Male</td>\n",
              "      <td>18.0</td>\n",
              "      <td>commission of crime</td>\n",
              "      <td>1</td>\n",
              "      <td>Downtown West</td>\n",
              "    </tr>\n",
              "    <tr>\n",
              "      <th>11</th>\n",
              "      <td>2016/01/01 02:39:47</td>\n",
              "      <td>Suspicious Person</td>\n",
              "      <td>No</td>\n",
              "      <td>DISCON</td>\n",
              "      <td>Yes</td>\n",
              "      <td>Bodily Force</td>\n",
              "      <td>Body Weight to Pin</td>\n",
              "      <td>Black</td>\n",
              "      <td>Male</td>\n",
              "      <td>21.0</td>\n",
              "      <td>Tensed</td>\n",
              "      <td>5</td>\n",
              "      <td>Lowry Hill East</td>\n",
              "    </tr>\n",
              "    <tr>\n",
              "      <th>12</th>\n",
              "      <td>2016/01/01 02:39:47</td>\n",
              "      <td>Suspicious Person</td>\n",
              "      <td>No</td>\n",
              "      <td>DISCON</td>\n",
              "      <td>Yes</td>\n",
              "      <td>Bodily Force</td>\n",
              "      <td>Joint Lock</td>\n",
              "      <td>Black</td>\n",
              "      <td>Male</td>\n",
              "      <td>21.0</td>\n",
              "      <td>Tensed</td>\n",
              "      <td>5</td>\n",
              "      <td>Lowry Hill East</td>\n",
              "    </tr>\n",
              "    <tr>\n",
              "      <th>13</th>\n",
              "      <td>2016/01/01 02:39:47</td>\n",
              "      <td>Suspicious Person</td>\n",
              "      <td>No</td>\n",
              "      <td>DISCON</td>\n",
              "      <td>Yes</td>\n",
              "      <td>Bodily Force</td>\n",
              "      <td>Body Weight to Pin</td>\n",
              "      <td>Black</td>\n",
              "      <td>Male</td>\n",
              "      <td>21.0</td>\n",
              "      <td>Tensed</td>\n",
              "      <td>5</td>\n",
              "      <td>Lowry Hill East</td>\n",
              "    </tr>\n",
              "  </tbody>\n",
              "</table>\n",
              "</div>\n",
              "    <div class=\"colab-df-buttons\">\n",
              "\n",
              "  <div class=\"colab-df-container\">\n",
              "    <button class=\"colab-df-convert\" onclick=\"convertToInteractive('df-cebf4c25-6e83-48b6-b06e-d7b548c13501')\"\n",
              "            title=\"Convert this dataframe to an interactive table.\"\n",
              "            style=\"display:none;\">\n",
              "\n",
              "  <svg xmlns=\"http://www.w3.org/2000/svg\" height=\"24px\" viewBox=\"0 -960 960 960\">\n",
              "    <path d=\"M120-120v-720h720v720H120Zm60-500h600v-160H180v160Zm220 220h160v-160H400v160Zm0 220h160v-160H400v160ZM180-400h160v-160H180v160Zm440 0h160v-160H620v160ZM180-180h160v-160H180v160Zm440 0h160v-160H620v160Z\"/>\n",
              "  </svg>\n",
              "    </button>\n",
              "\n",
              "  <style>\n",
              "    .colab-df-container {\n",
              "      display:flex;\n",
              "      gap: 12px;\n",
              "    }\n",
              "\n",
              "    .colab-df-convert {\n",
              "      background-color: #E8F0FE;\n",
              "      border: none;\n",
              "      border-radius: 50%;\n",
              "      cursor: pointer;\n",
              "      display: none;\n",
              "      fill: #1967D2;\n",
              "      height: 32px;\n",
              "      padding: 0 0 0 0;\n",
              "      width: 32px;\n",
              "    }\n",
              "\n",
              "    .colab-df-convert:hover {\n",
              "      background-color: #E2EBFA;\n",
              "      box-shadow: 0px 1px 2px rgba(60, 64, 67, 0.3), 0px 1px 3px 1px rgba(60, 64, 67, 0.15);\n",
              "      fill: #174EA6;\n",
              "    }\n",
              "\n",
              "    .colab-df-buttons div {\n",
              "      margin-bottom: 4px;\n",
              "    }\n",
              "\n",
              "    [theme=dark] .colab-df-convert {\n",
              "      background-color: #3B4455;\n",
              "      fill: #D2E3FC;\n",
              "    }\n",
              "\n",
              "    [theme=dark] .colab-df-convert:hover {\n",
              "      background-color: #434B5C;\n",
              "      box-shadow: 0px 1px 3px 1px rgba(0, 0, 0, 0.15);\n",
              "      filter: drop-shadow(0px 1px 2px rgba(0, 0, 0, 0.3));\n",
              "      fill: #FFFFFF;\n",
              "    }\n",
              "  </style>\n",
              "\n",
              "    <script>\n",
              "      const buttonEl =\n",
              "        document.querySelector('#df-cebf4c25-6e83-48b6-b06e-d7b548c13501 button.colab-df-convert');\n",
              "      buttonEl.style.display =\n",
              "        google.colab.kernel.accessAllowed ? 'block' : 'none';\n",
              "\n",
              "      async function convertToInteractive(key) {\n",
              "        const element = document.querySelector('#df-cebf4c25-6e83-48b6-b06e-d7b548c13501');\n",
              "        const dataTable =\n",
              "          await google.colab.kernel.invokeFunction('convertToInteractive',\n",
              "                                                    [key], {});\n",
              "        if (!dataTable) return;\n",
              "\n",
              "        const docLinkHtml = 'Like what you see? Visit the ' +\n",
              "          '<a target=\"_blank\" href=https://colab.research.google.com/notebooks/data_table.ipynb>data table notebook</a>'\n",
              "          + ' to learn more about interactive tables.';\n",
              "        element.innerHTML = '';\n",
              "        dataTable['output_type'] = 'display_data';\n",
              "        await google.colab.output.renderOutput(dataTable, element);\n",
              "        const docLink = document.createElement('div');\n",
              "        docLink.innerHTML = docLinkHtml;\n",
              "        element.appendChild(docLink);\n",
              "      }\n",
              "    </script>\n",
              "  </div>\n",
              "\n",
              "\n",
              "<div id=\"df-bb191509-8e04-43d2-b84e-d8627022b9b0\">\n",
              "  <button class=\"colab-df-quickchart\" onclick=\"quickchart('df-bb191509-8e04-43d2-b84e-d8627022b9b0')\"\n",
              "            title=\"Suggest charts\"\n",
              "            style=\"display:none;\">\n",
              "\n",
              "<svg xmlns=\"http://www.w3.org/2000/svg\" height=\"24px\"viewBox=\"0 0 24 24\"\n",
              "     width=\"24px\">\n",
              "    <g>\n",
              "        <path d=\"M19 3H5c-1.1 0-2 .9-2 2v14c0 1.1.9 2 2 2h14c1.1 0 2-.9 2-2V5c0-1.1-.9-2-2-2zM9 17H7v-7h2v7zm4 0h-2V7h2v10zm4 0h-2v-4h2v4z\"/>\n",
              "    </g>\n",
              "</svg>\n",
              "  </button>\n",
              "\n",
              "<style>\n",
              "  .colab-df-quickchart {\n",
              "      --bg-color: #E8F0FE;\n",
              "      --fill-color: #1967D2;\n",
              "      --hover-bg-color: #E2EBFA;\n",
              "      --hover-fill-color: #174EA6;\n",
              "      --disabled-fill-color: #AAA;\n",
              "      --disabled-bg-color: #DDD;\n",
              "  }\n",
              "\n",
              "  [theme=dark] .colab-df-quickchart {\n",
              "      --bg-color: #3B4455;\n",
              "      --fill-color: #D2E3FC;\n",
              "      --hover-bg-color: #434B5C;\n",
              "      --hover-fill-color: #FFFFFF;\n",
              "      --disabled-bg-color: #3B4455;\n",
              "      --disabled-fill-color: #666;\n",
              "  }\n",
              "\n",
              "  .colab-df-quickchart {\n",
              "    background-color: var(--bg-color);\n",
              "    border: none;\n",
              "    border-radius: 50%;\n",
              "    cursor: pointer;\n",
              "    display: none;\n",
              "    fill: var(--fill-color);\n",
              "    height: 32px;\n",
              "    padding: 0;\n",
              "    width: 32px;\n",
              "  }\n",
              "\n",
              "  .colab-df-quickchart:hover {\n",
              "    background-color: var(--hover-bg-color);\n",
              "    box-shadow: 0 1px 2px rgba(60, 64, 67, 0.3), 0 1px 3px 1px rgba(60, 64, 67, 0.15);\n",
              "    fill: var(--button-hover-fill-color);\n",
              "  }\n",
              "\n",
              "  .colab-df-quickchart-complete:disabled,\n",
              "  .colab-df-quickchart-complete:disabled:hover {\n",
              "    background-color: var(--disabled-bg-color);\n",
              "    fill: var(--disabled-fill-color);\n",
              "    box-shadow: none;\n",
              "  }\n",
              "\n",
              "  .colab-df-spinner {\n",
              "    border: 2px solid var(--fill-color);\n",
              "    border-color: transparent;\n",
              "    border-bottom-color: var(--fill-color);\n",
              "    animation:\n",
              "      spin 1s steps(1) infinite;\n",
              "  }\n",
              "\n",
              "  @keyframes spin {\n",
              "    0% {\n",
              "      border-color: transparent;\n",
              "      border-bottom-color: var(--fill-color);\n",
              "      border-left-color: var(--fill-color);\n",
              "    }\n",
              "    20% {\n",
              "      border-color: transparent;\n",
              "      border-left-color: var(--fill-color);\n",
              "      border-top-color: var(--fill-color);\n",
              "    }\n",
              "    30% {\n",
              "      border-color: transparent;\n",
              "      border-left-color: var(--fill-color);\n",
              "      border-top-color: var(--fill-color);\n",
              "      border-right-color: var(--fill-color);\n",
              "    }\n",
              "    40% {\n",
              "      border-color: transparent;\n",
              "      border-right-color: var(--fill-color);\n",
              "      border-top-color: var(--fill-color);\n",
              "    }\n",
              "    60% {\n",
              "      border-color: transparent;\n",
              "      border-right-color: var(--fill-color);\n",
              "    }\n",
              "    80% {\n",
              "      border-color: transparent;\n",
              "      border-right-color: var(--fill-color);\n",
              "      border-bottom-color: var(--fill-color);\n",
              "    }\n",
              "    90% {\n",
              "      border-color: transparent;\n",
              "      border-bottom-color: var(--fill-color);\n",
              "    }\n",
              "  }\n",
              "</style>\n",
              "\n",
              "  <script>\n",
              "    async function quickchart(key) {\n",
              "      const quickchartButtonEl =\n",
              "        document.querySelector('#' + key + ' button');\n",
              "      quickchartButtonEl.disabled = true;  // To prevent multiple clicks.\n",
              "      quickchartButtonEl.classList.add('colab-df-spinner');\n",
              "      try {\n",
              "        const charts = await google.colab.kernel.invokeFunction(\n",
              "            'suggestCharts', [key], {});\n",
              "      } catch (error) {\n",
              "        console.error('Error during call to suggestCharts:', error);\n",
              "      }\n",
              "      quickchartButtonEl.classList.remove('colab-df-spinner');\n",
              "      quickchartButtonEl.classList.add('colab-df-quickchart-complete');\n",
              "    }\n",
              "    (() => {\n",
              "      let quickchartButtonEl =\n",
              "        document.querySelector('#df-bb191509-8e04-43d2-b84e-d8627022b9b0 button');\n",
              "      quickchartButtonEl.style.display =\n",
              "        google.colab.kernel.accessAllowed ? 'block' : 'none';\n",
              "    })();\n",
              "  </script>\n",
              "</div>\n",
              "\n",
              "    </div>\n",
              "  </div>\n"
            ],
            "application/vnd.google.colaboratory.intrinsic+json": {
              "type": "dataframe",
              "variable_name": "df1",
              "repr_error": "0"
            }
          },
          "metadata": {},
          "execution_count": 603
        }
      ]
    },
    {
      "cell_type": "markdown",
      "source": [
        "QUESTION 1 (PART 3)"
      ],
      "metadata": {
        "id": "2-nwVt5U1pCp"
      },
      "id": "2-nwVt5U1pCp"
    },
    {
      "cell_type": "code",
      "source": [
        "url = 'http://www.vcsc.virginia.gov/pretrialdataproject/October%202017%20Cohort_Virginia%20Pretrial%20Data%20Project_Deidentified%20FINAL%20Update_10272021.csv'\n",
        "df2 = pd.read_csv(url,low_memory=False)"
      ],
      "metadata": {
        "id": "pA4jYgjoxkB8"
      },
      "id": "pA4jYgjoxkB8",
      "execution_count": 604,
      "outputs": []
    },
    {
      "cell_type": "code",
      "source": [
        "df2.head() # viewing the data"
      ],
      "metadata": {
        "colab": {
          "base_uri": "https://localhost:8080/",
          "height": 255
        },
        "id": "1_AHqECKyc2V",
        "outputId": "aade4a32-b2d5-490a-b632-317c731cd443"
      },
      "id": "1_AHqECKyc2V",
      "execution_count": 605,
      "outputs": [
        {
          "output_type": "execute_result",
          "data": {
            "text/plain": [
              "  InternalStudyID REQ_REC# Defendant_Sex Defendant_Race Defendant_BirthYear  \\\n",
              "0        ADI00001        1             M              W                1986   \n",
              "1        ADI00007        3             M              B                1956   \n",
              "2        ADI00008        4             M              W                1990   \n",
              "3        CDI00036        6             M              B                1989   \n",
              "4        CDI00038        7             F              W                1988   \n",
              "\n",
              "  Defendant_Age  Defendant_AgeGroup Defendant_AgeatCurrentArrest  \\\n",
              "0            31                   3                           31   \n",
              "1            60                   6                           60   \n",
              "2            27                   3                           27   \n",
              "3            27                   3                           27   \n",
              "4            28                   3                           28   \n",
              "\n",
              "   Defendant_AttorneyTypeAtCaseClosure  Defendant_IndigencyStatus  ...  \\\n",
              "0                                   99                         99  ...   \n",
              "1                                    9                          9  ...   \n",
              "2                                    9                          9  ...   \n",
              "3                                    0                          0  ...   \n",
              "4                                    0                          0  ...   \n",
              "\n",
              "  NewFelonySexualAssaultArrest_OffDate  \\\n",
              "0                                        \n",
              "1                                        \n",
              "2                                        \n",
              "3                                        \n",
              "4                                        \n",
              "\n",
              "  NewFelonySexualAssaultArrest_ArrestDate  \\\n",
              "0                                           \n",
              "1                                           \n",
              "2                                           \n",
              "3                                           \n",
              "4                                           \n",
              "\n",
              "   NewFelonySexualAssaultArrest_DaysBetweenContactEventandOffDate  \\\n",
              "0                                                                   \n",
              "1                                                                   \n",
              "2                                                                   \n",
              "3                                                                   \n",
              "4                                                                   \n",
              "\n",
              "  NewFelonySexualAssaultArrest_DaysBetweenOffDateandArrestDate  \\\n",
              "0                                                999             \n",
              "1                                                999             \n",
              "2                                                999             \n",
              "3                                                999             \n",
              "4                                                999             \n",
              "\n",
              "   NewFelonySexualAssaultArrest_DaysBetweenReleaseDateandOffDate  \\\n",
              "0                                                999               \n",
              "1                                                999               \n",
              "2                                                999               \n",
              "3                                                999               \n",
              "4                                                999               \n",
              "\n",
              "   NewFelonySexualAssaultArrest_Disposition  \\\n",
              "0                                             \n",
              "1                                             \n",
              "2                                             \n",
              "3                                             \n",
              "4                                             \n",
              "\n",
              "   Intertnalindicator_ReasonforExcludingFromFollowUpAnalysis  \\\n",
              "0                                                  4           \n",
              "1                                                  5           \n",
              "2                                                  5           \n",
              "3                                                  5           \n",
              "4                                                  0           \n",
              "\n",
              "   CriminalHistoryRecordsReturnedorCMSRecordsFoundforIndividual  \\\n",
              "0                                                  1              \n",
              "1                                                  1              \n",
              "2                                                  1              \n",
              "3                                                  1              \n",
              "4                                                  1              \n",
              "\n",
              "  DispRecordFoundforChargesinOct2017Contact_Atleast1dispfound  \\\n",
              "0                                                  0            \n",
              "1                                                  1            \n",
              "2                                                  1            \n",
              "3                                                  1            \n",
              "4                                                  1            \n",
              "\n",
              "   CrimeCommission2021ReportClassificationofDefendants  \n",
              "0  Defendant could not be classified or tracked d...    \n",
              "1  Defendant Detained Entire Pre-Trial Period_Und...    \n",
              "2  Defendant Detained Entire Pre-Trial Period_Und...    \n",
              "3  Defendant Detained Entire Pre-Trial Period_Und...    \n",
              "4  New criminal offense punishable by incarcerati...    \n",
              "\n",
              "[5 rows x 709 columns]"
            ],
            "text/html": [
              "\n",
              "  <div id=\"df-014a9783-c4b9-4b80-9698-7e280dafd7df\" class=\"colab-df-container\">\n",
              "    <div>\n",
              "<style scoped>\n",
              "    .dataframe tbody tr th:only-of-type {\n",
              "        vertical-align: middle;\n",
              "    }\n",
              "\n",
              "    .dataframe tbody tr th {\n",
              "        vertical-align: top;\n",
              "    }\n",
              "\n",
              "    .dataframe thead th {\n",
              "        text-align: right;\n",
              "    }\n",
              "</style>\n",
              "<table border=\"1\" class=\"dataframe\">\n",
              "  <thead>\n",
              "    <tr style=\"text-align: right;\">\n",
              "      <th></th>\n",
              "      <th>InternalStudyID</th>\n",
              "      <th>REQ_REC#</th>\n",
              "      <th>Defendant_Sex</th>\n",
              "      <th>Defendant_Race</th>\n",
              "      <th>Defendant_BirthYear</th>\n",
              "      <th>Defendant_Age</th>\n",
              "      <th>Defendant_AgeGroup</th>\n",
              "      <th>Defendant_AgeatCurrentArrest</th>\n",
              "      <th>Defendant_AttorneyTypeAtCaseClosure</th>\n",
              "      <th>Defendant_IndigencyStatus</th>\n",
              "      <th>...</th>\n",
              "      <th>NewFelonySexualAssaultArrest_OffDate</th>\n",
              "      <th>NewFelonySexualAssaultArrest_ArrestDate</th>\n",
              "      <th>NewFelonySexualAssaultArrest_DaysBetweenContactEventandOffDate</th>\n",
              "      <th>NewFelonySexualAssaultArrest_DaysBetweenOffDateandArrestDate</th>\n",
              "      <th>NewFelonySexualAssaultArrest_DaysBetweenReleaseDateandOffDate</th>\n",
              "      <th>NewFelonySexualAssaultArrest_Disposition</th>\n",
              "      <th>Intertnalindicator_ReasonforExcludingFromFollowUpAnalysis</th>\n",
              "      <th>CriminalHistoryRecordsReturnedorCMSRecordsFoundforIndividual</th>\n",
              "      <th>DispRecordFoundforChargesinOct2017Contact_Atleast1dispfound</th>\n",
              "      <th>CrimeCommission2021ReportClassificationofDefendants</th>\n",
              "    </tr>\n",
              "  </thead>\n",
              "  <tbody>\n",
              "    <tr>\n",
              "      <th>0</th>\n",
              "      <td>ADI00001</td>\n",
              "      <td>1</td>\n",
              "      <td>M</td>\n",
              "      <td>W</td>\n",
              "      <td>1986</td>\n",
              "      <td>31</td>\n",
              "      <td>3</td>\n",
              "      <td>31</td>\n",
              "      <td>99</td>\n",
              "      <td>99</td>\n",
              "      <td>...</td>\n",
              "      <td></td>\n",
              "      <td></td>\n",
              "      <td></td>\n",
              "      <td>999</td>\n",
              "      <td>999</td>\n",
              "      <td></td>\n",
              "      <td>4</td>\n",
              "      <td>1</td>\n",
              "      <td>0</td>\n",
              "      <td>Defendant could not be classified or tracked d...</td>\n",
              "    </tr>\n",
              "    <tr>\n",
              "      <th>1</th>\n",
              "      <td>ADI00007</td>\n",
              "      <td>3</td>\n",
              "      <td>M</td>\n",
              "      <td>B</td>\n",
              "      <td>1956</td>\n",
              "      <td>60</td>\n",
              "      <td>6</td>\n",
              "      <td>60</td>\n",
              "      <td>9</td>\n",
              "      <td>9</td>\n",
              "      <td>...</td>\n",
              "      <td></td>\n",
              "      <td></td>\n",
              "      <td></td>\n",
              "      <td>999</td>\n",
              "      <td>999</td>\n",
              "      <td></td>\n",
              "      <td>5</td>\n",
              "      <td>1</td>\n",
              "      <td>1</td>\n",
              "      <td>Defendant Detained Entire Pre-Trial Period_Und...</td>\n",
              "    </tr>\n",
              "    <tr>\n",
              "      <th>2</th>\n",
              "      <td>ADI00008</td>\n",
              "      <td>4</td>\n",
              "      <td>M</td>\n",
              "      <td>W</td>\n",
              "      <td>1990</td>\n",
              "      <td>27</td>\n",
              "      <td>3</td>\n",
              "      <td>27</td>\n",
              "      <td>9</td>\n",
              "      <td>9</td>\n",
              "      <td>...</td>\n",
              "      <td></td>\n",
              "      <td></td>\n",
              "      <td></td>\n",
              "      <td>999</td>\n",
              "      <td>999</td>\n",
              "      <td></td>\n",
              "      <td>5</td>\n",
              "      <td>1</td>\n",
              "      <td>1</td>\n",
              "      <td>Defendant Detained Entire Pre-Trial Period_Und...</td>\n",
              "    </tr>\n",
              "    <tr>\n",
              "      <th>3</th>\n",
              "      <td>CDI00036</td>\n",
              "      <td>6</td>\n",
              "      <td>M</td>\n",
              "      <td>B</td>\n",
              "      <td>1989</td>\n",
              "      <td>27</td>\n",
              "      <td>3</td>\n",
              "      <td>27</td>\n",
              "      <td>0</td>\n",
              "      <td>0</td>\n",
              "      <td>...</td>\n",
              "      <td></td>\n",
              "      <td></td>\n",
              "      <td></td>\n",
              "      <td>999</td>\n",
              "      <td>999</td>\n",
              "      <td></td>\n",
              "      <td>5</td>\n",
              "      <td>1</td>\n",
              "      <td>1</td>\n",
              "      <td>Defendant Detained Entire Pre-Trial Period_Und...</td>\n",
              "    </tr>\n",
              "    <tr>\n",
              "      <th>4</th>\n",
              "      <td>CDI00038</td>\n",
              "      <td>7</td>\n",
              "      <td>F</td>\n",
              "      <td>W</td>\n",
              "      <td>1988</td>\n",
              "      <td>28</td>\n",
              "      <td>3</td>\n",
              "      <td>28</td>\n",
              "      <td>0</td>\n",
              "      <td>0</td>\n",
              "      <td>...</td>\n",
              "      <td></td>\n",
              "      <td></td>\n",
              "      <td></td>\n",
              "      <td>999</td>\n",
              "      <td>999</td>\n",
              "      <td></td>\n",
              "      <td>0</td>\n",
              "      <td>1</td>\n",
              "      <td>1</td>\n",
              "      <td>New criminal offense punishable by incarcerati...</td>\n",
              "    </tr>\n",
              "  </tbody>\n",
              "</table>\n",
              "<p>5 rows × 709 columns</p>\n",
              "</div>\n",
              "    <div class=\"colab-df-buttons\">\n",
              "\n",
              "  <div class=\"colab-df-container\">\n",
              "    <button class=\"colab-df-convert\" onclick=\"convertToInteractive('df-014a9783-c4b9-4b80-9698-7e280dafd7df')\"\n",
              "            title=\"Convert this dataframe to an interactive table.\"\n",
              "            style=\"display:none;\">\n",
              "\n",
              "  <svg xmlns=\"http://www.w3.org/2000/svg\" height=\"24px\" viewBox=\"0 -960 960 960\">\n",
              "    <path d=\"M120-120v-720h720v720H120Zm60-500h600v-160H180v160Zm220 220h160v-160H400v160Zm0 220h160v-160H400v160ZM180-400h160v-160H180v160Zm440 0h160v-160H620v160ZM180-180h160v-160H180v160Zm440 0h160v-160H620v160Z\"/>\n",
              "  </svg>\n",
              "    </button>\n",
              "\n",
              "  <style>\n",
              "    .colab-df-container {\n",
              "      display:flex;\n",
              "      gap: 12px;\n",
              "    }\n",
              "\n",
              "    .colab-df-convert {\n",
              "      background-color: #E8F0FE;\n",
              "      border: none;\n",
              "      border-radius: 50%;\n",
              "      cursor: pointer;\n",
              "      display: none;\n",
              "      fill: #1967D2;\n",
              "      height: 32px;\n",
              "      padding: 0 0 0 0;\n",
              "      width: 32px;\n",
              "    }\n",
              "\n",
              "    .colab-df-convert:hover {\n",
              "      background-color: #E2EBFA;\n",
              "      box-shadow: 0px 1px 2px rgba(60, 64, 67, 0.3), 0px 1px 3px 1px rgba(60, 64, 67, 0.15);\n",
              "      fill: #174EA6;\n",
              "    }\n",
              "\n",
              "    .colab-df-buttons div {\n",
              "      margin-bottom: 4px;\n",
              "    }\n",
              "\n",
              "    [theme=dark] .colab-df-convert {\n",
              "      background-color: #3B4455;\n",
              "      fill: #D2E3FC;\n",
              "    }\n",
              "\n",
              "    [theme=dark] .colab-df-convert:hover {\n",
              "      background-color: #434B5C;\n",
              "      box-shadow: 0px 1px 3px 1px rgba(0, 0, 0, 0.15);\n",
              "      filter: drop-shadow(0px 1px 2px rgba(0, 0, 0, 0.3));\n",
              "      fill: #FFFFFF;\n",
              "    }\n",
              "  </style>\n",
              "\n",
              "    <script>\n",
              "      const buttonEl =\n",
              "        document.querySelector('#df-014a9783-c4b9-4b80-9698-7e280dafd7df button.colab-df-convert');\n",
              "      buttonEl.style.display =\n",
              "        google.colab.kernel.accessAllowed ? 'block' : 'none';\n",
              "\n",
              "      async function convertToInteractive(key) {\n",
              "        const element = document.querySelector('#df-014a9783-c4b9-4b80-9698-7e280dafd7df');\n",
              "        const dataTable =\n",
              "          await google.colab.kernel.invokeFunction('convertToInteractive',\n",
              "                                                    [key], {});\n",
              "        if (!dataTable) return;\n",
              "\n",
              "        const docLinkHtml = 'Like what you see? Visit the ' +\n",
              "          '<a target=\"_blank\" href=https://colab.research.google.com/notebooks/data_table.ipynb>data table notebook</a>'\n",
              "          + ' to learn more about interactive tables.';\n",
              "        element.innerHTML = '';\n",
              "        dataTable['output_type'] = 'display_data';\n",
              "        await google.colab.output.renderOutput(dataTable, element);\n",
              "        const docLink = document.createElement('div');\n",
              "        docLink.innerHTML = docLinkHtml;\n",
              "        element.appendChild(docLink);\n",
              "      }\n",
              "    </script>\n",
              "  </div>\n",
              "\n",
              "\n",
              "<div id=\"df-b206f55f-3381-401d-a7fc-8588590ab925\">\n",
              "  <button class=\"colab-df-quickchart\" onclick=\"quickchart('df-b206f55f-3381-401d-a7fc-8588590ab925')\"\n",
              "            title=\"Suggest charts\"\n",
              "            style=\"display:none;\">\n",
              "\n",
              "<svg xmlns=\"http://www.w3.org/2000/svg\" height=\"24px\"viewBox=\"0 0 24 24\"\n",
              "     width=\"24px\">\n",
              "    <g>\n",
              "        <path d=\"M19 3H5c-1.1 0-2 .9-2 2v14c0 1.1.9 2 2 2h14c1.1 0 2-.9 2-2V5c0-1.1-.9-2-2-2zM9 17H7v-7h2v7zm4 0h-2V7h2v10zm4 0h-2v-4h2v4z\"/>\n",
              "    </g>\n",
              "</svg>\n",
              "  </button>\n",
              "\n",
              "<style>\n",
              "  .colab-df-quickchart {\n",
              "      --bg-color: #E8F0FE;\n",
              "      --fill-color: #1967D2;\n",
              "      --hover-bg-color: #E2EBFA;\n",
              "      --hover-fill-color: #174EA6;\n",
              "      --disabled-fill-color: #AAA;\n",
              "      --disabled-bg-color: #DDD;\n",
              "  }\n",
              "\n",
              "  [theme=dark] .colab-df-quickchart {\n",
              "      --bg-color: #3B4455;\n",
              "      --fill-color: #D2E3FC;\n",
              "      --hover-bg-color: #434B5C;\n",
              "      --hover-fill-color: #FFFFFF;\n",
              "      --disabled-bg-color: #3B4455;\n",
              "      --disabled-fill-color: #666;\n",
              "  }\n",
              "\n",
              "  .colab-df-quickchart {\n",
              "    background-color: var(--bg-color);\n",
              "    border: none;\n",
              "    border-radius: 50%;\n",
              "    cursor: pointer;\n",
              "    display: none;\n",
              "    fill: var(--fill-color);\n",
              "    height: 32px;\n",
              "    padding: 0;\n",
              "    width: 32px;\n",
              "  }\n",
              "\n",
              "  .colab-df-quickchart:hover {\n",
              "    background-color: var(--hover-bg-color);\n",
              "    box-shadow: 0 1px 2px rgba(60, 64, 67, 0.3), 0 1px 3px 1px rgba(60, 64, 67, 0.15);\n",
              "    fill: var(--button-hover-fill-color);\n",
              "  }\n",
              "\n",
              "  .colab-df-quickchart-complete:disabled,\n",
              "  .colab-df-quickchart-complete:disabled:hover {\n",
              "    background-color: var(--disabled-bg-color);\n",
              "    fill: var(--disabled-fill-color);\n",
              "    box-shadow: none;\n",
              "  }\n",
              "\n",
              "  .colab-df-spinner {\n",
              "    border: 2px solid var(--fill-color);\n",
              "    border-color: transparent;\n",
              "    border-bottom-color: var(--fill-color);\n",
              "    animation:\n",
              "      spin 1s steps(1) infinite;\n",
              "  }\n",
              "\n",
              "  @keyframes spin {\n",
              "    0% {\n",
              "      border-color: transparent;\n",
              "      border-bottom-color: var(--fill-color);\n",
              "      border-left-color: var(--fill-color);\n",
              "    }\n",
              "    20% {\n",
              "      border-color: transparent;\n",
              "      border-left-color: var(--fill-color);\n",
              "      border-top-color: var(--fill-color);\n",
              "    }\n",
              "    30% {\n",
              "      border-color: transparent;\n",
              "      border-left-color: var(--fill-color);\n",
              "      border-top-color: var(--fill-color);\n",
              "      border-right-color: var(--fill-color);\n",
              "    }\n",
              "    40% {\n",
              "      border-color: transparent;\n",
              "      border-right-color: var(--fill-color);\n",
              "      border-top-color: var(--fill-color);\n",
              "    }\n",
              "    60% {\n",
              "      border-color: transparent;\n",
              "      border-right-color: var(--fill-color);\n",
              "    }\n",
              "    80% {\n",
              "      border-color: transparent;\n",
              "      border-right-color: var(--fill-color);\n",
              "      border-bottom-color: var(--fill-color);\n",
              "    }\n",
              "    90% {\n",
              "      border-color: transparent;\n",
              "      border-bottom-color: var(--fill-color);\n",
              "    }\n",
              "  }\n",
              "</style>\n",
              "\n",
              "  <script>\n",
              "    async function quickchart(key) {\n",
              "      const quickchartButtonEl =\n",
              "        document.querySelector('#' + key + ' button');\n",
              "      quickchartButtonEl.disabled = true;  // To prevent multiple clicks.\n",
              "      quickchartButtonEl.classList.add('colab-df-spinner');\n",
              "      try {\n",
              "        const charts = await google.colab.kernel.invokeFunction(\n",
              "            'suggestCharts', [key], {});\n",
              "      } catch (error) {\n",
              "        console.error('Error during call to suggestCharts:', error);\n",
              "      }\n",
              "      quickchartButtonEl.classList.remove('colab-df-spinner');\n",
              "      quickchartButtonEl.classList.add('colab-df-quickchart-complete');\n",
              "    }\n",
              "    (() => {\n",
              "      let quickchartButtonEl =\n",
              "        document.querySelector('#df-b206f55f-3381-401d-a7fc-8588590ab925 button');\n",
              "      quickchartButtonEl.style.display =\n",
              "        google.colab.kernel.accessAllowed ? 'block' : 'none';\n",
              "    })();\n",
              "  </script>\n",
              "</div>\n",
              "\n",
              "    </div>\n",
              "  </div>\n"
            ],
            "application/vnd.google.colaboratory.intrinsic+json": {
              "type": "dataframe",
              "variable_name": "df2"
            }
          },
          "metadata": {},
          "execution_count": 605
        }
      ]
    },
    {
      "cell_type": "code",
      "source": [
        "print(df2.columns) # viewing the columns"
      ],
      "metadata": {
        "colab": {
          "base_uri": "https://localhost:8080/"
        },
        "id": "MpCnBQuSyp2t",
        "outputId": "1812e6fc-fff0-4bdf-d21f-cfe1a6b3e079"
      },
      "id": "MpCnBQuSyp2t",
      "execution_count": 606,
      "outputs": [
        {
          "output_type": "stream",
          "name": "stdout",
          "text": [
            "Index(['InternalStudyID', 'REQ_REC#', 'Defendant_Sex', 'Defendant_Race',\n",
            "       'Defendant_BirthYear', 'Defendant_Age', 'Defendant_AgeGroup',\n",
            "       'Defendant_AgeatCurrentArrest', 'Defendant_AttorneyTypeAtCaseClosure',\n",
            "       'Defendant_IndigencyStatus',\n",
            "       ...\n",
            "       'NewFelonySexualAssaultArrest_OffDate',\n",
            "       'NewFelonySexualAssaultArrest_ArrestDate',\n",
            "       'NewFelonySexualAssaultArrest_DaysBetweenContactEventandOffDate',\n",
            "       'NewFelonySexualAssaultArrest_DaysBetweenOffDateandArrestDate',\n",
            "       'NewFelonySexualAssaultArrest_DaysBetweenReleaseDateandOffDate',\n",
            "       'NewFelonySexualAssaultArrest_Disposition',\n",
            "       'Intertnalindicator_ReasonforExcludingFromFollowUpAnalysis',\n",
            "       'CriminalHistoryRecordsReturnedorCMSRecordsFoundforIndividual',\n",
            "       'DispRecordFoundforChargesinOct2017Contact_Atleast1dispfound',\n",
            "       'CrimeCommission2021ReportClassificationofDefendants'],\n",
            "      dtype='object', length=709)\n"
          ]
        }
      ]
    },
    {
      "cell_type": "code",
      "source": [
        "df2= df2.rename(columns={'WhetherDefendantWasReleasedPretrial': 'released','ImposedSentenceAllChargeInContactEvent':'imp', 'SentenceTypeAllChargesAtConvictionInContactEvent':'sen'}) #renaming column header"
      ],
      "metadata": {
        "id": "UF28c3rsy3JH"
      },
      "id": "UF28c3rsy3JH",
      "execution_count": 607,
      "outputs": []
    },
    {
      "cell_type": "code",
      "source": [
        "df2['released'].unique() # checking the unique values"
      ],
      "metadata": {
        "colab": {
          "base_uri": "https://localhost:8080/"
        },
        "id": "-m86-KpdzNTr",
        "outputId": "bbc4b950-0a93-4917-ea37-e47c00270767"
      },
      "id": "-m86-KpdzNTr",
      "execution_count": 608,
      "outputs": [
        {
          "output_type": "execute_result",
          "data": {
            "text/plain": [
              "array([9, 0, 1])"
            ]
          },
          "metadata": {},
          "execution_count": 608
        }
      ]
    },
    {
      "cell_type": "code",
      "source": [
        "df2['released'].isnull().sum() # checking for missing values( no missing values)"
      ],
      "metadata": {
        "colab": {
          "base_uri": "https://localhost:8080/"
        },
        "id": "JjhGNswUz_8o",
        "outputId": "892f51a5-939f-4b1a-ba29-a2d647c0eddb"
      },
      "id": "JjhGNswUz_8o",
      "execution_count": 609,
      "outputs": [
        {
          "output_type": "execute_result",
          "data": {
            "text/plain": [
              "0"
            ]
          },
          "metadata": {},
          "execution_count": 609
        }
      ]
    },
    {
      "cell_type": "code",
      "source": [
        "df2['released']= df2['released'].replace(9,np.nan) # replacing 9 with nan ( because we had a 9 and 0/1 ( which indicate binary yes or no values))"
      ],
      "metadata": {
        "id": "TmlAj5ij0Yme"
      },
      "id": "TmlAj5ij0Yme",
      "execution_count": 610,
      "outputs": []
    },
    {
      "cell_type": "code",
      "source": [
        "df2['released'].unique() # checking if 9 is gone"
      ],
      "metadata": {
        "colab": {
          "base_uri": "https://localhost:8080/"
        },
        "id": "jsxS0uJH1bB5",
        "outputId": "13d1a646-53e3-42b7-c35c-6ceb2f1df9be"
      },
      "id": "jsxS0uJH1bB5",
      "execution_count": 611,
      "outputs": [
        {
          "output_type": "execute_result",
          "data": {
            "text/plain": [
              "array([nan,  0.,  1.])"
            ]
          },
          "metadata": {},
          "execution_count": 611
        }
      ]
    },
    {
      "cell_type": "code",
      "source": [
        "df_dummies= pd.get_dummies(df2['released'].astype('Int64') ,dummy_na=False) # converting into dummy variables ( INT), and getting rid of the NAN column ( from the np.nan method)"
      ],
      "metadata": {
        "id": "AC91Qu4XSdhY"
      },
      "id": "AC91Qu4XSdhY",
      "execution_count": 612,
      "outputs": []
    },
    {
      "cell_type": "code",
      "source": [
        "df_dummies.head() # checking the dummies"
      ],
      "metadata": {
        "colab": {
          "base_uri": "https://localhost:8080/",
          "height": 206
        },
        "id": "V7DizLTcMcvk",
        "outputId": "896548bf-05b4-4986-d8a3-e17762557d33"
      },
      "id": "V7DizLTcMcvk",
      "execution_count": 613,
      "outputs": [
        {
          "output_type": "execute_result",
          "data": {
            "text/plain": [
              "       0      1\n",
              "0  False  False\n",
              "1   True  False\n",
              "2   True  False\n",
              "3   True  False\n",
              "4  False   True"
            ],
            "text/html": [
              "\n",
              "  <div id=\"df-dc949271-e32f-47f3-8767-d838ce295416\" class=\"colab-df-container\">\n",
              "    <div>\n",
              "<style scoped>\n",
              "    .dataframe tbody tr th:only-of-type {\n",
              "        vertical-align: middle;\n",
              "    }\n",
              "\n",
              "    .dataframe tbody tr th {\n",
              "        vertical-align: top;\n",
              "    }\n",
              "\n",
              "    .dataframe thead th {\n",
              "        text-align: right;\n",
              "    }\n",
              "</style>\n",
              "<table border=\"1\" class=\"dataframe\">\n",
              "  <thead>\n",
              "    <tr style=\"text-align: right;\">\n",
              "      <th></th>\n",
              "      <th>0</th>\n",
              "      <th>1</th>\n",
              "    </tr>\n",
              "  </thead>\n",
              "  <tbody>\n",
              "    <tr>\n",
              "      <th>0</th>\n",
              "      <td>False</td>\n",
              "      <td>False</td>\n",
              "    </tr>\n",
              "    <tr>\n",
              "      <th>1</th>\n",
              "      <td>True</td>\n",
              "      <td>False</td>\n",
              "    </tr>\n",
              "    <tr>\n",
              "      <th>2</th>\n",
              "      <td>True</td>\n",
              "      <td>False</td>\n",
              "    </tr>\n",
              "    <tr>\n",
              "      <th>3</th>\n",
              "      <td>True</td>\n",
              "      <td>False</td>\n",
              "    </tr>\n",
              "    <tr>\n",
              "      <th>4</th>\n",
              "      <td>False</td>\n",
              "      <td>True</td>\n",
              "    </tr>\n",
              "  </tbody>\n",
              "</table>\n",
              "</div>\n",
              "    <div class=\"colab-df-buttons\">\n",
              "\n",
              "  <div class=\"colab-df-container\">\n",
              "    <button class=\"colab-df-convert\" onclick=\"convertToInteractive('df-dc949271-e32f-47f3-8767-d838ce295416')\"\n",
              "            title=\"Convert this dataframe to an interactive table.\"\n",
              "            style=\"display:none;\">\n",
              "\n",
              "  <svg xmlns=\"http://www.w3.org/2000/svg\" height=\"24px\" viewBox=\"0 -960 960 960\">\n",
              "    <path d=\"M120-120v-720h720v720H120Zm60-500h600v-160H180v160Zm220 220h160v-160H400v160Zm0 220h160v-160H400v160ZM180-400h160v-160H180v160Zm440 0h160v-160H620v160ZM180-180h160v-160H180v160Zm440 0h160v-160H620v160Z\"/>\n",
              "  </svg>\n",
              "    </button>\n",
              "\n",
              "  <style>\n",
              "    .colab-df-container {\n",
              "      display:flex;\n",
              "      gap: 12px;\n",
              "    }\n",
              "\n",
              "    .colab-df-convert {\n",
              "      background-color: #E8F0FE;\n",
              "      border: none;\n",
              "      border-radius: 50%;\n",
              "      cursor: pointer;\n",
              "      display: none;\n",
              "      fill: #1967D2;\n",
              "      height: 32px;\n",
              "      padding: 0 0 0 0;\n",
              "      width: 32px;\n",
              "    }\n",
              "\n",
              "    .colab-df-convert:hover {\n",
              "      background-color: #E2EBFA;\n",
              "      box-shadow: 0px 1px 2px rgba(60, 64, 67, 0.3), 0px 1px 3px 1px rgba(60, 64, 67, 0.15);\n",
              "      fill: #174EA6;\n",
              "    }\n",
              "\n",
              "    .colab-df-buttons div {\n",
              "      margin-bottom: 4px;\n",
              "    }\n",
              "\n",
              "    [theme=dark] .colab-df-convert {\n",
              "      background-color: #3B4455;\n",
              "      fill: #D2E3FC;\n",
              "    }\n",
              "\n",
              "    [theme=dark] .colab-df-convert:hover {\n",
              "      background-color: #434B5C;\n",
              "      box-shadow: 0px 1px 3px 1px rgba(0, 0, 0, 0.15);\n",
              "      filter: drop-shadow(0px 1px 2px rgba(0, 0, 0, 0.3));\n",
              "      fill: #FFFFFF;\n",
              "    }\n",
              "  </style>\n",
              "\n",
              "    <script>\n",
              "      const buttonEl =\n",
              "        document.querySelector('#df-dc949271-e32f-47f3-8767-d838ce295416 button.colab-df-convert');\n",
              "      buttonEl.style.display =\n",
              "        google.colab.kernel.accessAllowed ? 'block' : 'none';\n",
              "\n",
              "      async function convertToInteractive(key) {\n",
              "        const element = document.querySelector('#df-dc949271-e32f-47f3-8767-d838ce295416');\n",
              "        const dataTable =\n",
              "          await google.colab.kernel.invokeFunction('convertToInteractive',\n",
              "                                                    [key], {});\n",
              "        if (!dataTable) return;\n",
              "\n",
              "        const docLinkHtml = 'Like what you see? Visit the ' +\n",
              "          '<a target=\"_blank\" href=https://colab.research.google.com/notebooks/data_table.ipynb>data table notebook</a>'\n",
              "          + ' to learn more about interactive tables.';\n",
              "        element.innerHTML = '';\n",
              "        dataTable['output_type'] = 'display_data';\n",
              "        await google.colab.output.renderOutput(dataTable, element);\n",
              "        const docLink = document.createElement('div');\n",
              "        docLink.innerHTML = docLinkHtml;\n",
              "        element.appendChild(docLink);\n",
              "      }\n",
              "    </script>\n",
              "  </div>\n",
              "\n",
              "\n",
              "<div id=\"df-235ad798-b508-4985-9868-77cc92835302\">\n",
              "  <button class=\"colab-df-quickchart\" onclick=\"quickchart('df-235ad798-b508-4985-9868-77cc92835302')\"\n",
              "            title=\"Suggest charts\"\n",
              "            style=\"display:none;\">\n",
              "\n",
              "<svg xmlns=\"http://www.w3.org/2000/svg\" height=\"24px\"viewBox=\"0 0 24 24\"\n",
              "     width=\"24px\">\n",
              "    <g>\n",
              "        <path d=\"M19 3H5c-1.1 0-2 .9-2 2v14c0 1.1.9 2 2 2h14c1.1 0 2-.9 2-2V5c0-1.1-.9-2-2-2zM9 17H7v-7h2v7zm4 0h-2V7h2v10zm4 0h-2v-4h2v4z\"/>\n",
              "    </g>\n",
              "</svg>\n",
              "  </button>\n",
              "\n",
              "<style>\n",
              "  .colab-df-quickchart {\n",
              "      --bg-color: #E8F0FE;\n",
              "      --fill-color: #1967D2;\n",
              "      --hover-bg-color: #E2EBFA;\n",
              "      --hover-fill-color: #174EA6;\n",
              "      --disabled-fill-color: #AAA;\n",
              "      --disabled-bg-color: #DDD;\n",
              "  }\n",
              "\n",
              "  [theme=dark] .colab-df-quickchart {\n",
              "      --bg-color: #3B4455;\n",
              "      --fill-color: #D2E3FC;\n",
              "      --hover-bg-color: #434B5C;\n",
              "      --hover-fill-color: #FFFFFF;\n",
              "      --disabled-bg-color: #3B4455;\n",
              "      --disabled-fill-color: #666;\n",
              "  }\n",
              "\n",
              "  .colab-df-quickchart {\n",
              "    background-color: var(--bg-color);\n",
              "    border: none;\n",
              "    border-radius: 50%;\n",
              "    cursor: pointer;\n",
              "    display: none;\n",
              "    fill: var(--fill-color);\n",
              "    height: 32px;\n",
              "    padding: 0;\n",
              "    width: 32px;\n",
              "  }\n",
              "\n",
              "  .colab-df-quickchart:hover {\n",
              "    background-color: var(--hover-bg-color);\n",
              "    box-shadow: 0 1px 2px rgba(60, 64, 67, 0.3), 0 1px 3px 1px rgba(60, 64, 67, 0.15);\n",
              "    fill: var(--button-hover-fill-color);\n",
              "  }\n",
              "\n",
              "  .colab-df-quickchart-complete:disabled,\n",
              "  .colab-df-quickchart-complete:disabled:hover {\n",
              "    background-color: var(--disabled-bg-color);\n",
              "    fill: var(--disabled-fill-color);\n",
              "    box-shadow: none;\n",
              "  }\n",
              "\n",
              "  .colab-df-spinner {\n",
              "    border: 2px solid var(--fill-color);\n",
              "    border-color: transparent;\n",
              "    border-bottom-color: var(--fill-color);\n",
              "    animation:\n",
              "      spin 1s steps(1) infinite;\n",
              "  }\n",
              "\n",
              "  @keyframes spin {\n",
              "    0% {\n",
              "      border-color: transparent;\n",
              "      border-bottom-color: var(--fill-color);\n",
              "      border-left-color: var(--fill-color);\n",
              "    }\n",
              "    20% {\n",
              "      border-color: transparent;\n",
              "      border-left-color: var(--fill-color);\n",
              "      border-top-color: var(--fill-color);\n",
              "    }\n",
              "    30% {\n",
              "      border-color: transparent;\n",
              "      border-left-color: var(--fill-color);\n",
              "      border-top-color: var(--fill-color);\n",
              "      border-right-color: var(--fill-color);\n",
              "    }\n",
              "    40% {\n",
              "      border-color: transparent;\n",
              "      border-right-color: var(--fill-color);\n",
              "      border-top-color: var(--fill-color);\n",
              "    }\n",
              "    60% {\n",
              "      border-color: transparent;\n",
              "      border-right-color: var(--fill-color);\n",
              "    }\n",
              "    80% {\n",
              "      border-color: transparent;\n",
              "      border-right-color: var(--fill-color);\n",
              "      border-bottom-color: var(--fill-color);\n",
              "    }\n",
              "    90% {\n",
              "      border-color: transparent;\n",
              "      border-bottom-color: var(--fill-color);\n",
              "    }\n",
              "  }\n",
              "</style>\n",
              "\n",
              "  <script>\n",
              "    async function quickchart(key) {\n",
              "      const quickchartButtonEl =\n",
              "        document.querySelector('#' + key + ' button');\n",
              "      quickchartButtonEl.disabled = true;  // To prevent multiple clicks.\n",
              "      quickchartButtonEl.classList.add('colab-df-spinner');\n",
              "      try {\n",
              "        const charts = await google.colab.kernel.invokeFunction(\n",
              "            'suggestCharts', [key], {});\n",
              "      } catch (error) {\n",
              "        console.error('Error during call to suggestCharts:', error);\n",
              "      }\n",
              "      quickchartButtonEl.classList.remove('colab-df-spinner');\n",
              "      quickchartButtonEl.classList.add('colab-df-quickchart-complete');\n",
              "    }\n",
              "    (() => {\n",
              "      let quickchartButtonEl =\n",
              "        document.querySelector('#df-235ad798-b508-4985-9868-77cc92835302 button');\n",
              "      quickchartButtonEl.style.display =\n",
              "        google.colab.kernel.accessAllowed ? 'block' : 'none';\n",
              "    })();\n",
              "  </script>\n",
              "</div>\n",
              "\n",
              "    </div>\n",
              "  </div>\n"
            ],
            "application/vnd.google.colaboratory.intrinsic+json": {
              "type": "dataframe",
              "variable_name": "df_dummies",
              "summary": "{\n  \"name\": \"df_dummies\",\n  \"rows\": 22986,\n  \"fields\": [\n    {\n      \"column\": \"0\",\n      \"properties\": {\n        \"dtype\": \"boolean\",\n        \"num_unique_values\": 2,\n        \"samples\": [\n          true,\n          false\n        ],\n        \"semantic_type\": \"\",\n        \"description\": \"\"\n      }\n    },\n    {\n      \"column\": \"1\",\n      \"properties\": {\n        \"dtype\": \"boolean\",\n        \"num_unique_values\": 2,\n        \"samples\": [\n          true,\n          false\n        ],\n        \"semantic_type\": \"\",\n        \"description\": \"\"\n      }\n    }\n  ]\n}"
            }
          },
          "metadata": {},
          "execution_count": 613
        }
      ]
    },
    {
      "cell_type": "markdown",
      "source": [
        "QUESTION 1 PART 4"
      ],
      "metadata": {
        "id": "sNwxmdRIL-qb"
      },
      "id": "sNwxmdRIL-qb"
    },
    {
      "cell_type": "code",
      "source": [
        "#This part shows us that some missing values might not be random ( related/explained by another column)\n",
        "# for example, with this variable: SentenceTypeAllChargesAtConvictionInContactEvent, if a defendeant was not convicted, or had dropped charges ( then no sentence would be given)\n",
        "df2['sen'].isna().sum() # invesitgating if there's any missing values (none)"
      ],
      "metadata": {
        "colab": {
          "base_uri": "https://localhost:8080/"
        },
        "id": "vXOGHfu1TYBV",
        "outputId": "c20b4e17-9b33-4639-bcc7-1d45ccaf986a"
      },
      "id": "vXOGHfu1TYBV",
      "execution_count": 614,
      "outputs": [
        {
          "output_type": "execute_result",
          "data": {
            "text/plain": [
              "0"
            ]
          },
          "metadata": {},
          "execution_count": 614
        }
      ]
    },
    {
      "cell_type": "code",
      "source": [
        "df2['sen'].unique() # checking the unique values"
      ],
      "metadata": {
        "colab": {
          "base_uri": "https://localhost:8080/"
        },
        "id": "OoeLdPffVs--",
        "outputId": "4212cd98-717d-48f2-9885-ce405ef91664"
      },
      "id": "OoeLdPffVs--",
      "execution_count": 615,
      "outputs": [
        {
          "output_type": "execute_result",
          "data": {
            "text/plain": [
              "array([9, 0, 1, 4, 2])"
            ]
          },
          "metadata": {},
          "execution_count": 615
        }
      ]
    },
    {
      "cell_type": "code",
      "source": [
        "df2['sen'].head(20)"
      ],
      "metadata": {
        "colab": {
          "base_uri": "https://localhost:8080/",
          "height": 711
        },
        "id": "iTkBgP2kV6FF",
        "outputId": "875d734e-b229-4c3d-a251-405ac1f355d6"
      },
      "id": "iTkBgP2kV6FF",
      "execution_count": 616,
      "outputs": [
        {
          "output_type": "execute_result",
          "data": {
            "text/plain": [
              "0     9\n",
              "1     0\n",
              "2     1\n",
              "3     1\n",
              "4     4\n",
              "5     0\n",
              "6     1\n",
              "7     0\n",
              "8     1\n",
              "9     1\n",
              "10    0\n",
              "11    4\n",
              "12    4\n",
              "13    1\n",
              "14    1\n",
              "15    4\n",
              "16    4\n",
              "17    0\n",
              "18    4\n",
              "19    0\n",
              "Name: sen, dtype: int64"
            ],
            "text/html": [
              "<div>\n",
              "<style scoped>\n",
              "    .dataframe tbody tr th:only-of-type {\n",
              "        vertical-align: middle;\n",
              "    }\n",
              "\n",
              "    .dataframe tbody tr th {\n",
              "        vertical-align: top;\n",
              "    }\n",
              "\n",
              "    .dataframe thead th {\n",
              "        text-align: right;\n",
              "    }\n",
              "</style>\n",
              "<table border=\"1\" class=\"dataframe\">\n",
              "  <thead>\n",
              "    <tr style=\"text-align: right;\">\n",
              "      <th></th>\n",
              "      <th>sen</th>\n",
              "    </tr>\n",
              "  </thead>\n",
              "  <tbody>\n",
              "    <tr>\n",
              "      <th>0</th>\n",
              "      <td>9</td>\n",
              "    </tr>\n",
              "    <tr>\n",
              "      <th>1</th>\n",
              "      <td>0</td>\n",
              "    </tr>\n",
              "    <tr>\n",
              "      <th>2</th>\n",
              "      <td>1</td>\n",
              "    </tr>\n",
              "    <tr>\n",
              "      <th>3</th>\n",
              "      <td>1</td>\n",
              "    </tr>\n",
              "    <tr>\n",
              "      <th>4</th>\n",
              "      <td>4</td>\n",
              "    </tr>\n",
              "    <tr>\n",
              "      <th>5</th>\n",
              "      <td>0</td>\n",
              "    </tr>\n",
              "    <tr>\n",
              "      <th>6</th>\n",
              "      <td>1</td>\n",
              "    </tr>\n",
              "    <tr>\n",
              "      <th>7</th>\n",
              "      <td>0</td>\n",
              "    </tr>\n",
              "    <tr>\n",
              "      <th>8</th>\n",
              "      <td>1</td>\n",
              "    </tr>\n",
              "    <tr>\n",
              "      <th>9</th>\n",
              "      <td>1</td>\n",
              "    </tr>\n",
              "    <tr>\n",
              "      <th>10</th>\n",
              "      <td>0</td>\n",
              "    </tr>\n",
              "    <tr>\n",
              "      <th>11</th>\n",
              "      <td>4</td>\n",
              "    </tr>\n",
              "    <tr>\n",
              "      <th>12</th>\n",
              "      <td>4</td>\n",
              "    </tr>\n",
              "    <tr>\n",
              "      <th>13</th>\n",
              "      <td>1</td>\n",
              "    </tr>\n",
              "    <tr>\n",
              "      <th>14</th>\n",
              "      <td>1</td>\n",
              "    </tr>\n",
              "    <tr>\n",
              "      <th>15</th>\n",
              "      <td>4</td>\n",
              "    </tr>\n",
              "    <tr>\n",
              "      <th>16</th>\n",
              "      <td>4</td>\n",
              "    </tr>\n",
              "    <tr>\n",
              "      <th>17</th>\n",
              "      <td>0</td>\n",
              "    </tr>\n",
              "    <tr>\n",
              "      <th>18</th>\n",
              "      <td>4</td>\n",
              "    </tr>\n",
              "    <tr>\n",
              "      <th>19</th>\n",
              "      <td>0</td>\n",
              "    </tr>\n",
              "  </tbody>\n",
              "</table>\n",
              "</div><br><label><b>dtype:</b> int64</label>"
            ]
          },
          "metadata": {},
          "execution_count": 616
        }
      ]
    },
    {
      "cell_type": "code",
      "source": [
        "df2['imp'].unique() # checking the unique values"
      ],
      "metadata": {
        "colab": {
          "base_uri": "https://localhost:8080/"
        },
        "id": "DeJuDGK91m1_",
        "outputId": "b37f1951-46bd-48cd-f5cc-f301d65d12e2"
      },
      "id": "DeJuDGK91m1_",
      "execution_count": 617,
      "outputs": [
        {
          "output_type": "execute_result",
          "data": {
            "text/plain": [
              "array([' ', '60', '12', '.985626283367556', '36', '6', '24',\n",
              "       '5.91375770020534', '120', '72', '11.9917864476386', '0',\n",
              "       '2.95687885010267', '84', '108', '300', '240', '180', '4', '96',\n",
              "       '2', '54', '.328542094455852', '44', '5', '115', '132', '48',\n",
              "       '258', '34', '76', '.164271047227926', '.131416837782341', '111',\n",
              "       '9', '3', '1.97125256673511', '36.9856262833676',\n",
              "       '.0657084188911704', '35.4928131416838', '106.492813141684', '8',\n",
              "       '35', '18.3141683778234', '480', '32', '93', '234', '732',\n",
              "       '1.16427104722793', '4.6570841889117', '21', '7',\n",
              "       '4.49281314168378', '18', '600', '43.1642710472279', '179', '52',\n",
              "       '30', '20', '192', '702', '14', '55', '53', '11.9055441478439',\n",
              "       '114', '35.0061601642711', '68', '.657084188911704',\n",
              "       '46.6242299794661', '102', '65', '200', '57', '24.3285420944559',\n",
              "       '12.1642710472279', '117', '81.4928131416838', '22.4928131416838',\n",
              "       '1980', '3.6570841889117', '56', '10', '2.79260780287474', '1',\n",
              "       '47', '22', '1500', '40', '284', '11', '118', '42', '162', '156',\n",
              "       '47.2956878850103', '105', '51', '246', '29', '75', '324', '360',\n",
              "       '34.4804928131417', '120.328542094456', '59.9260780287474', '66',\n",
              "       '59.9917864476386', '660', '51.1642710472279', '14.9568788501027',\n",
              "       '3.98562628336756', '78', '228', '1.47843942505133', '62', '4.8',\n",
              "       '86', '168', '23', '33', '48.0328542094456', '720', '348', '1200',\n",
              "       '27', '49', '87', '420', '63', '79.9260780287474',\n",
              "       '57.0349075975359', '49.9712525667351', '59.4928131416838', '17',\n",
              "       '238.492813141684', '60.9856262833676', '126', '45', '158', '216',\n",
              "       '227', '42.9568788501027', '445', '70.952772073922', '516',\n",
              "       '177.82135523614', '1752', '90', '1080', '141', '4.82956878850103',\n",
              "       '230', '31', '2208', '52.5133470225873', '69', '26',\n",
              "       '33.4928131416838', '140', '131', '344', '219', '101', '71', '59',\n",
              "       '58', '120.197125256674', '67', '35.4004106776181',\n",
              "       '3.28542094455852', '40.1642710472279', '91', '1.7741273100616',\n",
              "       '155', '34.4928131416838', '81', '92.3285420944559',\n",
              "       '3.5482546201232', '207', '74', '518', '28', '8.95687885010267',\n",
              "       '237', '404.673511293634', '18.1642710472279', '10.7433264887064',\n",
              "       '551', '39', '15', '124', '43', '176', '19.4928131416838', '482',\n",
              "       '129', '88', '46', '45.8542094455852', '128.628336755647',\n",
              "       '136.492813141684', '108.328542094456', '50', '363.663244353183',\n",
              "       '288', '250', '107', '81.0225872689938', '444', '205',\n",
              "       '10.6570841889117', '19', '66.9856262833676', '38.4928131416838',\n",
              "       '264', '276', '173', '222', '144', '294', '336', '431', '450',\n",
              "       '73', '99.3285420944559', '128', '30.8069815195072',\n",
              "       '31.5256673511294', '127', '202', '55.3285420944559', '89', '242',\n",
              "       '1.31416837782341', '1029', '.788501026694045', '194.858316221766',\n",
              "       '399', '39.6570841889117', '56.95687885', '198',\n",
              "       '120.985626283368', '47.6570841889117', '148', '6.8993839835729',\n",
              "       '65.3285420944559', '5.95277207392197', '.0985626283367557',\n",
              "       '3.32854209445585', '3.94250513347023', '12.9856262833676',\n",
              "       '6.98562628336756', '13.1498973305955', '15.1642710472279',\n",
              "       '17.1971252566735', '17.9137577002053', '104', '212',\n",
              "       '24.6570841889117', '72.6570841889117', '2.98562628336756',\n",
              "       '144.985626283368', '31.9712525667351', '183', '4.98562628336756',\n",
              "       '11.8213552361396', '252', '12.394250513347', '42.4928131416838',\n",
              "       '10.1642710472279', '11.1642710472279', '5.49281314168378',\n",
              "       '59.6632443531827', '12.3285420944559', '48.9856262833676',\n",
              "       '240.985626283368', '2.6570841889117', '540', '2.97125256673511',\n",
              "       '6.32854209445585', '23.6632443531828', '133.657084188912',\n",
              "       '35.3285420944559', '456', '103', '1.72279260780287',\n",
              "       '12.6570841889117', '11.6570841889117', '60.3285420944559',\n",
              "       '3.78850102669405', '576', '2.13141683778234', '492',\n",
              "       '14.9856262833676', '24.9856262833676', '61.9712525667351',\n",
              "       '5.6570841889117', '16', '42.1642710472279', '.492813141683778',\n",
              "       '138', '13.3141683778234', '11.8932238193018', '5.32854209445585',\n",
              "       '95', '62.6570841889117', '3.08829568788501', '11.8275154004107',\n",
              "       '1.64271047227926', '47.9917864476386', '4.27104722792608',\n",
              "       '8.32854209445585', '3.31416837782341', '70', '77',\n",
              "       '1.09856262833676', '48.1642710472279', '27.4928131416838',\n",
              "       '6.93839835728953', '1011', '.68993839835729', '1.1170431211499',\n",
              "       '1.49281314168378', '4.16427104722793', '1.19712525667351',\n",
              "       '4.07392197125257', '188', '11.3285420944559', '.0328542094455852',\n",
              "       '432', '11.952772073922', '36.4928131416838', '23.9835728952772',\n",
              "       '9.98562628336756', '98', '36.3285420944559', '112',\n",
              "       '.394250513347023', '13', '.262833675564682', '13.7987679671458',\n",
              "       '5.8870636550308', '354', '5.91991786447639', '24.1642710472279',\n",
              "       '62.95687885', '4.59958932238193', '123', '2.32854209445585',\n",
              "       '23.9240246406571', '204', '197', '174', '16.1498973305955', '840',\n",
              "       '440', '98.95687885', '17.952772073922', '63.9425051334702',\n",
              "       '60.1314168377823', '12.1314168377823', '172.952772073922',\n",
              "       '.197125256673511', '138.164271047228', '4.92813141683778',\n",
              "       '.919917864476386', '18.9856262833676', '6.6570841889117',\n",
              "       '2.85420944558522', '8.91375770020534', '146', '12.4928131416838',\n",
              "       '.558521560574949', '.722792607802875', '5.82135523613963',\n",
              "       '84.9856262833676', '6.16427104722793', '15.9856262833676',\n",
              "       '64.5585215605749', '38.299794661191', '11.958932238193',\n",
              "       '3.1211498973306', '126.328542094456', '5.16427104722793', '64',\n",
              "       '42.6570841889117', '312', '19.9712525667351', '82.3285420944559',\n",
              "       '23.9712525667351', '17.6242299794661', '121.971252566735',\n",
              "       '59.6550308008214', '1.32854209445585', '7.97125256673511',\n",
              "       '1.91991786447639', '.525667351129363', '9.32854209445585',\n",
              "       '42.9856262833676', '41.9137577002053', '72.9856262833676',\n",
              "       '12.4784394250513', '5.19096509240246', '473', '16.6570841889117',\n",
              "       '109', '86.3285420944559', '41', '1.90554414784394',\n",
              "       '94.1642710472279', '302', '4.39425051334702', '10.8213552361396',\n",
              "       '18.3285420944559', '154', '83', '110.956878850103', '226',\n",
              "       '96.0328542094456', '4.82135523613963', '30.3285420944559',\n",
              "       '37.9712525667351', '50.4640657084189', '286', '99',\n",
              "       '99.4928131416838', '2.6611909650924', '70.9712525667351',\n",
              "       '13.9712525667351', '23.6570841889117', '.459958932238193',\n",
              "       '132.492813141684', '283', '49.3141683778234', '27.9856262833676',\n",
              "       '38', '7.6570841889117', '83.6550308008214', '10.9199178644764',\n",
              "       '162.328542094456', '37', '132.328542094456', '35.952772073922',\n",
              "       '165', '10.9856262833676', '20.1642710472279', '2.59137577002053',\n",
              "       '175', '180.985626283368', '10.3285420944559', '36.1642710472279',\n",
              "       '120.657084188912', '232', '152', '8.98562628336756', '167',\n",
              "       '11.0657084188912', '11.2032854209446', '5.19712525667351',\n",
              "       '3.16427104722793', '60.1642710472279', '1.18275154004107',\n",
              "       '21.1642710472279', '2.19712525667351', '4.19712525667351',\n",
              "       '2.62833675564682', '119.952772073922', '119.958932238193',\n",
              "       '9.49281314168378', '5.25667351129363', '15.3285420944559',\n",
              "       '2.82135523613963', '192.985626283368', '48.6570841889117',\n",
              "       '5.95687885010267', '2.29979466119097', '960', '2.36550308008214',\n",
              "       '116', '19.5133470225873', '1.6570841889117'], dtype=object)"
            ]
          },
          "metadata": {},
          "execution_count": 617
        }
      ]
    },
    {
      "cell_type": "code",
      "source": [
        "df2['imp'].isnull().sum() # checking for missing values ( no missing values)"
      ],
      "metadata": {
        "colab": {
          "base_uri": "https://localhost:8080/"
        },
        "id": "mQuR3SpxBPNm",
        "outputId": "fd07a662-65d2-4685-bc6d-1d4b71be87ea"
      },
      "id": "mQuR3SpxBPNm",
      "execution_count": 618,
      "outputs": [
        {
          "output_type": "execute_result",
          "data": {
            "text/plain": [
              "0"
            ]
          },
          "metadata": {},
          "execution_count": 618
        }
      ]
    },
    {
      "cell_type": "code",
      "source": [
        "df2['imp'].replace(\" \", np.nan, inplace=True) # replaceing the spaces with nan\n"
      ],
      "metadata": {
        "colab": {
          "base_uri": "https://localhost:8080/"
        },
        "id": "GR-GNQq_DMoU",
        "outputId": "a67fb800-9219-4d57-f30b-aa2d94f28051"
      },
      "id": "GR-GNQq_DMoU",
      "execution_count": 619,
      "outputs": [
        {
          "output_type": "stream",
          "name": "stderr",
          "text": [
            "<ipython-input-619-8005e609c5a0>:1: FutureWarning: A value is trying to be set on a copy of a DataFrame or Series through chained assignment using an inplace method.\n",
            "The behavior will change in pandas 3.0. This inplace method will never work because the intermediate object on which we are setting values always behaves as a copy.\n",
            "\n",
            "For example, when doing 'df[col].method(value, inplace=True)', try using 'df.method({col: value}, inplace=True)' or df[col] = df[col].method(value) instead, to perform the operation inplace on the original object.\n",
            "\n",
            "\n",
            "  df2['imp'].replace(\" \", np.nan, inplace=True) # replaceing the spaces with nan\n"
          ]
        }
      ]
    },
    {
      "cell_type": "code",
      "source": [
        "df2['imp']= pd.to_numeric(df2['imp'], errors='coerce') # changing the data type to numeric"
      ],
      "metadata": {
        "id": "RIp4EXsKDyHZ"
      },
      "id": "RIp4EXsKDyHZ",
      "execution_count": 620,
      "outputs": []
    },
    {
      "cell_type": "code",
      "source": [
        "df2['imp'].unique() # checking final\n",
        "np.set_printoptions(suppress=True) # making the numeric seem shorter\n",
        "df2['imp']= df2['imp'].astype(float) # changing data type to int\n",
        "df2['imp'].head(10)"
      ],
      "metadata": {
        "colab": {
          "base_uri": "https://localhost:8080/",
          "height": 397
        },
        "id": "BsKvSCW1CwxZ",
        "outputId": "69e4d69e-c235-4789-dcfc-98a37c0bc244"
      },
      "id": "BsKvSCW1CwxZ",
      "execution_count": 621,
      "outputs": [
        {
          "output_type": "execute_result",
          "data": {
            "text/plain": [
              "0          NaN\n",
              "1    60.000000\n",
              "2    12.000000\n",
              "3     0.985626\n",
              "4          NaN\n",
              "5    12.000000\n",
              "6    36.000000\n",
              "7     6.000000\n",
              "8    24.000000\n",
              "9    12.000000\n",
              "Name: imp, dtype: float64"
            ],
            "text/html": [
              "<div>\n",
              "<style scoped>\n",
              "    .dataframe tbody tr th:only-of-type {\n",
              "        vertical-align: middle;\n",
              "    }\n",
              "\n",
              "    .dataframe tbody tr th {\n",
              "        vertical-align: top;\n",
              "    }\n",
              "\n",
              "    .dataframe thead th {\n",
              "        text-align: right;\n",
              "    }\n",
              "</style>\n",
              "<table border=\"1\" class=\"dataframe\">\n",
              "  <thead>\n",
              "    <tr style=\"text-align: right;\">\n",
              "      <th></th>\n",
              "      <th>imp</th>\n",
              "    </tr>\n",
              "  </thead>\n",
              "  <tbody>\n",
              "    <tr>\n",
              "      <th>0</th>\n",
              "      <td>NaN</td>\n",
              "    </tr>\n",
              "    <tr>\n",
              "      <th>1</th>\n",
              "      <td>60.000000</td>\n",
              "    </tr>\n",
              "    <tr>\n",
              "      <th>2</th>\n",
              "      <td>12.000000</td>\n",
              "    </tr>\n",
              "    <tr>\n",
              "      <th>3</th>\n",
              "      <td>0.985626</td>\n",
              "    </tr>\n",
              "    <tr>\n",
              "      <th>4</th>\n",
              "      <td>NaN</td>\n",
              "    </tr>\n",
              "    <tr>\n",
              "      <th>5</th>\n",
              "      <td>12.000000</td>\n",
              "    </tr>\n",
              "    <tr>\n",
              "      <th>6</th>\n",
              "      <td>36.000000</td>\n",
              "    </tr>\n",
              "    <tr>\n",
              "      <th>7</th>\n",
              "      <td>6.000000</td>\n",
              "    </tr>\n",
              "    <tr>\n",
              "      <th>8</th>\n",
              "      <td>24.000000</td>\n",
              "    </tr>\n",
              "    <tr>\n",
              "      <th>9</th>\n",
              "      <td>12.000000</td>\n",
              "    </tr>\n",
              "  </tbody>\n",
              "</table>\n",
              "</div><br><label><b>dtype:</b> float64</label>"
            ]
          },
          "metadata": {},
          "execution_count": 621
        }
      ]
    },
    {
      "cell_type": "code",
      "source": [
        "miss1=df2['imp'].isna()\n",
        "print(miss1) # checking which stuff have missing"
      ],
      "metadata": {
        "colab": {
          "base_uri": "https://localhost:8080/"
        },
        "id": "7NNyKPQHZcbl",
        "outputId": "adfdb407-894f-4bc9-ac1a-a8ffd7b89693"
      },
      "id": "7NNyKPQHZcbl",
      "execution_count": 622,
      "outputs": [
        {
          "output_type": "stream",
          "name": "stdout",
          "text": [
            "0         True\n",
            "1        False\n",
            "2        False\n",
            "3        False\n",
            "4         True\n",
            "         ...  \n",
            "22981     True\n",
            "22982     True\n",
            "22983     True\n",
            "22984     True\n",
            "22985     True\n",
            "Name: imp, Length: 22986, dtype: bool\n"
          ]
        }
      ]
    },
    {
      "cell_type": "code",
      "source": [
        "miss2=df2['sen'].isna()\n",
        "print(miss2)"
      ],
      "metadata": {
        "colab": {
          "base_uri": "https://localhost:8080/"
        },
        "id": "kwz80HpfaTwa",
        "outputId": "2db404df-c40c-4a51-d677-0c1a404a4ab2"
      },
      "id": "kwz80HpfaTwa",
      "execution_count": 623,
      "outputs": [
        {
          "output_type": "stream",
          "name": "stdout",
          "text": [
            "0        False\n",
            "1        False\n",
            "2        False\n",
            "3        False\n",
            "4        False\n",
            "         ...  \n",
            "22981    False\n",
            "22982    False\n",
            "22983    False\n",
            "22984    False\n",
            "22985    False\n",
            "Name: sen, Length: 22986, dtype: bool\n"
          ]
        }
      ]
    },
    {
      "cell_type": "code",
      "source": [
        "miss1.value_counts() # checking the number of missing values"
      ],
      "metadata": {
        "colab": {
          "base_uri": "https://localhost:8080/",
          "height": 178
        },
        "id": "nDRtmkJ8ad_3",
        "outputId": "599589fe-7e99-4270-fac5-b5f89779b875"
      },
      "id": "nDRtmkJ8ad_3",
      "execution_count": 624,
      "outputs": [
        {
          "output_type": "execute_result",
          "data": {
            "text/plain": [
              "imp\n",
              "False    13933\n",
              "True      9053\n",
              "Name: count, dtype: int64"
            ],
            "text/html": [
              "<div>\n",
              "<style scoped>\n",
              "    .dataframe tbody tr th:only-of-type {\n",
              "        vertical-align: middle;\n",
              "    }\n",
              "\n",
              "    .dataframe tbody tr th {\n",
              "        vertical-align: top;\n",
              "    }\n",
              "\n",
              "    .dataframe thead th {\n",
              "        text-align: right;\n",
              "    }\n",
              "</style>\n",
              "<table border=\"1\" class=\"dataframe\">\n",
              "  <thead>\n",
              "    <tr style=\"text-align: right;\">\n",
              "      <th></th>\n",
              "      <th>count</th>\n",
              "    </tr>\n",
              "    <tr>\n",
              "      <th>imp</th>\n",
              "      <th></th>\n",
              "    </tr>\n",
              "  </thead>\n",
              "  <tbody>\n",
              "    <tr>\n",
              "      <th>False</th>\n",
              "      <td>13933</td>\n",
              "    </tr>\n",
              "    <tr>\n",
              "      <th>True</th>\n",
              "      <td>9053</td>\n",
              "    </tr>\n",
              "  </tbody>\n",
              "</table>\n",
              "</div><br><label><b>dtype:</b> int64</label>"
            ]
          },
          "metadata": {},
          "execution_count": 624
        }
      ]
    },
    {
      "cell_type": "markdown",
      "source": [
        "Looks like we have over 9,000 missing values"
      ],
      "metadata": {
        "id": "ewfltkNyajMm"
      },
      "id": "ewfltkNyajMm"
    },
    {
      "cell_type": "code",
      "source": [
        "pd.crosstab(miss1, miss2, margins=True) # checking the cross tab"
      ],
      "metadata": {
        "colab": {
          "base_uri": "https://localhost:8080/",
          "height": 174
        },
        "id": "XUg5pH921N-F",
        "outputId": "0a197171-619c-49f7-96f9-8f815c751767"
      },
      "id": "XUg5pH921N-F",
      "execution_count": 625,
      "outputs": [
        {
          "output_type": "execute_result",
          "data": {
            "text/plain": [
              "sen    False    All\n",
              "imp                \n",
              "False  13933  13933\n",
              "True    9053   9053\n",
              "All    22986  22986"
            ],
            "text/html": [
              "\n",
              "  <div id=\"df-60560b9e-8776-409d-bcbf-8006190b5f2b\" class=\"colab-df-container\">\n",
              "    <div>\n",
              "<style scoped>\n",
              "    .dataframe tbody tr th:only-of-type {\n",
              "        vertical-align: middle;\n",
              "    }\n",
              "\n",
              "    .dataframe tbody tr th {\n",
              "        vertical-align: top;\n",
              "    }\n",
              "\n",
              "    .dataframe thead th {\n",
              "        text-align: right;\n",
              "    }\n",
              "</style>\n",
              "<table border=\"1\" class=\"dataframe\">\n",
              "  <thead>\n",
              "    <tr style=\"text-align: right;\">\n",
              "      <th>sen</th>\n",
              "      <th>False</th>\n",
              "      <th>All</th>\n",
              "    </tr>\n",
              "    <tr>\n",
              "      <th>imp</th>\n",
              "      <th></th>\n",
              "      <th></th>\n",
              "    </tr>\n",
              "  </thead>\n",
              "  <tbody>\n",
              "    <tr>\n",
              "      <th>False</th>\n",
              "      <td>13933</td>\n",
              "      <td>13933</td>\n",
              "    </tr>\n",
              "    <tr>\n",
              "      <th>True</th>\n",
              "      <td>9053</td>\n",
              "      <td>9053</td>\n",
              "    </tr>\n",
              "    <tr>\n",
              "      <th>All</th>\n",
              "      <td>22986</td>\n",
              "      <td>22986</td>\n",
              "    </tr>\n",
              "  </tbody>\n",
              "</table>\n",
              "</div>\n",
              "    <div class=\"colab-df-buttons\">\n",
              "\n",
              "  <div class=\"colab-df-container\">\n",
              "    <button class=\"colab-df-convert\" onclick=\"convertToInteractive('df-60560b9e-8776-409d-bcbf-8006190b5f2b')\"\n",
              "            title=\"Convert this dataframe to an interactive table.\"\n",
              "            style=\"display:none;\">\n",
              "\n",
              "  <svg xmlns=\"http://www.w3.org/2000/svg\" height=\"24px\" viewBox=\"0 -960 960 960\">\n",
              "    <path d=\"M120-120v-720h720v720H120Zm60-500h600v-160H180v160Zm220 220h160v-160H400v160Zm0 220h160v-160H400v160ZM180-400h160v-160H180v160Zm440 0h160v-160H620v160ZM180-180h160v-160H180v160Zm440 0h160v-160H620v160Z\"/>\n",
              "  </svg>\n",
              "    </button>\n",
              "\n",
              "  <style>\n",
              "    .colab-df-container {\n",
              "      display:flex;\n",
              "      gap: 12px;\n",
              "    }\n",
              "\n",
              "    .colab-df-convert {\n",
              "      background-color: #E8F0FE;\n",
              "      border: none;\n",
              "      border-radius: 50%;\n",
              "      cursor: pointer;\n",
              "      display: none;\n",
              "      fill: #1967D2;\n",
              "      height: 32px;\n",
              "      padding: 0 0 0 0;\n",
              "      width: 32px;\n",
              "    }\n",
              "\n",
              "    .colab-df-convert:hover {\n",
              "      background-color: #E2EBFA;\n",
              "      box-shadow: 0px 1px 2px rgba(60, 64, 67, 0.3), 0px 1px 3px 1px rgba(60, 64, 67, 0.15);\n",
              "      fill: #174EA6;\n",
              "    }\n",
              "\n",
              "    .colab-df-buttons div {\n",
              "      margin-bottom: 4px;\n",
              "    }\n",
              "\n",
              "    [theme=dark] .colab-df-convert {\n",
              "      background-color: #3B4455;\n",
              "      fill: #D2E3FC;\n",
              "    }\n",
              "\n",
              "    [theme=dark] .colab-df-convert:hover {\n",
              "      background-color: #434B5C;\n",
              "      box-shadow: 0px 1px 3px 1px rgba(0, 0, 0, 0.15);\n",
              "      filter: drop-shadow(0px 1px 2px rgba(0, 0, 0, 0.3));\n",
              "      fill: #FFFFFF;\n",
              "    }\n",
              "  </style>\n",
              "\n",
              "    <script>\n",
              "      const buttonEl =\n",
              "        document.querySelector('#df-60560b9e-8776-409d-bcbf-8006190b5f2b button.colab-df-convert');\n",
              "      buttonEl.style.display =\n",
              "        google.colab.kernel.accessAllowed ? 'block' : 'none';\n",
              "\n",
              "      async function convertToInteractive(key) {\n",
              "        const element = document.querySelector('#df-60560b9e-8776-409d-bcbf-8006190b5f2b');\n",
              "        const dataTable =\n",
              "          await google.colab.kernel.invokeFunction('convertToInteractive',\n",
              "                                                    [key], {});\n",
              "        if (!dataTable) return;\n",
              "\n",
              "        const docLinkHtml = 'Like what you see? Visit the ' +\n",
              "          '<a target=\"_blank\" href=https://colab.research.google.com/notebooks/data_table.ipynb>data table notebook</a>'\n",
              "          + ' to learn more about interactive tables.';\n",
              "        element.innerHTML = '';\n",
              "        dataTable['output_type'] = 'display_data';\n",
              "        await google.colab.output.renderOutput(dataTable, element);\n",
              "        const docLink = document.createElement('div');\n",
              "        docLink.innerHTML = docLinkHtml;\n",
              "        element.appendChild(docLink);\n",
              "      }\n",
              "    </script>\n",
              "  </div>\n",
              "\n",
              "\n",
              "<div id=\"df-3837ef13-ca12-40c6-9326-cfd9412f01da\">\n",
              "  <button class=\"colab-df-quickchart\" onclick=\"quickchart('df-3837ef13-ca12-40c6-9326-cfd9412f01da')\"\n",
              "            title=\"Suggest charts\"\n",
              "            style=\"display:none;\">\n",
              "\n",
              "<svg xmlns=\"http://www.w3.org/2000/svg\" height=\"24px\"viewBox=\"0 0 24 24\"\n",
              "     width=\"24px\">\n",
              "    <g>\n",
              "        <path d=\"M19 3H5c-1.1 0-2 .9-2 2v14c0 1.1.9 2 2 2h14c1.1 0 2-.9 2-2V5c0-1.1-.9-2-2-2zM9 17H7v-7h2v7zm4 0h-2V7h2v10zm4 0h-2v-4h2v4z\"/>\n",
              "    </g>\n",
              "</svg>\n",
              "  </button>\n",
              "\n",
              "<style>\n",
              "  .colab-df-quickchart {\n",
              "      --bg-color: #E8F0FE;\n",
              "      --fill-color: #1967D2;\n",
              "      --hover-bg-color: #E2EBFA;\n",
              "      --hover-fill-color: #174EA6;\n",
              "      --disabled-fill-color: #AAA;\n",
              "      --disabled-bg-color: #DDD;\n",
              "  }\n",
              "\n",
              "  [theme=dark] .colab-df-quickchart {\n",
              "      --bg-color: #3B4455;\n",
              "      --fill-color: #D2E3FC;\n",
              "      --hover-bg-color: #434B5C;\n",
              "      --hover-fill-color: #FFFFFF;\n",
              "      --disabled-bg-color: #3B4455;\n",
              "      --disabled-fill-color: #666;\n",
              "  }\n",
              "\n",
              "  .colab-df-quickchart {\n",
              "    background-color: var(--bg-color);\n",
              "    border: none;\n",
              "    border-radius: 50%;\n",
              "    cursor: pointer;\n",
              "    display: none;\n",
              "    fill: var(--fill-color);\n",
              "    height: 32px;\n",
              "    padding: 0;\n",
              "    width: 32px;\n",
              "  }\n",
              "\n",
              "  .colab-df-quickchart:hover {\n",
              "    background-color: var(--hover-bg-color);\n",
              "    box-shadow: 0 1px 2px rgba(60, 64, 67, 0.3), 0 1px 3px 1px rgba(60, 64, 67, 0.15);\n",
              "    fill: var(--button-hover-fill-color);\n",
              "  }\n",
              "\n",
              "  .colab-df-quickchart-complete:disabled,\n",
              "  .colab-df-quickchart-complete:disabled:hover {\n",
              "    background-color: var(--disabled-bg-color);\n",
              "    fill: var(--disabled-fill-color);\n",
              "    box-shadow: none;\n",
              "  }\n",
              "\n",
              "  .colab-df-spinner {\n",
              "    border: 2px solid var(--fill-color);\n",
              "    border-color: transparent;\n",
              "    border-bottom-color: var(--fill-color);\n",
              "    animation:\n",
              "      spin 1s steps(1) infinite;\n",
              "  }\n",
              "\n",
              "  @keyframes spin {\n",
              "    0% {\n",
              "      border-color: transparent;\n",
              "      border-bottom-color: var(--fill-color);\n",
              "      border-left-color: var(--fill-color);\n",
              "    }\n",
              "    20% {\n",
              "      border-color: transparent;\n",
              "      border-left-color: var(--fill-color);\n",
              "      border-top-color: var(--fill-color);\n",
              "    }\n",
              "    30% {\n",
              "      border-color: transparent;\n",
              "      border-left-color: var(--fill-color);\n",
              "      border-top-color: var(--fill-color);\n",
              "      border-right-color: var(--fill-color);\n",
              "    }\n",
              "    40% {\n",
              "      border-color: transparent;\n",
              "      border-right-color: var(--fill-color);\n",
              "      border-top-color: var(--fill-color);\n",
              "    }\n",
              "    60% {\n",
              "      border-color: transparent;\n",
              "      border-right-color: var(--fill-color);\n",
              "    }\n",
              "    80% {\n",
              "      border-color: transparent;\n",
              "      border-right-color: var(--fill-color);\n",
              "      border-bottom-color: var(--fill-color);\n",
              "    }\n",
              "    90% {\n",
              "      border-color: transparent;\n",
              "      border-bottom-color: var(--fill-color);\n",
              "    }\n",
              "  }\n",
              "</style>\n",
              "\n",
              "  <script>\n",
              "    async function quickchart(key) {\n",
              "      const quickchartButtonEl =\n",
              "        document.querySelector('#' + key + ' button');\n",
              "      quickchartButtonEl.disabled = true;  // To prevent multiple clicks.\n",
              "      quickchartButtonEl.classList.add('colab-df-spinner');\n",
              "      try {\n",
              "        const charts = await google.colab.kernel.invokeFunction(\n",
              "            'suggestCharts', [key], {});\n",
              "      } catch (error) {\n",
              "        console.error('Error during call to suggestCharts:', error);\n",
              "      }\n",
              "      quickchartButtonEl.classList.remove('colab-df-spinner');\n",
              "      quickchartButtonEl.classList.add('colab-df-quickchart-complete');\n",
              "    }\n",
              "    (() => {\n",
              "      let quickchartButtonEl =\n",
              "        document.querySelector('#df-3837ef13-ca12-40c6-9326-cfd9412f01da button');\n",
              "      quickchartButtonEl.style.display =\n",
              "        google.colab.kernel.accessAllowed ? 'block' : 'none';\n",
              "    })();\n",
              "  </script>\n",
              "</div>\n",
              "\n",
              "    </div>\n",
              "  </div>\n"
            ],
            "application/vnd.google.colaboratory.intrinsic+json": {
              "type": "dataframe",
              "summary": "{\n  \"name\": \"pd\",\n  \"rows\": 3,\n  \"fields\": [\n    {\n      \"column\": \"imp\",\n      \"properties\": {\n        \"dtype\": \"string\",\n        \"num_unique_values\": 3,\n        \"samples\": [\n          false,\n          true,\n          \"All\"\n        ],\n        \"semantic_type\": \"\",\n        \"description\": \"\"\n      }\n    },\n    {\n      \"column\": false,\n      \"properties\": {\n        \"dtype\": \"number\",\n        \"std\": 7069,\n        \"min\": 9053,\n        \"max\": 22986,\n        \"num_unique_values\": 3,\n        \"samples\": [\n          13933,\n          9053,\n          22986\n        ],\n        \"semantic_type\": \"\",\n        \"description\": \"\"\n      }\n    },\n    {\n      \"column\": \"All\",\n      \"properties\": {\n        \"dtype\": \"number\",\n        \"std\": 7069,\n        \"min\": 9053,\n        \"max\": 22986,\n        \"num_unique_values\": 3,\n        \"samples\": [\n          13933,\n          9053,\n          22986\n        ],\n        \"semantic_type\": \"\",\n        \"description\": \"\"\n      }\n    }\n  ]\n}"
            }
          },
          "metadata": {},
          "execution_count": 625
        }
      ]
    },
    {
      "cell_type": "markdown",
      "source": [
        "We suspect that missing values in imp depend on sen"
      ],
      "metadata": {
        "id": "JekWcjSg2BEo"
      },
      "id": "JekWcjSg2BEo"
    },
    {
      "cell_type": "code",
      "source": [
        "total_c= df2['sen'].value_counts()\n",
        "total_c"
      ],
      "metadata": {
        "colab": {
          "base_uri": "https://localhost:8080/",
          "height": 272
        },
        "id": "H4Q_Cdck2NwU",
        "outputId": "f4ce68cf-2c82-4c6e-cea5-572efe10e3ed"
      },
      "id": "H4Q_Cdck2NwU",
      "execution_count": 626,
      "outputs": [
        {
          "output_type": "execute_result",
          "data": {
            "text/plain": [
              "sen\n",
              "4    8779\n",
              "0    8720\n",
              "1    4299\n",
              "2     914\n",
              "9     274\n",
              "Name: count, dtype: int64"
            ],
            "text/html": [
              "<div>\n",
              "<style scoped>\n",
              "    .dataframe tbody tr th:only-of-type {\n",
              "        vertical-align: middle;\n",
              "    }\n",
              "\n",
              "    .dataframe tbody tr th {\n",
              "        vertical-align: top;\n",
              "    }\n",
              "\n",
              "    .dataframe thead th {\n",
              "        text-align: right;\n",
              "    }\n",
              "</style>\n",
              "<table border=\"1\" class=\"dataframe\">\n",
              "  <thead>\n",
              "    <tr style=\"text-align: right;\">\n",
              "      <th></th>\n",
              "      <th>count</th>\n",
              "    </tr>\n",
              "    <tr>\n",
              "      <th>sen</th>\n",
              "      <th></th>\n",
              "    </tr>\n",
              "  </thead>\n",
              "  <tbody>\n",
              "    <tr>\n",
              "      <th>4</th>\n",
              "      <td>8779</td>\n",
              "    </tr>\n",
              "    <tr>\n",
              "      <th>0</th>\n",
              "      <td>8720</td>\n",
              "    </tr>\n",
              "    <tr>\n",
              "      <th>1</th>\n",
              "      <td>4299</td>\n",
              "    </tr>\n",
              "    <tr>\n",
              "      <th>2</th>\n",
              "      <td>914</td>\n",
              "    </tr>\n",
              "    <tr>\n",
              "      <th>9</th>\n",
              "      <td>274</td>\n",
              "    </tr>\n",
              "  </tbody>\n",
              "</table>\n",
              "</div><br><label><b>dtype:</b> int64</label>"
            ]
          },
          "metadata": {},
          "execution_count": 626
        }
      ]
    },
    {
      "cell_type": "code",
      "source": [
        "missing_analysis = df2.groupby(\"sen\")[\"imp\"].apply(lambda x: x.isna().sum()) # this code groups the rows by unique values and split into 5 groups, code counts how many missing values are in the imp column - for each subgroup in the sen column"
      ],
      "metadata": {
        "id": "CWRt5QO12Wd9"
      },
      "id": "CWRt5QO12Wd9",
      "execution_count": 627,
      "outputs": []
    },
    {
      "cell_type": "code",
      "source": [
        "missing_percentage = (missing_analysis / total_c) * 100 # dividing whats missing and the total\n",
        "missing_percentage"
      ],
      "metadata": {
        "colab": {
          "base_uri": "https://localhost:8080/",
          "height": 272
        },
        "id": "l71Q2DYZ2gqJ",
        "outputId": "8a4f0553-395f-4e37-d4b5-201cf6de6a77"
      },
      "id": "l71Q2DYZ2gqJ",
      "execution_count": 628,
      "outputs": [
        {
          "output_type": "execute_result",
          "data": {
            "text/plain": [
              "sen\n",
              "0      0.0\n",
              "1      0.0\n",
              "2      0.0\n",
              "4    100.0\n",
              "9    100.0\n",
              "dtype: float64"
            ],
            "text/html": [
              "<div>\n",
              "<style scoped>\n",
              "    .dataframe tbody tr th:only-of-type {\n",
              "        vertical-align: middle;\n",
              "    }\n",
              "\n",
              "    .dataframe tbody tr th {\n",
              "        vertical-align: top;\n",
              "    }\n",
              "\n",
              "    .dataframe thead th {\n",
              "        text-align: right;\n",
              "    }\n",
              "</style>\n",
              "<table border=\"1\" class=\"dataframe\">\n",
              "  <thead>\n",
              "    <tr style=\"text-align: right;\">\n",
              "      <th></th>\n",
              "      <th>0</th>\n",
              "    </tr>\n",
              "    <tr>\n",
              "      <th>sen</th>\n",
              "      <th></th>\n",
              "    </tr>\n",
              "  </thead>\n",
              "  <tbody>\n",
              "    <tr>\n",
              "      <th>0</th>\n",
              "      <td>0.0</td>\n",
              "    </tr>\n",
              "    <tr>\n",
              "      <th>1</th>\n",
              "      <td>0.0</td>\n",
              "    </tr>\n",
              "    <tr>\n",
              "      <th>2</th>\n",
              "      <td>0.0</td>\n",
              "    </tr>\n",
              "    <tr>\n",
              "      <th>4</th>\n",
              "      <td>100.0</td>\n",
              "    </tr>\n",
              "    <tr>\n",
              "      <th>9</th>\n",
              "      <td>100.0</td>\n",
              "    </tr>\n",
              "  </tbody>\n",
              "</table>\n",
              "</div><br><label><b>dtype:</b> float64</label>"
            ]
          },
          "metadata": {},
          "execution_count": 628
        }
      ]
    },
    {
      "cell_type": "markdown",
      "source": [
        "This is important because it tells that 100 percent of the data  in (4 and 9) have missing values ( which tells us that they have no imposed sentence record ( maybe because of dismissal, acquittal. If 100% of them are missing, then that means they were meant not to be sentenced so they must be non-sentences"
      ],
      "metadata": {
        "id": "KcJwH3t77hI6"
      },
      "id": "KcJwH3t77hI6"
    },
    {
      "cell_type": "code",
      "source": [
        "df2.loc[df2['sen'].isin([4,9])&df2['imp'].isna(), 'imp']=\"No sentence\" # checking if"
      ],
      "metadata": {
        "colab": {
          "base_uri": "https://localhost:8080/"
        },
        "id": "blHjwC558C-g",
        "outputId": "8d909d3d-e3de-4ea8-e58d-754e81477e3e"
      },
      "id": "blHjwC558C-g",
      "execution_count": 629,
      "outputs": [
        {
          "output_type": "stream",
          "name": "stderr",
          "text": [
            "<ipython-input-629-4c0675284138>:1: FutureWarning: Setting an item of incompatible dtype is deprecated and will raise an error in a future version of pandas. Value 'No sentence' has dtype incompatible with float64, please explicitly cast to a compatible dtype first.\n",
            "  df2.loc[df2['sen'].isin([4,9])&df2['imp'].isna(), 'imp']=\"No sentence\" # checking if\n"
          ]
        }
      ]
    },
    {
      "cell_type": "code",
      "source": [
        "print(df2.loc[df2['sen'].isin([4, 9]), ['sen', 'imp']]) # checking if the sentence in category 9 ro 4 has an imp of no sentence\n"
      ],
      "metadata": {
        "colab": {
          "base_uri": "https://localhost:8080/"
        },
        "id": "R0y1cvogBi1a",
        "outputId": "a157a548-ba8d-4f63-9458-dbe8c2a7d57a"
      },
      "id": "R0y1cvogBi1a",
      "execution_count": 630,
      "outputs": [
        {
          "output_type": "stream",
          "name": "stdout",
          "text": [
            "       sen          imp\n",
            "0        9  No sentence\n",
            "4        4  No sentence\n",
            "11       4  No sentence\n",
            "12       4  No sentence\n",
            "15       4  No sentence\n",
            "...    ...          ...\n",
            "22981    4  No sentence\n",
            "22982    9  No sentence\n",
            "22983    4  No sentence\n",
            "22984    4  No sentence\n",
            "22985    4  No sentence\n",
            "\n",
            "[9053 rows x 2 columns]\n"
          ]
        }
      ]
    },
    {
      "cell_type": "code",
      "source": [
        "print(df2['imp'].isna().sum()) # checking if there's any missing values"
      ],
      "metadata": {
        "colab": {
          "base_uri": "https://localhost:8080/"
        },
        "id": "ZhqMsASF83BC",
        "outputId": "a815c9be-bcd4-4d0c-c88b-0b21ab97cf81"
      },
      "id": "ZhqMsASF83BC",
      "execution_count": 631,
      "outputs": [
        {
          "output_type": "stream",
          "name": "stdout",
          "text": [
            "0\n"
          ]
        }
      ]
    },
    {
      "cell_type": "markdown",
      "id": "5a60a44e",
      "metadata": {
        "id": "5a60a44e"
      },
      "source": [
        "**Q2.** Go to https://sharkattackfile.net/ and download their dataset on shark attacks.\n",
        "\n",
        "1. Open the shark attack file using Pandas. It is probably not a csv file, so `read_csv` won't work.\n",
        "2. Drop any columns that do not contain data.\n",
        "3. Clean the year variable. Describe the range of values you see. Filter the rows to focus on attacks since 1940. Are attacks increasing, decreasing, or remaining constant over time?\n",
        "4. Clean the Age variable and make a histogram of the ages of the victims.\n",
        "5. What proportion of victims are male?\n",
        "6. Clean the `Type` variable so it only takes three values: Provoked and Unprovoked and Unknown. What proportion of attacks are unprovoked?\n",
        "7. Clean the `Fatal Y/N` variable so it only takes three values: Y, N, and Unknown.\n",
        "8. Are sharks more likely to launch unprovoked attacks on men or women? Is the attack more or less likely to be fatal when the attack is provoked or unprovoked? Is it more or less likely to be fatal when the victim is male or female? How do you feel about sharks?\n",
        "9. What proportion of attacks appear to be by white sharks? (Hint: `str.split()` makes a vector of text values into a list of lists, split by spaces.)"
      ]
    },
    {
      "cell_type": "code",
      "source": [
        "pip install xlrd # installing necessary packages"
      ],
      "metadata": {
        "colab": {
          "base_uri": "https://localhost:8080/"
        },
        "id": "D2FGh8uKLRoG",
        "outputId": "afdb8779-a3ee-46e2-90a2-f7cfc529b473"
      },
      "id": "D2FGh8uKLRoG",
      "execution_count": 632,
      "outputs": [
        {
          "output_type": "stream",
          "name": "stdout",
          "text": [
            "Requirement already satisfied: xlrd in /usr/local/lib/python3.11/dist-packages (2.0.1)\n"
          ]
        }
      ]
    },
    {
      "cell_type": "code",
      "source": [
        "df3= pd.read_excel(\"GSAF5.xls\")# reading excel file"
      ],
      "metadata": {
        "id": "vE3BOQ8SOZAZ"
      },
      "id": "vE3BOQ8SOZAZ",
      "execution_count": 633,
      "outputs": []
    },
    {
      "cell_type": "code",
      "source": [
        "df3.head() # viewing data"
      ],
      "metadata": {
        "id": "s58BKzxmOijT",
        "colab": {
          "base_uri": "https://localhost:8080/",
          "height": 550
        },
        "outputId": "9e52ae3d-e287-4444-f218-f7614efe065c"
      },
      "id": "s58BKzxmOijT",
      "execution_count": 634,
      "outputs": [
        {
          "output_type": "execute_result",
          "data": {
            "text/plain": [
              "                  Date    Year        Type        Country              State  \\\n",
              "0  2025-01-23 00:00:00  2025.0  Unprovoked      Australia  Western Australia   \n",
              "1  2025-01-22 00:00:00  2025.0  Unprovoked      Australia  Western Australia   \n",
              "2  2025-01-11 00:00:00  2025.0    Provoked            USA             Hawaii   \n",
              "3  2025-01-02 00:00:00  2025.0  Unprovoked  New Caledonia       Grande Terre   \n",
              "4  2025-01-02 00:00:00  2025.0  Unprovoked      Australia    South Australia   \n",
              "\n",
              "                                  Location      Activity  \\\n",
              "0                           Shipwreck Cove       Bathing   \n",
              "1                           Cheynes beach        Surfing   \n",
              "2            Off Haleiwa Boat Harbour Oahu        Diving   \n",
              "3              Islet of Kendek near Koumac  Spearfishing   \n",
              "4  Granites Beach near Westall Streaky Bay       Surfing   \n",
              "\n",
              "                                     Name Sex Age  ...  \\\n",
              "0                                    Boy    M  12  ...   \n",
              "1                             Dale Kittow   M  37  ...   \n",
              "2  Male not stated was a dive tour worker   M  23  ...   \n",
              "3                        Robert Cuewapuru   M  40  ...   \n",
              "4                           Lance Appleby   M  28  ...   \n",
              "\n",
              "                                 Species   \\\n",
              "0                              Not stated   \n",
              "1                           Bronze whaler   \n",
              "2                              Not stated   \n",
              "3          Reportedly Tiger or Bull shark   \n",
              "4  Great White Shart estimated 4.8m 16 ft   \n",
              "\n",
              "                                              Source  pdf href formula href  \\\n",
              "0                                     Bob Myatt GSAF  NaN          NaN  NaN   \n",
              "1                                     Bob Myatt GSAF  NaN          NaN  NaN   \n",
              "2                  Kevin McMurray Trackingsharks.com  NaN          NaN  NaN   \n",
              "3                      Johannes Marchand Todd Smith   NaN          NaN  NaN   \n",
              "4  Glen Folkard: Simon De Marchi News.com.au: The...  NaN          NaN  NaN   \n",
              "\n",
              "  Case Number Case Number.1 original order Unnamed: 21 Unnamed: 22  \n",
              "0         NaN           NaN            NaN         NaN         NaN  \n",
              "1         NaN           NaN            NaN         NaN         NaN  \n",
              "2         NaN           NaN            NaN         NaN         NaN  \n",
              "3         NaN           NaN            NaN         NaN         NaN  \n",
              "4         NaN           NaN            NaN         NaN         NaN  \n",
              "\n",
              "[5 rows x 23 columns]"
            ],
            "text/html": [
              "\n",
              "  <div id=\"df-d2f45136-7a43-4631-9b75-cc99535247c1\" class=\"colab-df-container\">\n",
              "    <div>\n",
              "<style scoped>\n",
              "    .dataframe tbody tr th:only-of-type {\n",
              "        vertical-align: middle;\n",
              "    }\n",
              "\n",
              "    .dataframe tbody tr th {\n",
              "        vertical-align: top;\n",
              "    }\n",
              "\n",
              "    .dataframe thead th {\n",
              "        text-align: right;\n",
              "    }\n",
              "</style>\n",
              "<table border=\"1\" class=\"dataframe\">\n",
              "  <thead>\n",
              "    <tr style=\"text-align: right;\">\n",
              "      <th></th>\n",
              "      <th>Date</th>\n",
              "      <th>Year</th>\n",
              "      <th>Type</th>\n",
              "      <th>Country</th>\n",
              "      <th>State</th>\n",
              "      <th>Location</th>\n",
              "      <th>Activity</th>\n",
              "      <th>Name</th>\n",
              "      <th>Sex</th>\n",
              "      <th>Age</th>\n",
              "      <th>...</th>\n",
              "      <th>Species</th>\n",
              "      <th>Source</th>\n",
              "      <th>pdf</th>\n",
              "      <th>href formula</th>\n",
              "      <th>href</th>\n",
              "      <th>Case Number</th>\n",
              "      <th>Case Number.1</th>\n",
              "      <th>original order</th>\n",
              "      <th>Unnamed: 21</th>\n",
              "      <th>Unnamed: 22</th>\n",
              "    </tr>\n",
              "  </thead>\n",
              "  <tbody>\n",
              "    <tr>\n",
              "      <th>0</th>\n",
              "      <td>2025-01-23 00:00:00</td>\n",
              "      <td>2025.0</td>\n",
              "      <td>Unprovoked</td>\n",
              "      <td>Australia</td>\n",
              "      <td>Western Australia</td>\n",
              "      <td>Shipwreck Cove</td>\n",
              "      <td>Bathing</td>\n",
              "      <td>Boy</td>\n",
              "      <td>M</td>\n",
              "      <td>12</td>\n",
              "      <td>...</td>\n",
              "      <td>Not stated</td>\n",
              "      <td>Bob Myatt GSAF</td>\n",
              "      <td>NaN</td>\n",
              "      <td>NaN</td>\n",
              "      <td>NaN</td>\n",
              "      <td>NaN</td>\n",
              "      <td>NaN</td>\n",
              "      <td>NaN</td>\n",
              "      <td>NaN</td>\n",
              "      <td>NaN</td>\n",
              "    </tr>\n",
              "    <tr>\n",
              "      <th>1</th>\n",
              "      <td>2025-01-22 00:00:00</td>\n",
              "      <td>2025.0</td>\n",
              "      <td>Unprovoked</td>\n",
              "      <td>Australia</td>\n",
              "      <td>Western Australia</td>\n",
              "      <td>Cheynes beach</td>\n",
              "      <td>Surfing</td>\n",
              "      <td>Dale Kittow</td>\n",
              "      <td>M</td>\n",
              "      <td>37</td>\n",
              "      <td>...</td>\n",
              "      <td>Bronze whaler</td>\n",
              "      <td>Bob Myatt GSAF</td>\n",
              "      <td>NaN</td>\n",
              "      <td>NaN</td>\n",
              "      <td>NaN</td>\n",
              "      <td>NaN</td>\n",
              "      <td>NaN</td>\n",
              "      <td>NaN</td>\n",
              "      <td>NaN</td>\n",
              "      <td>NaN</td>\n",
              "    </tr>\n",
              "    <tr>\n",
              "      <th>2</th>\n",
              "      <td>2025-01-11 00:00:00</td>\n",
              "      <td>2025.0</td>\n",
              "      <td>Provoked</td>\n",
              "      <td>USA</td>\n",
              "      <td>Hawaii</td>\n",
              "      <td>Off Haleiwa Boat Harbour Oahu</td>\n",
              "      <td>Diving</td>\n",
              "      <td>Male not stated was a dive tour worker</td>\n",
              "      <td>M</td>\n",
              "      <td>23</td>\n",
              "      <td>...</td>\n",
              "      <td>Not stated</td>\n",
              "      <td>Kevin McMurray Trackingsharks.com</td>\n",
              "      <td>NaN</td>\n",
              "      <td>NaN</td>\n",
              "      <td>NaN</td>\n",
              "      <td>NaN</td>\n",
              "      <td>NaN</td>\n",
              "      <td>NaN</td>\n",
              "      <td>NaN</td>\n",
              "      <td>NaN</td>\n",
              "    </tr>\n",
              "    <tr>\n",
              "      <th>3</th>\n",
              "      <td>2025-01-02 00:00:00</td>\n",
              "      <td>2025.0</td>\n",
              "      <td>Unprovoked</td>\n",
              "      <td>New Caledonia</td>\n",
              "      <td>Grande Terre</td>\n",
              "      <td>Islet of Kendek near Koumac</td>\n",
              "      <td>Spearfishing</td>\n",
              "      <td>Robert Cuewapuru</td>\n",
              "      <td>M</td>\n",
              "      <td>40</td>\n",
              "      <td>...</td>\n",
              "      <td>Reportedly Tiger or Bull shark</td>\n",
              "      <td>Johannes Marchand Todd Smith</td>\n",
              "      <td>NaN</td>\n",
              "      <td>NaN</td>\n",
              "      <td>NaN</td>\n",
              "      <td>NaN</td>\n",
              "      <td>NaN</td>\n",
              "      <td>NaN</td>\n",
              "      <td>NaN</td>\n",
              "      <td>NaN</td>\n",
              "    </tr>\n",
              "    <tr>\n",
              "      <th>4</th>\n",
              "      <td>2025-01-02 00:00:00</td>\n",
              "      <td>2025.0</td>\n",
              "      <td>Unprovoked</td>\n",
              "      <td>Australia</td>\n",
              "      <td>South Australia</td>\n",
              "      <td>Granites Beach near Westall Streaky Bay</td>\n",
              "      <td>Surfing</td>\n",
              "      <td>Lance Appleby</td>\n",
              "      <td>M</td>\n",
              "      <td>28</td>\n",
              "      <td>...</td>\n",
              "      <td>Great White Shart estimated 4.8m 16 ft</td>\n",
              "      <td>Glen Folkard: Simon De Marchi News.com.au: The...</td>\n",
              "      <td>NaN</td>\n",
              "      <td>NaN</td>\n",
              "      <td>NaN</td>\n",
              "      <td>NaN</td>\n",
              "      <td>NaN</td>\n",
              "      <td>NaN</td>\n",
              "      <td>NaN</td>\n",
              "      <td>NaN</td>\n",
              "    </tr>\n",
              "  </tbody>\n",
              "</table>\n",
              "<p>5 rows × 23 columns</p>\n",
              "</div>\n",
              "    <div class=\"colab-df-buttons\">\n",
              "\n",
              "  <div class=\"colab-df-container\">\n",
              "    <button class=\"colab-df-convert\" onclick=\"convertToInteractive('df-d2f45136-7a43-4631-9b75-cc99535247c1')\"\n",
              "            title=\"Convert this dataframe to an interactive table.\"\n",
              "            style=\"display:none;\">\n",
              "\n",
              "  <svg xmlns=\"http://www.w3.org/2000/svg\" height=\"24px\" viewBox=\"0 -960 960 960\">\n",
              "    <path d=\"M120-120v-720h720v720H120Zm60-500h600v-160H180v160Zm220 220h160v-160H400v160Zm0 220h160v-160H400v160ZM180-400h160v-160H180v160Zm440 0h160v-160H620v160ZM180-180h160v-160H180v160Zm440 0h160v-160H620v160Z\"/>\n",
              "  </svg>\n",
              "    </button>\n",
              "\n",
              "  <style>\n",
              "    .colab-df-container {\n",
              "      display:flex;\n",
              "      gap: 12px;\n",
              "    }\n",
              "\n",
              "    .colab-df-convert {\n",
              "      background-color: #E8F0FE;\n",
              "      border: none;\n",
              "      border-radius: 50%;\n",
              "      cursor: pointer;\n",
              "      display: none;\n",
              "      fill: #1967D2;\n",
              "      height: 32px;\n",
              "      padding: 0 0 0 0;\n",
              "      width: 32px;\n",
              "    }\n",
              "\n",
              "    .colab-df-convert:hover {\n",
              "      background-color: #E2EBFA;\n",
              "      box-shadow: 0px 1px 2px rgba(60, 64, 67, 0.3), 0px 1px 3px 1px rgba(60, 64, 67, 0.15);\n",
              "      fill: #174EA6;\n",
              "    }\n",
              "\n",
              "    .colab-df-buttons div {\n",
              "      margin-bottom: 4px;\n",
              "    }\n",
              "\n",
              "    [theme=dark] .colab-df-convert {\n",
              "      background-color: #3B4455;\n",
              "      fill: #D2E3FC;\n",
              "    }\n",
              "\n",
              "    [theme=dark] .colab-df-convert:hover {\n",
              "      background-color: #434B5C;\n",
              "      box-shadow: 0px 1px 3px 1px rgba(0, 0, 0, 0.15);\n",
              "      filter: drop-shadow(0px 1px 2px rgba(0, 0, 0, 0.3));\n",
              "      fill: #FFFFFF;\n",
              "    }\n",
              "  </style>\n",
              "\n",
              "    <script>\n",
              "      const buttonEl =\n",
              "        document.querySelector('#df-d2f45136-7a43-4631-9b75-cc99535247c1 button.colab-df-convert');\n",
              "      buttonEl.style.display =\n",
              "        google.colab.kernel.accessAllowed ? 'block' : 'none';\n",
              "\n",
              "      async function convertToInteractive(key) {\n",
              "        const element = document.querySelector('#df-d2f45136-7a43-4631-9b75-cc99535247c1');\n",
              "        const dataTable =\n",
              "          await google.colab.kernel.invokeFunction('convertToInteractive',\n",
              "                                                    [key], {});\n",
              "        if (!dataTable) return;\n",
              "\n",
              "        const docLinkHtml = 'Like what you see? Visit the ' +\n",
              "          '<a target=\"_blank\" href=https://colab.research.google.com/notebooks/data_table.ipynb>data table notebook</a>'\n",
              "          + ' to learn more about interactive tables.';\n",
              "        element.innerHTML = '';\n",
              "        dataTable['output_type'] = 'display_data';\n",
              "        await google.colab.output.renderOutput(dataTable, element);\n",
              "        const docLink = document.createElement('div');\n",
              "        docLink.innerHTML = docLinkHtml;\n",
              "        element.appendChild(docLink);\n",
              "      }\n",
              "    </script>\n",
              "  </div>\n",
              "\n",
              "\n",
              "<div id=\"df-7ef12109-92c1-46fb-839c-120c1031553e\">\n",
              "  <button class=\"colab-df-quickchart\" onclick=\"quickchart('df-7ef12109-92c1-46fb-839c-120c1031553e')\"\n",
              "            title=\"Suggest charts\"\n",
              "            style=\"display:none;\">\n",
              "\n",
              "<svg xmlns=\"http://www.w3.org/2000/svg\" height=\"24px\"viewBox=\"0 0 24 24\"\n",
              "     width=\"24px\">\n",
              "    <g>\n",
              "        <path d=\"M19 3H5c-1.1 0-2 .9-2 2v14c0 1.1.9 2 2 2h14c1.1 0 2-.9 2-2V5c0-1.1-.9-2-2-2zM9 17H7v-7h2v7zm4 0h-2V7h2v10zm4 0h-2v-4h2v4z\"/>\n",
              "    </g>\n",
              "</svg>\n",
              "  </button>\n",
              "\n",
              "<style>\n",
              "  .colab-df-quickchart {\n",
              "      --bg-color: #E8F0FE;\n",
              "      --fill-color: #1967D2;\n",
              "      --hover-bg-color: #E2EBFA;\n",
              "      --hover-fill-color: #174EA6;\n",
              "      --disabled-fill-color: #AAA;\n",
              "      --disabled-bg-color: #DDD;\n",
              "  }\n",
              "\n",
              "  [theme=dark] .colab-df-quickchart {\n",
              "      --bg-color: #3B4455;\n",
              "      --fill-color: #D2E3FC;\n",
              "      --hover-bg-color: #434B5C;\n",
              "      --hover-fill-color: #FFFFFF;\n",
              "      --disabled-bg-color: #3B4455;\n",
              "      --disabled-fill-color: #666;\n",
              "  }\n",
              "\n",
              "  .colab-df-quickchart {\n",
              "    background-color: var(--bg-color);\n",
              "    border: none;\n",
              "    border-radius: 50%;\n",
              "    cursor: pointer;\n",
              "    display: none;\n",
              "    fill: var(--fill-color);\n",
              "    height: 32px;\n",
              "    padding: 0;\n",
              "    width: 32px;\n",
              "  }\n",
              "\n",
              "  .colab-df-quickchart:hover {\n",
              "    background-color: var(--hover-bg-color);\n",
              "    box-shadow: 0 1px 2px rgba(60, 64, 67, 0.3), 0 1px 3px 1px rgba(60, 64, 67, 0.15);\n",
              "    fill: var(--button-hover-fill-color);\n",
              "  }\n",
              "\n",
              "  .colab-df-quickchart-complete:disabled,\n",
              "  .colab-df-quickchart-complete:disabled:hover {\n",
              "    background-color: var(--disabled-bg-color);\n",
              "    fill: var(--disabled-fill-color);\n",
              "    box-shadow: none;\n",
              "  }\n",
              "\n",
              "  .colab-df-spinner {\n",
              "    border: 2px solid var(--fill-color);\n",
              "    border-color: transparent;\n",
              "    border-bottom-color: var(--fill-color);\n",
              "    animation:\n",
              "      spin 1s steps(1) infinite;\n",
              "  }\n",
              "\n",
              "  @keyframes spin {\n",
              "    0% {\n",
              "      border-color: transparent;\n",
              "      border-bottom-color: var(--fill-color);\n",
              "      border-left-color: var(--fill-color);\n",
              "    }\n",
              "    20% {\n",
              "      border-color: transparent;\n",
              "      border-left-color: var(--fill-color);\n",
              "      border-top-color: var(--fill-color);\n",
              "    }\n",
              "    30% {\n",
              "      border-color: transparent;\n",
              "      border-left-color: var(--fill-color);\n",
              "      border-top-color: var(--fill-color);\n",
              "      border-right-color: var(--fill-color);\n",
              "    }\n",
              "    40% {\n",
              "      border-color: transparent;\n",
              "      border-right-color: var(--fill-color);\n",
              "      border-top-color: var(--fill-color);\n",
              "    }\n",
              "    60% {\n",
              "      border-color: transparent;\n",
              "      border-right-color: var(--fill-color);\n",
              "    }\n",
              "    80% {\n",
              "      border-color: transparent;\n",
              "      border-right-color: var(--fill-color);\n",
              "      border-bottom-color: var(--fill-color);\n",
              "    }\n",
              "    90% {\n",
              "      border-color: transparent;\n",
              "      border-bottom-color: var(--fill-color);\n",
              "    }\n",
              "  }\n",
              "</style>\n",
              "\n",
              "  <script>\n",
              "    async function quickchart(key) {\n",
              "      const quickchartButtonEl =\n",
              "        document.querySelector('#' + key + ' button');\n",
              "      quickchartButtonEl.disabled = true;  // To prevent multiple clicks.\n",
              "      quickchartButtonEl.classList.add('colab-df-spinner');\n",
              "      try {\n",
              "        const charts = await google.colab.kernel.invokeFunction(\n",
              "            'suggestCharts', [key], {});\n",
              "      } catch (error) {\n",
              "        console.error('Error during call to suggestCharts:', error);\n",
              "      }\n",
              "      quickchartButtonEl.classList.remove('colab-df-spinner');\n",
              "      quickchartButtonEl.classList.add('colab-df-quickchart-complete');\n",
              "    }\n",
              "    (() => {\n",
              "      let quickchartButtonEl =\n",
              "        document.querySelector('#df-7ef12109-92c1-46fb-839c-120c1031553e button');\n",
              "      quickchartButtonEl.style.display =\n",
              "        google.colab.kernel.accessAllowed ? 'block' : 'none';\n",
              "    })();\n",
              "  </script>\n",
              "</div>\n",
              "\n",
              "    </div>\n",
              "  </div>\n"
            ],
            "application/vnd.google.colaboratory.intrinsic+json": {
              "type": "dataframe",
              "variable_name": "df3"
            }
          },
          "metadata": {},
          "execution_count": 634
        }
      ]
    },
    {
      "cell_type": "markdown",
      "source": [
        "QUESTION 2 PART 2"
      ],
      "metadata": {
        "id": "aPZROkHkO8Qc"
      },
      "id": "aPZROkHkO8Qc"
    },
    {
      "cell_type": "code",
      "source": [
        "df3 = df3.dropna(axis=1, how='all') # dropping columns with no data"
      ],
      "metadata": {
        "id": "MRCVWdQlPEES"
      },
      "id": "MRCVWdQlPEES",
      "execution_count": 635,
      "outputs": []
    },
    {
      "cell_type": "markdown",
      "source": [
        "QUESTION 2 PART 3"
      ],
      "metadata": {
        "id": "0bmn6gbVPjtF"
      },
      "id": "0bmn6gbVPjtF"
    },
    {
      "cell_type": "markdown",
      "source": [
        "We would need to inspect the Year column"
      ],
      "metadata": {
        "id": "sbbOPaOYCAaw"
      },
      "id": "sbbOPaOYCAaw"
    },
    {
      "cell_type": "code",
      "source": [
        "df3['Year'].unique() # checking the unique values"
      ],
      "metadata": {
        "colab": {
          "base_uri": "https://localhost:8080/"
        },
        "id": "d3cEUZ3hCDWu",
        "outputId": "835b68d9-0ba2-4f8c-a8fd-9f19b3d8aeae"
      },
      "id": "d3cEUZ3hCDWu",
      "execution_count": 636,
      "outputs": [
        {
          "output_type": "execute_result",
          "data": {
            "text/plain": [
              "array([2025., 2024., 2026., 2023., 2022., 2021., 2020., 2019., 2018.,\n",
              "       2017.,   nan, 2016., 2015., 2014., 2013., 2012., 2011., 2010.,\n",
              "       2009., 2008., 2007., 2006., 2005., 2004., 2003., 2002., 2001.,\n",
              "       2000., 1999., 1998., 1997., 1996., 1995., 1984., 1994., 1993.,\n",
              "       1992., 1991., 1990., 1989., 1969., 1988., 1987., 1986., 1985.,\n",
              "       1983., 1982., 1981., 1980., 1979., 1978., 1977., 1976., 1975.,\n",
              "       1974., 1973., 1972., 1971., 1970., 1968., 1967., 1966., 1965.,\n",
              "       1964., 1963., 1962., 1961., 1960., 1959., 1958., 1957., 1956.,\n",
              "       1955., 1954., 1953., 1952., 1951., 1950., 1949., 1948., 1848.,\n",
              "       1947., 1946., 1945., 1944., 1943., 1942., 1941., 1940., 1939.,\n",
              "       1938., 1937., 1936., 1935., 1934., 1933., 1932., 1931., 1930.,\n",
              "       1929., 1928., 1927., 1926., 1925., 1924., 1923., 1922., 1921.,\n",
              "       1920., 1919., 1918., 1917., 1916., 1915., 1914., 1913., 1912.,\n",
              "       1911., 1910., 1909., 1908., 1907., 1906., 1905., 1904., 1903.,\n",
              "       1902., 1901., 1900., 1899., 1898., 1897., 1896., 1895., 1894.,\n",
              "       1893., 1892., 1891., 1890., 1889., 1888., 1887., 1886., 1885.,\n",
              "       1884., 1883., 1882., 1881., 1880., 1879., 1878., 1877., 1876.,\n",
              "       1875., 1874., 1873., 1872., 1871., 1870., 1869., 1868., 1867.,\n",
              "       1866., 1865., 1864., 1863., 1862., 1861., 1860., 1859., 1858.,\n",
              "       1857., 1856., 1855., 1853., 1852., 1851., 1850., 1849., 1847.,\n",
              "       1846., 1845., 1844., 1842., 1841., 1840., 1839., 1837., 1836.,\n",
              "       1835., 1834., 1832., 1831., 1830., 1829., 1828., 1827., 1826.,\n",
              "       1825., 1823., 1822., 1819., 1818., 1817., 1816., 1815., 1812.,\n",
              "       1811., 1810., 1808., 1807., 1805., 1804., 1803., 1802., 1801.,\n",
              "       1800., 1797., 1792., 1791., 1788., 1787., 1786., 1785., 1784.,\n",
              "       1783., 1780., 1779., 1776., 1771., 1767., 1764., 1758., 1753.,\n",
              "       1751., 1749., 1755., 1748., 1742., 1738., 1733., 1723., 1721.,\n",
              "       1703., 1700., 1642., 1691., 1640., 1638., 1637., 1617., 1595.,\n",
              "       1580., 1555., 1554., 1543., 1518., 1500., 1000.,   77.,    5.,\n",
              "          0.])"
            ]
          },
          "metadata": {},
          "execution_count": 636
        }
      ]
    },
    {
      "cell_type": "code",
      "source": [
        "df3['Year'].isnull().sum() # checking for missing values ( 2 missing values)"
      ],
      "metadata": {
        "id": "9A1fCFREQPNS",
        "colab": {
          "base_uri": "https://localhost:8080/"
        },
        "outputId": "be074e63-69aa-4483-9b1c-3707f241fe6b"
      },
      "id": "9A1fCFREQPNS",
      "execution_count": 637,
      "outputs": [
        {
          "output_type": "execute_result",
          "data": {
            "text/plain": [
              "2"
            ]
          },
          "metadata": {},
          "execution_count": 637
        }
      ]
    },
    {
      "cell_type": "code",
      "source": [
        "df3['Year']= pd.to_numeric(df3['Year'], errors='coerce') # changing the data type to numeric"
      ],
      "metadata": {
        "id": "eyqMd_Y8CQMr"
      },
      "id": "eyqMd_Y8CQMr",
      "execution_count": 638,
      "outputs": []
    },
    {
      "cell_type": "code",
      "source": [
        "df3 = df3.dropna(subset=['Year']) # dropping the missing values"
      ],
      "metadata": {
        "id": "KJX1KZmoC3S0"
      },
      "id": "KJX1KZmoC3S0",
      "execution_count": 639,
      "outputs": []
    },
    {
      "cell_type": "code",
      "source": [
        "df3['Year'].unique() # checking if the missing values are gone"
      ],
      "metadata": {
        "colab": {
          "base_uri": "https://localhost:8080/"
        },
        "id": "yJBNQR1lC49g",
        "outputId": "7324641e-2d2e-4913-a6c2-f5b885819a30"
      },
      "id": "yJBNQR1lC49g",
      "execution_count": 640,
      "outputs": [
        {
          "output_type": "execute_result",
          "data": {
            "text/plain": [
              "array([2025., 2024., 2026., 2023., 2022., 2021., 2020., 2019., 2018.,\n",
              "       2017., 2016., 2015., 2014., 2013., 2012., 2011., 2010., 2009.,\n",
              "       2008., 2007., 2006., 2005., 2004., 2003., 2002., 2001., 2000.,\n",
              "       1999., 1998., 1997., 1996., 1995., 1984., 1994., 1993., 1992.,\n",
              "       1991., 1990., 1989., 1969., 1988., 1987., 1986., 1985., 1983.,\n",
              "       1982., 1981., 1980., 1979., 1978., 1977., 1976., 1975., 1974.,\n",
              "       1973., 1972., 1971., 1970., 1968., 1967., 1966., 1965., 1964.,\n",
              "       1963., 1962., 1961., 1960., 1959., 1958., 1957., 1956., 1955.,\n",
              "       1954., 1953., 1952., 1951., 1950., 1949., 1948., 1848., 1947.,\n",
              "       1946., 1945., 1944., 1943., 1942., 1941., 1940., 1939., 1938.,\n",
              "       1937., 1936., 1935., 1934., 1933., 1932., 1931., 1930., 1929.,\n",
              "       1928., 1927., 1926., 1925., 1924., 1923., 1922., 1921., 1920.,\n",
              "       1919., 1918., 1917., 1916., 1915., 1914., 1913., 1912., 1911.,\n",
              "       1910., 1909., 1908., 1907., 1906., 1905., 1904., 1903., 1902.,\n",
              "       1901., 1900., 1899., 1898., 1897., 1896., 1895., 1894., 1893.,\n",
              "       1892., 1891., 1890., 1889., 1888., 1887., 1886., 1885., 1884.,\n",
              "       1883., 1882., 1881., 1880., 1879., 1878., 1877., 1876., 1875.,\n",
              "       1874., 1873., 1872., 1871., 1870., 1869., 1868., 1867., 1866.,\n",
              "       1865., 1864., 1863., 1862., 1861., 1860., 1859., 1858., 1857.,\n",
              "       1856., 1855., 1853., 1852., 1851., 1850., 1849., 1847., 1846.,\n",
              "       1845., 1844., 1842., 1841., 1840., 1839., 1837., 1836., 1835.,\n",
              "       1834., 1832., 1831., 1830., 1829., 1828., 1827., 1826., 1825.,\n",
              "       1823., 1822., 1819., 1818., 1817., 1816., 1815., 1812., 1811.,\n",
              "       1810., 1808., 1807., 1805., 1804., 1803., 1802., 1801., 1800.,\n",
              "       1797., 1792., 1791., 1788., 1787., 1786., 1785., 1784., 1783.,\n",
              "       1780., 1779., 1776., 1771., 1767., 1764., 1758., 1753., 1751.,\n",
              "       1749., 1755., 1748., 1742., 1738., 1733., 1723., 1721., 1703.,\n",
              "       1700., 1642., 1691., 1640., 1638., 1637., 1617., 1595., 1580.,\n",
              "       1555., 1554., 1543., 1518., 1500., 1000.,   77.,    5.,    0.])"
            ]
          },
          "metadata": {},
          "execution_count": 640
        }
      ]
    },
    {
      "cell_type": "code",
      "source": [
        "df3= df3[df3['Year']>=1940] # filtering the rows to focus on attacks since 1940"
      ],
      "metadata": {
        "id": "SYl04O0NC8np"
      },
      "id": "SYl04O0NC8np",
      "execution_count": 641,
      "outputs": []
    },
    {
      "cell_type": "code",
      "source": [
        "df3['Year'].unique() # checking if the years after 1940s"
      ],
      "metadata": {
        "colab": {
          "base_uri": "https://localhost:8080/"
        },
        "id": "A46KGuumDvnF",
        "outputId": "41a38ad5-7f2a-4e52-c0b0-8e233ffbd9b0"
      },
      "id": "A46KGuumDvnF",
      "execution_count": 642,
      "outputs": [
        {
          "output_type": "execute_result",
          "data": {
            "text/plain": [
              "array([2025., 2024., 2026., 2023., 2022., 2021., 2020., 2019., 2018.,\n",
              "       2017., 2016., 2015., 2014., 2013., 2012., 2011., 2010., 2009.,\n",
              "       2008., 2007., 2006., 2005., 2004., 2003., 2002., 2001., 2000.,\n",
              "       1999., 1998., 1997., 1996., 1995., 1984., 1994., 1993., 1992.,\n",
              "       1991., 1990., 1989., 1969., 1988., 1987., 1986., 1985., 1983.,\n",
              "       1982., 1981., 1980., 1979., 1978., 1977., 1976., 1975., 1974.,\n",
              "       1973., 1972., 1971., 1970., 1968., 1967., 1966., 1965., 1964.,\n",
              "       1963., 1962., 1961., 1960., 1959., 1958., 1957., 1956., 1955.,\n",
              "       1954., 1953., 1952., 1951., 1950., 1949., 1948., 1947., 1946.,\n",
              "       1945., 1944., 1943., 1942., 1941., 1940.])"
            ]
          },
          "metadata": {},
          "execution_count": 642
        }
      ]
    },
    {
      "cell_type": "markdown",
      "source": [
        "It looks like we have 2026/2025 (which havent got enough data)"
      ],
      "metadata": {
        "id": "FvRXOtQTD6BS"
      },
      "id": "FvRXOtQTD6BS"
    },
    {
      "cell_type": "code",
      "source": [
        "df3= df3[df3['Year']<=2024]"
      ],
      "metadata": {
        "id": "-NQtY5P6EYBE"
      },
      "id": "-NQtY5P6EYBE",
      "execution_count": 643,
      "outputs": []
    },
    {
      "cell_type": "code",
      "source": [
        "df3['Year'].describe() # checking the range of values"
      ],
      "metadata": {
        "colab": {
          "base_uri": "https://localhost:8080/",
          "height": 335
        },
        "id": "rIBroIreDZ5R",
        "outputId": "590fbe94-5d76-4290-f43c-cf96fe455ec3"
      },
      "id": "rIBroIreDZ5R",
      "execution_count": 644,
      "outputs": [
        {
          "output_type": "execute_result",
          "data": {
            "text/plain": [
              "count    5451.000000\n",
              "mean     1991.894515\n",
              "std        24.069732\n",
              "min      1940.000000\n",
              "25%      1969.000000\n",
              "50%      2000.000000\n",
              "75%      2013.000000\n",
              "max      2024.000000\n",
              "Name: Year, dtype: float64"
            ],
            "text/html": [
              "<div>\n",
              "<style scoped>\n",
              "    .dataframe tbody tr th:only-of-type {\n",
              "        vertical-align: middle;\n",
              "    }\n",
              "\n",
              "    .dataframe tbody tr th {\n",
              "        vertical-align: top;\n",
              "    }\n",
              "\n",
              "    .dataframe thead th {\n",
              "        text-align: right;\n",
              "    }\n",
              "</style>\n",
              "<table border=\"1\" class=\"dataframe\">\n",
              "  <thead>\n",
              "    <tr style=\"text-align: right;\">\n",
              "      <th></th>\n",
              "      <th>Year</th>\n",
              "    </tr>\n",
              "  </thead>\n",
              "  <tbody>\n",
              "    <tr>\n",
              "      <th>count</th>\n",
              "      <td>5451.000000</td>\n",
              "    </tr>\n",
              "    <tr>\n",
              "      <th>mean</th>\n",
              "      <td>1991.894515</td>\n",
              "    </tr>\n",
              "    <tr>\n",
              "      <th>std</th>\n",
              "      <td>24.069732</td>\n",
              "    </tr>\n",
              "    <tr>\n",
              "      <th>min</th>\n",
              "      <td>1940.000000</td>\n",
              "    </tr>\n",
              "    <tr>\n",
              "      <th>25%</th>\n",
              "      <td>1969.000000</td>\n",
              "    </tr>\n",
              "    <tr>\n",
              "      <th>50%</th>\n",
              "      <td>2000.000000</td>\n",
              "    </tr>\n",
              "    <tr>\n",
              "      <th>75%</th>\n",
              "      <td>2013.000000</td>\n",
              "    </tr>\n",
              "    <tr>\n",
              "      <th>max</th>\n",
              "      <td>2024.000000</td>\n",
              "    </tr>\n",
              "  </tbody>\n",
              "</table>\n",
              "</div><br><label><b>dtype:</b> float64</label>"
            ]
          },
          "metadata": {},
          "execution_count": 644
        }
      ]
    },
    {
      "cell_type": "code",
      "source": [
        "att= df3.groupby('Year').size() # checking the number of attacks per year\n",
        "att.plot(kind='line') # ploting a line plot"
      ],
      "metadata": {
        "colab": {
          "base_uri": "https://localhost:8080/",
          "height": 466
        },
        "id": "N9WbKExoEL9p",
        "outputId": "f67a1348-1bcc-459a-a321-6ef634fb5fb9"
      },
      "id": "N9WbKExoEL9p",
      "execution_count": 645,
      "outputs": [
        {
          "output_type": "execute_result",
          "data": {
            "text/plain": [
              "<Axes: xlabel='Year'>"
            ]
          },
          "metadata": {},
          "execution_count": 645
        },
        {
          "output_type": "display_data",
          "data": {
            "text/plain": [
              "<Figure size 640x480 with 1 Axes>"
            ],
            "image/png": "[encoded data removed]"
          },
          "metadata": {}
        }
      ]
    },
    {
      "cell_type": "markdown",
      "source": [
        "It looks like the attacks have been generally decreasing since 2016, but a general increase from 1940-2015"
      ],
      "metadata": {
        "id": "AsPHQMA7E608"
      },
      "id": "AsPHQMA7E608"
    },
    {
      "cell_type": "markdown",
      "source": [
        "QUESTION 2 PART 4"
      ],
      "metadata": {
        "id": "nyiAjW2dFcpF"
      },
      "id": "nyiAjW2dFcpF"
    },
    {
      "cell_type": "code",
      "source": [
        "df3['Age'].head() # looking at the data"
      ],
      "metadata": {
        "colab": {
          "base_uri": "https://localhost:8080/",
          "height": 241
        },
        "id": "qUyAGKEHFgif",
        "outputId": "717b3fee-a7fe-45c4-cb22-efe941fd670d"
      },
      "id": "qUyAGKEHFgif",
      "execution_count": 646,
      "outputs": [
        {
          "output_type": "execute_result",
          "data": {
            "text/plain": [
              "5     69\n",
              "6     48\n",
              "7     40\n",
              "8    60+\n",
              "9      ?\n",
              "Name: Age, dtype: object"
            ],
            "text/html": [
              "<div>\n",
              "<style scoped>\n",
              "    .dataframe tbody tr th:only-of-type {\n",
              "        vertical-align: middle;\n",
              "    }\n",
              "\n",
              "    .dataframe tbody tr th {\n",
              "        vertical-align: top;\n",
              "    }\n",
              "\n",
              "    .dataframe thead th {\n",
              "        text-align: right;\n",
              "    }\n",
              "</style>\n",
              "<table border=\"1\" class=\"dataframe\">\n",
              "  <thead>\n",
              "    <tr style=\"text-align: right;\">\n",
              "      <th></th>\n",
              "      <th>Age</th>\n",
              "    </tr>\n",
              "  </thead>\n",
              "  <tbody>\n",
              "    <tr>\n",
              "      <th>5</th>\n",
              "      <td>69</td>\n",
              "    </tr>\n",
              "    <tr>\n",
              "      <th>6</th>\n",
              "      <td>48</td>\n",
              "    </tr>\n",
              "    <tr>\n",
              "      <th>7</th>\n",
              "      <td>40</td>\n",
              "    </tr>\n",
              "    <tr>\n",
              "      <th>8</th>\n",
              "      <td>60+</td>\n",
              "    </tr>\n",
              "    <tr>\n",
              "      <th>9</th>\n",
              "      <td>?</td>\n",
              "    </tr>\n",
              "  </tbody>\n",
              "</table>\n",
              "</div><br><label><b>dtype:</b> object</label>"
            ]
          },
          "metadata": {},
          "execution_count": 646
        }
      ]
    },
    {
      "cell_type": "code",
      "source": [
        "df3['Age'].unique() # checking the unique values"
      ],
      "metadata": {
        "colab": {
          "base_uri": "https://localhost:8080/"
        },
        "id": "peN22lOOFlxd",
        "outputId": "b230700e-fc56-4392-a0f5-8054bcf7db05"
      },
      "id": "peN22lOOFlxd",
      "execution_count": 647,
      "outputs": [
        {
          "output_type": "execute_result",
          "data": {
            "text/plain": [
              "array([69, 48, 40, '60+', '?', 57, 24, 45, 61, 27, 38, 16, 33, 30, 15, 23,\n",
              "       41, 14, 26, 'Middle age', 21, 49, 25, 46, 19, 20, 65, 64, '13',\n",
              "       nan, '11', '46', '32', '29', '10', '64', '62', '39', '22', '15',\n",
              "       '16', '21', '66', '52', '20', '44', '26', '47', '55', '30', '59',\n",
              "       '8', '50', '45', '34', '38', '30s', '37', '9', '19', '20/30', '35',\n",
              "       '65', '20s', '77', '60', '49', '42', '!2', '24', '73', '25', '18',\n",
              "       '50s', '58', '67', '17', '14', '6', '41', '53', '68', '43', '40',\n",
              "       '51', '31', 39, 58, 51, 17, 10, 13, 60, 28, '40s', 68, 35, 62,\n",
              "       'teen', 8, 22, 32, 56, 'Teen', 12, 42, 36, 18, 37, 50, 'M', 9, 11,\n",
              "       34, '!6', 31, '!!', 47, 55, 7, 71, 59, 53, 54, 75, '45 and 15', 73,\n",
              "       52, 29, 70, 4, 63, 44, '28 & 22', '22, 57, 31', '60s', \"20's\", 43,\n",
              "       67, 74, '9 & 60', 'a minor', 6, 3, 82, 66, 72, '23', '12', '36',\n",
              "       '63', '71', '48', '70', '18 months', '57', '7', '28', '33', '61',\n",
              "       '74', '27', '3', '56', '28 & 26', '5', '54', '86', '18 or 20',\n",
              "       '12 or 13', '46 & 34', '28, 23 & 30', 'Teens', 77, '36 & 26',\n",
              "       '8 or 10', 84, '\\xa0 ', ' ', '30 or 36', '6½', '21 & ?',\n",
              "       '33 or 37', 'mid-30s', '23 & 20', 5, ' 30', '7      &    31',\n",
              "       ' 28', '20?', \"60's\", '69', '32 & 30', '16 to 18', '87', 'Elderly',\n",
              "       'mid-20s', 'Ca. 33', '74 ', '45 ', '21 or 26', '20 ', '>50',\n",
              "       '18 to 22', 'adult', '9 & 12', '? & 19', '9 months', '25 to 35',\n",
              "       '23 & 26', 1, '(adult)', '33 & 37', '25 or 28',\n",
              "       '37, 67, 35, 27,  ? & 27', '21, 34,24 & 35', '30 & 32', '50 & 30',\n",
              "       '17 & 35', 'X', '\"middle-age\"', '13 or 18', '34 & 19', '33 & 26',\n",
              "       '2 to 3 months', '4', 'MAKE LINE GREEN', ' 43', '81', '\"young\"',\n",
              "       '7 or 8', 78, '17 & 16', 'F'], dtype=object)"
            ]
          },
          "metadata": {},
          "execution_count": 647
        }
      ]
    },
    {
      "cell_type": "code",
      "source": [
        "df3['Age'] = pd.to_numeric(df3['Age'], errors='coerce')"
      ],
      "metadata": {
        "id": "efAlPTegFrPk"
      },
      "id": "efAlPTegFrPk",
      "execution_count": 648,
      "outputs": []
    },
    {
      "cell_type": "code",
      "source": [
        "# We need to use a function to clean things in order\n",
        "def clean(age):\n",
        "  if isinstance(age, str):\n",
        "    if age.isdigit():\n",
        "      return float(age)\n",
        "    if \"teen\" in age: # this groups up the teen result into the age 15\n",
        "      return 15\n",
        "    elif \"middle age\" in age or \"40s\" in age or \"50s\" in age: # this groups up middle age values as 40\n",
        "      return 40\n",
        "    elif \"elderly\" in age or \"60s\" in age or \"70s\" in age: # this groups old/big age numbers as 60\n",
        "      return 60\n",
        "    elif \"young\" in age or \"20s\" in age or \"30s\" in age or \"adult\" in age: # this groups adults as 25\n",
        "      return 25\n",
        "    elif age in ['?','!', 'x', 'f','unknown','a minor']: # this put weird values as NAN ( we can drop those later)\n",
        "      return None\n",
        "  return age\n",
        "\n",
        "  df3['Age']= af3['Age'].appply(clean) # apply this function to the 'Age column)\n"
      ],
      "metadata": {
        "id": "kcOedlluGJ8s"
      },
      "id": "kcOedlluGJ8s",
      "execution_count": 649,
      "outputs": []
    },
    {
      "cell_type": "code",
      "source": [
        "df3= df3.dropna(subset=['Age']) # dropping the missing values"
      ],
      "metadata": {
        "id": "oTj4qwF2L7E6"
      },
      "id": "oTj4qwF2L7E6",
      "execution_count": 650,
      "outputs": []
    },
    {
      "cell_type": "code",
      "source": [
        "df3['Age'].unique()# checking if data was cleaned"
      ],
      "metadata": {
        "colab": {
          "base_uri": "https://localhost:8080/"
        },
        "id": "sHVSAErILxln",
        "outputId": "1f95500a-e7f8-4e59-9a05-34feafee6b29"
      },
      "id": "sHVSAErILxln",
      "execution_count": 651,
      "outputs": [
        {
          "output_type": "execute_result",
          "data": {
            "text/plain": [
              "array([69., 48., 40., 57., 24., 45., 61., 27., 38., 16., 33., 30., 15.,\n",
              "       23., 41., 14., 26., 21., 49., 25., 46., 19., 20., 65., 64., 13.,\n",
              "       11., 32., 29., 10., 62., 39., 22., 66., 52., 44., 47., 55., 59.,\n",
              "        8., 50., 34., 37.,  9., 35., 77., 60., 42., 73., 18., 58., 67.,\n",
              "       17.,  6., 53., 68., 43., 51., 31., 28., 56., 12., 36.,  7., 71.,\n",
              "       54., 75., 70.,  4., 63., 74.,  3., 82., 72.,  5., 86., 84., 87.,\n",
              "        1., 81., 78.])"
            ]
          },
          "metadata": {},
          "execution_count": 651
        }
      ]
    },
    {
      "cell_type": "code",
      "source": [
        "df3['Age'].hist(bins=10) # making a histogram\n",
        "plt.title(\"Distribution of Shark Attacks among age\")\n",
        "plt.xlabel(\"Age\")\n",
        "plt.ylabel(\"Frequency\")\n",
        "plt.grid(False)\n",
        "plt.show()"
      ],
      "metadata": {
        "colab": {
          "base_uri": "https://localhost:8080/",
          "height": 472
        },
        "id": "H5Z4JmMNMn99",
        "outputId": "322fbb8a-c15a-43db-f793-9bcd9655792a"
      },
      "id": "H5Z4JmMNMn99",
      "execution_count": 652,
      "outputs": [
        {
          "output_type": "display_data",
          "data": {
            "text/plain": [
              "<Figure size 640x480 with 1 Axes>"
            ],
            "image/png": "[encoded data removed]"
          },
          "metadata": {}
        }
      ]
    },
    {
      "cell_type": "markdown",
      "source": [
        "QUESTION 2 PART 5"
      ],
      "metadata": {
        "id": "yTtYRz0KOWI6"
      },
      "id": "yTtYRz0KOWI6"
    },
    {
      "cell_type": "code",
      "source": [
        "mp= (df3['Sex']== 'M').sum() / len(df3['Sex'])*100 # checking the proportion of males\n",
        "mp"
      ],
      "metadata": {
        "colab": {
          "base_uri": "https://localhost:8080/"
        },
        "id": "D7m1Y-uyNuxl",
        "outputId": "4feb049d-b74b-42fa-eee6-3e3d84949415"
      },
      "id": "D7m1Y-uyNuxl",
      "execution_count": 653,
      "outputs": [
        {
          "output_type": "execute_result",
          "data": {
            "text/plain": [
              "83.72747747747748"
            ]
          },
          "metadata": {},
          "execution_count": 653
        }
      ]
    },
    {
      "cell_type": "markdown",
      "source": [
        "Looks like over 83% of people were male"
      ],
      "metadata": {
        "id": "XgcLERgrOJRA"
      },
      "id": "XgcLERgrOJRA"
    },
    {
      "cell_type": "markdown",
      "source": [
        "QUESTION 2 PART 6"
      ],
      "metadata": {
        "id": "gxXp4uyeOZ0w"
      },
      "id": "gxXp4uyeOZ0w"
    },
    {
      "cell_type": "code",
      "source": [
        "df3['Type'].unique() # checking the unique values"
      ],
      "metadata": {
        "colab": {
          "base_uri": "https://localhost:8080/"
        },
        "id": "FY4k8aoZOeyb",
        "outputId": "372027b2-5692-40f3-f0d2-f8b5843d3180"
      },
      "id": "FY4k8aoZOeyb",
      "execution_count": 654,
      "outputs": [
        {
          "output_type": "execute_result",
          "data": {
            "text/plain": [
              "array(['Unprovoked', 'Provoked', 'Questionable', 'Watercraft',\n",
              "       'Sea Disaster', '?', nan, 'Invalid', 'Under investigation'],\n",
              "      dtype=object)"
            ]
          },
          "metadata": {},
          "execution_count": 654
        }
      ]
    },
    {
      "cell_type": "markdown",
      "source": [
        "We only want Unprovoked, provoked, and other ( we can delete this later because we only want provoked or unprovoked)"
      ],
      "metadata": {
        "id": "10CTbLp8PSAX"
      },
      "id": "10CTbLp8PSAX"
    },
    {
      "cell_type": "code",
      "source": [
        "# Lets create another function\n",
        "def clean1(type):\n",
        "  if type == 'Provoked':\n",
        "    return 'Provoked'\n",
        "  elif type == 'Unprovoked':\n",
        "    return 'Unprovoked'\n",
        "  else:\n",
        "    return 'Other'\n",
        "\n",
        "df3['Type']= df3['Type'].apply(clean1) # applying the function"
      ],
      "metadata": {
        "id": "LA1A-aIgPc4Z"
      },
      "id": "LA1A-aIgPc4Z",
      "execution_count": 655,
      "outputs": []
    },
    {
      "cell_type": "code",
      "source": [
        "df3['Type'].unique() # checking if the function worked"
      ],
      "metadata": {
        "colab": {
          "base_uri": "https://localhost:8080/"
        },
        "id": "N0CCTZ-tPv1Z",
        "outputId": "1377b7ca-691f-4a80-f43f-c27208aecdda"
      },
      "id": "N0CCTZ-tPv1Z",
      "execution_count": 656,
      "outputs": [
        {
          "output_type": "execute_result",
          "data": {
            "text/plain": [
              "array(['Unprovoked', 'Provoked', 'Other'], dtype=object)"
            ]
          },
          "metadata": {},
          "execution_count": 656
        }
      ]
    },
    {
      "cell_type": "code",
      "source": [
        "df3['Type'].value_counts(normalize=True) # checking the proportion"
      ],
      "metadata": {
        "colab": {
          "base_uri": "https://localhost:8080/",
          "height": 209
        },
        "id": "itIlGntIPt-M",
        "outputId": "30f6b3fa-8f94-46fb-d428-48fb4b9c9daa"
      },
      "id": "itIlGntIPt-M",
      "execution_count": 657,
      "outputs": [
        {
          "output_type": "execute_result",
          "data": {
            "text/plain": [
              "Type\n",
              "Unprovoked    0.831081\n",
              "Other         0.087275\n",
              "Provoked      0.081644\n",
              "Name: proportion, dtype: float64"
            ],
            "text/html": [
              "<div>\n",
              "<style scoped>\n",
              "    .dataframe tbody tr th:only-of-type {\n",
              "        vertical-align: middle;\n",
              "    }\n",
              "\n",
              "    .dataframe tbody tr th {\n",
              "        vertical-align: top;\n",
              "    }\n",
              "\n",
              "    .dataframe thead th {\n",
              "        text-align: right;\n",
              "    }\n",
              "</style>\n",
              "<table border=\"1\" class=\"dataframe\">\n",
              "  <thead>\n",
              "    <tr style=\"text-align: right;\">\n",
              "      <th></th>\n",
              "      <th>proportion</th>\n",
              "    </tr>\n",
              "    <tr>\n",
              "      <th>Type</th>\n",
              "      <th></th>\n",
              "    </tr>\n",
              "  </thead>\n",
              "  <tbody>\n",
              "    <tr>\n",
              "      <th>Unprovoked</th>\n",
              "      <td>0.831081</td>\n",
              "    </tr>\n",
              "    <tr>\n",
              "      <th>Other</th>\n",
              "      <td>0.087275</td>\n",
              "    </tr>\n",
              "    <tr>\n",
              "      <th>Provoked</th>\n",
              "      <td>0.081644</td>\n",
              "    </tr>\n",
              "  </tbody>\n",
              "</table>\n",
              "</div><br><label><b>dtype:</b> float64</label>"
            ]
          },
          "metadata": {},
          "execution_count": 657
        }
      ]
    },
    {
      "cell_type": "markdown",
      "source": [
        "Looks like 83% of the attaks were unprovoked"
      ],
      "metadata": {
        "id": "lJfgE2eyQcWH"
      },
      "id": "lJfgE2eyQcWH"
    },
    {
      "cell_type": "markdown",
      "source": [
        "QUESTION 2 PART 7"
      ],
      "metadata": {
        "id": "tyb6Pm4fQjPB"
      },
      "id": "tyb6Pm4fQjPB"
    },
    {
      "cell_type": "code",
      "source": [
        "df3['Fatal Y/N'].unique() # checking the unique values"
      ],
      "metadata": {
        "colab": {
          "base_uri": "https://localhost:8080/"
        },
        "id": "abPppnqaQsR2",
        "outputId": "30542bd4-9a9b-4066-aab9-3a57fd485b65"
      },
      "id": "abPppnqaQsR2",
      "execution_count": 658,
      "outputs": [
        {
          "output_type": "execute_result",
          "data": {
            "text/plain": [
              "array(['N', 'Y', 'F', nan, 'M', 2017, 'UNKNOWN', ' N'], dtype=object)"
            ]
          },
          "metadata": {},
          "execution_count": 658
        }
      ]
    },
    {
      "cell_type": "code",
      "source": [
        "df3['Fatal Y/N'].isnull().sum() # checking for missing values ( 201 missing values)"
      ],
      "metadata": {
        "colab": {
          "base_uri": "https://localhost:8080/"
        },
        "id": "i_bDA8WCQ4YC",
        "outputId": "c8ab70dd-efbb-4022-da10-dccd26a3b511"
      },
      "id": "i_bDA8WCQ4YC",
      "execution_count": 659,
      "outputs": [
        {
          "output_type": "execute_result",
          "data": {
            "text/plain": [
              "201"
            ]
          },
          "metadata": {},
          "execution_count": 659
        }
      ]
    },
    {
      "cell_type": "code",
      "source": [
        "def clean3(fatal):\n",
        "  if fatal == 'N':\n",
        "    return 'N'\n",
        "  elif fatal == 'Y':\n",
        "    return 'Y'\n",
        "  else:\n",
        "    return 'Unknown'"
      ],
      "metadata": {
        "id": "Acq5ATwSQ--D"
      },
      "id": "Acq5ATwSQ--D",
      "execution_count": 660,
      "outputs": []
    },
    {
      "cell_type": "code",
      "source": [
        "menu=df3[(df3['Type']== 'Unprovoked') & (df3['Sex']== 'M')].shape[0]\n",
        "print(menu)\n",
        "menw=df3[(df3['Type']== 'Unprovoked') & (df3['Sex']== 'F')].shape[0]\n",
        "print(menw)"
      ],
      "metadata": {
        "colab": {
          "base_uri": "https://localhost:8080/"
        },
        "id": "Vo5134_LT1Kb",
        "outputId": "0e3f1e37-7bfd-48ac-8f68-0dbdb700a4e6"
      },
      "id": "Vo5134_LT1Kb",
      "execution_count": 661,
      "outputs": [
        {
          "output_type": "stream",
          "name": "stdout",
          "text": [
            "2453\n",
            "474\n"
          ]
        }
      ]
    },
    {
      "cell_type": "markdown",
      "source": [
        "It looks like unporovked attacks are more likely to launch men"
      ],
      "metadata": {
        "id": "5s1HUvMfVIqH"
      },
      "id": "5s1HUvMfVIqH"
    },
    {
      "cell_type": "code",
      "source": [
        "fetalunpm= df3[(df3['Type']== 'Unprovoked') & (df3['Fatal Y/N']== 'Y')].shape[0]\n",
        "print(fetalunpm)\n",
        "fetalunpmp= df3[(df3['Type']== 'Provoked') & (df3['Fatal Y/N']== 'Y')].shape[0]\n",
        "print(fetalunpmp)"
      ],
      "metadata": {
        "colab": {
          "base_uri": "https://localhost:8080/"
        },
        "id": "hppxSaZdTg04",
        "outputId": "e3471b3f-e304-454f-856d-e7303813bfa9"
      },
      "id": "hppxSaZdTg04",
      "execution_count": 662,
      "outputs": [
        {
          "output_type": "stream",
          "name": "stdout",
          "text": [
            "480\n",
            "8\n"
          ]
        }
      ]
    },
    {
      "cell_type": "markdown",
      "source": [
        "It looks like unprovoked had more fetality"
      ],
      "metadata": {
        "id": "Z3GcyGwSVn0Q"
      },
      "id": "Z3GcyGwSVn0Q"
    },
    {
      "cell_type": "code",
      "source": [
        "mf= df3[(df3['Sex']== 'M') & (df3['Fatal Y/N']== 'Y')].shape[0]\n",
        "print(mf)\n",
        "ff= df3[(df3['Sex']== 'F') & (df3['Fatal Y/N']== 'Y')].shape[0]\n",
        "print(ff)"
      ],
      "metadata": {
        "colab": {
          "base_uri": "https://localhost:8080/"
        },
        "id": "B13-DhUBV5Xk",
        "outputId": "6433a663-bdd6-46b2-d114-e832c3abb86d"
      },
      "id": "B13-DhUBV5Xk",
      "execution_count": 663,
      "outputs": [
        {
          "output_type": "stream",
          "name": "stdout",
          "text": [
            "436\n",
            "73\n"
          ]
        }
      ]
    },
    {
      "cell_type": "markdown",
      "source": [
        "It looks like more likely it's fetal for male."
      ],
      "metadata": {
        "id": "HEB8gsjkWIGd"
      },
      "id": "HEB8gsjkWIGd"
    },
    {
      "cell_type": "markdown",
      "source": [
        "QUESTION 2 PART 8"
      ],
      "metadata": {
        "id": "81yciWD1n9j7"
      },
      "id": "81yciWD1n9j7"
    },
    {
      "cell_type": "code",
      "source": [
        "df3['Species '].unique() # checking the unique values"
      ],
      "metadata": {
        "colab": {
          "base_uri": "https://localhost:8080/"
        },
        "id": "4JmV4SB0X3VT",
        "outputId": "065e421e-c42d-42de-c1b1-4707d40b72bf"
      },
      "id": "4JmV4SB0X3VT",
      "execution_count": 664,
      "outputs": [
        {
          "output_type": "execute_result",
          "data": {
            "text/plain": [
              "array(['Reportedly a Tiger Shark', 'Unknown ', 'Unknown', ...,\n",
              "       \"Mako shark (aka bonito shark) 1.2 m [4'] \",\n",
              "       'White shark, species identity confirmed by tooth pattern',\n",
              "       'White shark, 160-kg [353-lb], identity confirmed by tooth pattern'],\n",
              "      dtype=object)"
            ]
          },
          "metadata": {},
          "execution_count": 664
        }
      ]
    },
    {
      "cell_type": "code",
      "source": [
        "df3.rename(columns={'Species ': 'Species'}, inplace=True)"
      ],
      "metadata": {
        "id": "Sn-I4L2HYWGD"
      },
      "id": "Sn-I4L2HYWGD",
      "execution_count": 665,
      "outputs": []
    },
    {
      "cell_type": "code",
      "source": [
        "df3['Species'].value_counts() # checking the values"
      ],
      "metadata": {
        "colab": {
          "base_uri": "https://localhost:8080/",
          "height": 489
        },
        "id": "oFZExefTbkV2",
        "outputId": "7357b81b-8da3-420a-a628-d6320e6335d6"
      },
      "id": "oFZExefTbkV2",
      "execution_count": 666,
      "outputs": [
        {
          "output_type": "execute_result",
          "data": {
            "text/plain": [
              "Species\n",
              "White shark                                                          107\n",
              "Bull shark                                                            52\n",
              "Tiger shark                                                           51\n",
              "Shark involvement not confirmed                                       51\n",
              "Invalid                                                               39\n",
              "                                                                    ... \n",
              "Thought to involve a 2.5 m bull or tiger shark                         1\n",
              "White shark, 11'?                                                      1\n",
              "4.9 m to 5.5 m [16' to 18'] white shark                                1\n",
              "Blacktip reef shark, juvenile                                          1\n",
              "White shark, 160-kg [353-lb], identity confirmed by tooth pattern      1\n",
              "Name: count, Length: 1135, dtype: int64"
            ],
            "text/html": [
              "<div>\n",
              "<style scoped>\n",
              "    .dataframe tbody tr th:only-of-type {\n",
              "        vertical-align: middle;\n",
              "    }\n",
              "\n",
              "    .dataframe tbody tr th {\n",
              "        vertical-align: top;\n",
              "    }\n",
              "\n",
              "    .dataframe thead th {\n",
              "        text-align: right;\n",
              "    }\n",
              "</style>\n",
              "<table border=\"1\" class=\"dataframe\">\n",
              "  <thead>\n",
              "    <tr style=\"text-align: right;\">\n",
              "      <th></th>\n",
              "      <th>count</th>\n",
              "    </tr>\n",
              "    <tr>\n",
              "      <th>Species</th>\n",
              "      <th></th>\n",
              "    </tr>\n",
              "  </thead>\n",
              "  <tbody>\n",
              "    <tr>\n",
              "      <th>White shark</th>\n",
              "      <td>107</td>\n",
              "    </tr>\n",
              "    <tr>\n",
              "      <th>Bull shark</th>\n",
              "      <td>52</td>\n",
              "    </tr>\n",
              "    <tr>\n",
              "      <th>Tiger shark</th>\n",
              "      <td>51</td>\n",
              "    </tr>\n",
              "    <tr>\n",
              "      <th>Shark involvement not confirmed</th>\n",
              "      <td>51</td>\n",
              "    </tr>\n",
              "    <tr>\n",
              "      <th>Invalid</th>\n",
              "      <td>39</td>\n",
              "    </tr>\n",
              "    <tr>\n",
              "      <th>...</th>\n",
              "      <td>...</td>\n",
              "    </tr>\n",
              "    <tr>\n",
              "      <th>Thought to involve a 2.5 m bull or tiger shark</th>\n",
              "      <td>1</td>\n",
              "    </tr>\n",
              "    <tr>\n",
              "      <th>White shark, 11'?</th>\n",
              "      <td>1</td>\n",
              "    </tr>\n",
              "    <tr>\n",
              "      <th>4.9 m to 5.5 m [16' to 18'] white shark</th>\n",
              "      <td>1</td>\n",
              "    </tr>\n",
              "    <tr>\n",
              "      <th>Blacktip reef shark, juvenile</th>\n",
              "      <td>1</td>\n",
              "    </tr>\n",
              "    <tr>\n",
              "      <th>White shark, 160-kg [353-lb], identity confirmed by tooth pattern</th>\n",
              "      <td>1</td>\n",
              "    </tr>\n",
              "  </tbody>\n",
              "</table>\n",
              "<p>1135 rows × 1 columns</p>\n",
              "</div><br><label><b>dtype:</b> int64</label>"
            ]
          },
          "metadata": {},
          "execution_count": 666
        }
      ]
    },
    {
      "cell_type": "markdown",
      "source": [
        "Looks likes I have to use the .split and make everything lowercase so that I can traverse through this and get the value counts for the white shark species"
      ],
      "metadata": {
        "id": "lDDOPjttoN-L"
      },
      "id": "lDDOPjttoN-L"
    },
    {
      "cell_type": "code",
      "source": [
        "# we can use the str.split() to split the words in the columns into a list of words\n",
        "df3['Species'] = df3['Species'].str.split()"
      ],
      "metadata": {
        "id": "seZavFFJoNtU"
      },
      "id": "seZavFFJoNtU",
      "execution_count": 667,
      "outputs": []
    },
    {
      "cell_type": "code",
      "source": [
        "df3['Species'] = df3['Species'].apply(lambda x: str(x).lower() if isinstance(x, str) else str(x))\n"
      ],
      "metadata": {
        "id": "SCBGjh_epMv2"
      },
      "id": "SCBGjh_epMv2",
      "execution_count": 669,
      "outputs": []
    },
    {
      "cell_type": "code",
      "source": [
        "# we can use the .lower function to make traversing easier without worrying about case sensitive\n",
        "df3['Species'] = df3['Species'].apply(lambda x: [word.lower() for word in x])"
      ],
      "metadata": {
        "id": "pI62cikZorhz"
      },
      "id": "pI62cikZorhz",
      "execution_count": 670,
      "outputs": []
    },
    {
      "cell_type": "code",
      "source": [
        "df3['Species'].head()"
      ],
      "metadata": {
        "colab": {
          "base_uri": "https://localhost:8080/",
          "height": 241
        },
        "id": "EYObJN-spQep",
        "outputId": "2f328be5-5e6e-40a0-cde1-650ed852e9ce"
      },
      "id": "EYObJN-spQep",
      "execution_count": 671,
      "outputs": [
        {
          "output_type": "execute_result",
          "data": {
            "text/plain": [
              "5     [[, ', r, e, p, o, r, t, e, d, l, y, ', ,,  , ...\n",
              "6     [[, ', r, e, p, o, r, t, e, d, l, y, ', ,,  , ...\n",
              "7                     [[, ', u, n, k, n, o, w, n, ', ]]\n",
              "10                    [[, ', u, n, k, n, o, w, n, ', ]]\n",
              "11    [[, ', g, r, e, a, t, ', ,,  , ', w, h, i, t, ...\n",
              "Name: Species, dtype: object"
            ],
            "text/html": [
              "<div>\n",
              "<style scoped>\n",
              "    .dataframe tbody tr th:only-of-type {\n",
              "        vertical-align: middle;\n",
              "    }\n",
              "\n",
              "    .dataframe tbody tr th {\n",
              "        vertical-align: top;\n",
              "    }\n",
              "\n",
              "    .dataframe thead th {\n",
              "        text-align: right;\n",
              "    }\n",
              "</style>\n",
              "<table border=\"1\" class=\"dataframe\">\n",
              "  <thead>\n",
              "    <tr style=\"text-align: right;\">\n",
              "      <th></th>\n",
              "      <th>Species</th>\n",
              "    </tr>\n",
              "  </thead>\n",
              "  <tbody>\n",
              "    <tr>\n",
              "      <th>5</th>\n",
              "      <td>[[, ', r, e, p, o, r, t, e, d, l, y, ', ,,  , ...</td>\n",
              "    </tr>\n",
              "    <tr>\n",
              "      <th>6</th>\n",
              "      <td>[[, ', r, e, p, o, r, t, e, d, l, y, ', ,,  , ...</td>\n",
              "    </tr>\n",
              "    <tr>\n",
              "      <th>7</th>\n",
              "      <td>[[, ', u, n, k, n, o, w, n, ', ]]</td>\n",
              "    </tr>\n",
              "    <tr>\n",
              "      <th>10</th>\n",
              "      <td>[[, ', u, n, k, n, o, w, n, ', ]]</td>\n",
              "    </tr>\n",
              "    <tr>\n",
              "      <th>11</th>\n",
              "      <td>[[, ', g, r, e, a, t, ', ,,  , ', w, h, i, t, ...</td>\n",
              "    </tr>\n",
              "  </tbody>\n",
              "</table>\n",
              "</div><br><label><b>dtype:</b> object</label>"
            ]
          },
          "metadata": {},
          "execution_count": 671
        }
      ]
    },
    {
      "cell_type": "code",
      "source": [
        "white_shark_attacks = df3[df3['Species'].apply(lambda x: 'w' in x and 'h' in x and 'i' in x and 't' in x and 'e' in x and 's' in x and 'h' in x and 'a' in x and 'r' in x and 'k' in x)] # spelling out white shark in a lambda function to because we used .split()"
      ],
      "metadata": {
        "id": "De0g8uYapUuL"
      },
      "id": "De0g8uYapUuL",
      "execution_count": 685,
      "outputs": []
    },
    {
      "cell_type": "code",
      "source": [
        "a= white_shark_attacks.shape[0] # checking the number of white shark attacks"
      ],
      "metadata": {
        "id": "c5zsC2QNpfEJ"
      },
      "id": "c5zsC2QNpfEJ",
      "execution_count": 688,
      "outputs": []
    },
    {
      "cell_type": "code",
      "source": [
        "tot_white= a/df3.shape[0]*100 # checking the proportion of white shark attacks\n",
        "tot_white"
      ],
      "metadata": {
        "colab": {
          "base_uri": "https://localhost:8080/"
        },
        "id": "2zFBlljBqXYY",
        "outputId": "46162a6b-cffa-4801-9947-228ee807668b"
      },
      "id": "2zFBlljBqXYY",
      "execution_count": 689,
      "outputs": [
        {
          "output_type": "execute_result",
          "data": {
            "text/plain": [
              "14.893018018018017"
            ]
          },
          "metadata": {},
          "execution_count": 689
        }
      ]
    },
    {
      "cell_type": "markdown",
      "source": [
        "Looks like about 15% of attacks were from white sharks"
      ],
      "metadata": {
        "id": "TuYYfT7EqpGJ"
      },
      "id": "TuYYfT7EqpGJ"
    },
    {
      "cell_type": "markdown",
      "id": "5735a4d4-8be8-433a-a351-70eb8002e632",
      "metadata": {
        "id": "5735a4d4-8be8-433a-a351-70eb8002e632"
      },
      "source": [
        "**Q3.** Open the \"tidy_data.pdf\" document in the repo, which is a paper called Tidy Data by Hadley Wickham.\n",
        "\n",
        "  1. Read the abstract. What is this paper about?\n",
        "  2. Read the introduction. What is the \"tidy data standard\" intended to accomplish?\n",
        "  3. Read the intro to section 2. What does this sentence mean: \"Like families, tidy datasets are all alike but every messy dataset is messy in its own way.\" What does this sentence mean: \"For a given dataset, it’s usually easy to figure out what are observations and what are variables, but it is surprisingly difficult to precisely define variables and observations in general.\"\n",
        "  4. Read Section 2.2. How does Wickham define values, variables, and observations?\n",
        "  5. How is \"Tidy Data\" defined in section 2.3?\n",
        "  6. Read the intro to Section 3 and Section 3.1. What are the 5 most common problems with messy datasets? Why are the data in Table 4 messy? What is \"melting\" a dataset?\n",
        "  7. Why, specifically, is table 11 messy but table 12 tidy and \"molten\"?\n",
        "  8. Read Section 6. What is the \"chicken-and-egg\" problem with focusing on tidy data? What does Wickham hope happens in the future with further work on the subject of data wrangling?"
      ]
    },
    {
      "cell_type": "markdown",
      "id": "649494cd-cfd6-4f80-992a-9994fc19e1d5",
      "metadata": {
        "id": "649494cd-cfd6-4f80-992a-9994fc19e1d5"
      },
      "source": [
        "**Q4.** Many important datasets contain a race variable, typically limited to a handful of values often including Black, White, Asian, Latino, and Indigenous. This question looks at data gathering efforts on this variable by the U.S. Federal government.\n",
        "\n",
        "1. How did the most recent US Census gather data on race?\n",
        "2. Why do we gather these data? What role do these kinds of data play in politics and society? Why does data quality matter?\n",
        "3. Please provide a constructive criticism of how the Census was conducted: What was done well? What do you think was missing? How should future large scale surveys be adjusted to best reflect the diversity of the population? Could some of the Census' good practices be adopted more widely to gather richer and more useful data?\n",
        "4. How did the Census gather data on sex and gender? Please provide a similar constructive criticism of their practices.\n",
        "5. When it comes to cleaning data, what concerns do you have about protected characteristics like sex, gender, sexual identity, or race? What challenges can you imagine arising when there are missing values? What good or bad practices might people adopt, and why?\n",
        "6. Suppose someone invented an algorithm to impute values for protected characteristics like race, gender, sex, or sexuality. What kinds of concerns would you have?"
      ]
    },
    {
      "cell_type": "markdown",
      "source": [
        "QUESTION 1: The US census gathers data on self identifying ( can select more than on) and also OMB ( office of Management and Budget sets the standard for race/ethnicity\n",
        "\n",
        "QUESTION 2:  We collect these types of data because the government can get a good metircs quanity of how to allocate resoruces for funding/infastructure. We use them in society because it helps address unfairness/socio-economic status issues. It's important to gather reliable data because we wouldn't want to misuse/ be irresonsible with resources where it's needed most.\n",
        "\n",
        "QUESTION 3: I read that apparently underepresented communities ( Black Americans, Hispanics, Native Americans, are undercounted) which could be a major problem in representation/resource allocation. Although offering multiple options for race/ethnicity, I think it's important to diversify the options and not just group the remaining few races as other. Maybe in the future years, US could research more about different types of races and have more options. Also a good practice that could be done is making those types of questions eaiser to answer and less confusing/ (people will tend to skip over it)\n",
        "\n",
        "QUESTION 4: In 2020, the census gathered data based on a binary ( male or female) option. Although it was straight to the point, more specificty was needed. It should give them an option of assigned sex/gender and current gender/sex, or making an option of write in's so you could put any race you'd like.\n",
        "\n",
        "QUESTION 5: I guess the main concern for cleaning data on sensitve topics would be lack of knowledge. Let's say someone got to clean data about race, and he/she is unfamiliar with the race type and groups it with other. This serves as a problem because it shows lack of representation, and may result in producing bias. A bad practice would be considered deleting or filling in majority values in for unknown values. A good practice would be educating on such topics and include/ represent in the data set.\n",
        "\n",
        "QUESTION 6: This scenario represents systemic biases, and further highlighting the concerns for inequality. These imputations could result in misclassification/ deleting values of underrepresented groups- and this would show low accuracy ( decisions would be based on biased/inaccurate data)"
      ],
      "metadata": {
        "id": "sg4dIfUfrnw7"
      },
      "id": "sg4dIfUfrnw7"
    }
  ],
  "metadata": {
    "colab": {
      "provenance": []
    },
    "kernelspec": {
      "display_name": "Python 3 (ipykernel)",
      "language": "python",
      "name": "python3"
    },
    "language_info": {
      "codemirror_mode": {
        "name": "ipython",
        "version": 3
      },
      "file_extension": ".py",
      "mimetype": "text/x-python",
      "name": "python",
      "nbconvert_exporter": "python",
      "pygments_lexer": "ipython3",
      "version": "3.10.4"
    }
  },
  "nbformat": 4,
  "nbformat_minor": 5
}